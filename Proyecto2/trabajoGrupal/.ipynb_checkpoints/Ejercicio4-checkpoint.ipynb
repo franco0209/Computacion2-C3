{
 "cells": [
  {
   "cell_type": "markdown",
   "metadata": {},
   "source": [
    "<center> <h1>Universidad Nacional de San Agustín de Arequipa</h1> </center> \n",
    "<center> <h1>Escuela Profesional de Ingeniería de Telecomunicaciones</h1> </center> \n",
    "\n",
    "<center> <h1> </h1> </center> \n",
    "\n",
    "<center><img src=\"https://user-images.githubusercontent.com/19308295/115939517-f1c6fe80-a463-11eb-989c-812ab4942586.png\" width=\"380\" height=\"4200\"></center>"
   ]
  },
  {
   "cell_type": "markdown",
   "metadata": {},
   "source": [
    "<center> <h2>Ingeniero Renzo Bolivar - Docente DAIE</h2> </center> "
   ]
  },
  {
   "cell_type": "markdown",
   "metadata": {},
   "source": [
    "<center> <h1>Curso : Computación 2</h1> </center> "
   ]
  },
  {
   "cell_type": "markdown",
   "metadata": {},
   "source": [
    "![linea 1](https://user-images.githubusercontent.com/19308295/115926252-2b8a0c00-a448-11eb-9d9c-b43beaf0ff68.png)"
   ]
  },
  {
   "cell_type": "markdown",
   "metadata": {},
   "source": [
    "<center> <h1>Numpy Matemático</h1> </center> "
   ]
  },
  {
   "cell_type": "markdown",
   "metadata": {},
   "source": [
    "![linea 1](https://user-images.githubusercontent.com/19308295/115926252-2b8a0c00-a448-11eb-9d9c-b43beaf0ff68.png)"
   ]
  },
  {
   "cell_type": "markdown",
   "metadata": {},
   "source": [
    "# Descripción:"
   ]
  },
  {
   "cell_type": "markdown",
   "metadata": {},
   "source": [
    "En este notebook se explicarán los"
   ]
  },
  {
   "cell_type": "markdown",
   "metadata": {},
   "source": [
    "# Objetivos:"
   ]
  },
  {
   "cell_type": "markdown",
   "metadata": {},
   "source": [
    "algunas funciones importantes de pandas.\n",
    "\n",
    "[1. Matemática Básica](#1.-Matemática-Básica)<br>\n",
    "[2. Matemática Estadística](#2.-Matemática-Estadística)<br>\n",
    "[3. Procesamiento de señal (scipy.signal)](#3.-Procesamiento-de-señal-(scipy.signal))<br>\n",
    "\n",
    "\n",
    "[EJEMPLOS](#EJEMPLOS)<br>\n",
    "[EJERCICIOS](#EJERCICIOS)<br>\n",
    "[BIBLIOGRAFÍA](#BIBLIOGRAFÍA)<br>"
   ]
  },
  {
   "cell_type": "markdown",
   "metadata": {},
   "source": [
    "![linea 1](https://user-images.githubusercontent.com/19308295/115926252-2b8a0c00-a448-11eb-9d9c-b43beaf0ff68.png)"
   ]
  },
  {
   "cell_type": "markdown",
   "metadata": {},
   "source": [
    "![linea 2](https://user-images.githubusercontent.com/19308295/115926262-2fb62980-a448-11eb-8189-c2f10e499944.png)"
   ]
  },
  {
   "cell_type": "markdown",
   "metadata": {},
   "source": [
    "## <font color=#33A5FF>****EJERCICIOS****<tfont>"
   ]
  },
  {
   "cell_type": "markdown",
   "metadata": {},
   "source": [
    "### Ejercicio 4 - Investigar Como?"
   ]
  },
  {
   "cell_type": "markdown",
   "metadata": {},
   "source": [
    "Crear un programa que permita hacer operaciones con matrices en Python utilizando los módulos NumPy y SciPy para resolver la inversa, la multiplicación y la solución de un sistema de ecuaciones lineales. "
   ]
  },
  {
   "cell_type": "code",
   "execution_count": 80,
   "metadata": {},
   "outputs": [],
   "source": [
    "import numpy as np"
   ]
  },
  {
   "cell_type": "code",
   "execution_count": 81,
   "metadata": {},
   "outputs": [],
   "source": [
    "def main():\n",
    "    print(\"Operaciones con matrices utilizando NumPy\")\n",
    "    print(\"1. Inversa de una matriz\")\n",
    "    print(\"2. Multiplicación de matrices\")\n",
    "    print(\"3. Solución de un sistema de ecuaciones lineales\")\n",
    "    choice = int(input(\"Selecciona una opción (1)(2)(3)\"))\n",
    "\n",
    "    if choice == 1:\n",
    "        matrix = input_matrix()\n",
    "        if matrix is not None:\n",
    "            inverse = np.linalg.inv(matrix)\n",
    "            print(\"La inversa de la matriz es:\")\n",
    "            print(inverse)\n",
    "    elif choice == 2:\n",
    "        matrix1 = input_matrix(\"Ingrese la primera matriz: \")\n",
    "        matrix2 = input_matrix(\"Ingrese la segunda matriz: \")\n",
    "        if matrix1 is not None and matrix2 is not None:\n",
    "            product = np.matmul(matrix1, matrix2)\n",
    "            print(\"El producto de las matrices es:\")\n",
    "            print(product)\n",
    "    elif choice == 3:\n",
    "        coefficients = input_matrix(\"Ingrese la matriz de coeficientes del sistema de ecuaciones: \")\n",
    "        constants = input_matrix(\"Ingrese la matriz de constantes del sistema de ecuaciones: \", vector=True)\n",
    "        if coefficients is not None and constants is not None:\n",
    "            solution = np.linalg.solve(coefficients, constants)\n",
    "            print(\"La solución del sistema de ecuaciones es:\")\n",
    "            print(solution)\n",
    "    else:\n",
    "        print(\"Opción inválida\")"
   ]
  },
  {
   "cell_type": "code",
   "execution_count": 82,
   "metadata": {},
   "outputs": [],
   "source": [
    "def input_matrix(prompt=\"Ingrese la matriz: \", vector=False):\n",
    "    try:\n",
    "        rows = int(input(\"Número de filas: \"))\n",
    "        cols = int(input(\"Número de columnas: \"))\n",
    "        if vector:\n",
    "            print(\"Ingrese los elementos separados por espacios:\")\n",
    "            elements = list(map(float, input().split()))\n",
    "            matrix = np.array(elements).reshape((rows, cols))\n",
    "        else:\n",
    "            print(\"Ingrese los elementos separados por espacios, fila por fila:\")\n",
    "            matrix = []\n",
    "            for _ in range(rows):\n",
    "                row = list(map(float, input().split()))\n",
    "                matrix.append(row)\n",
    "            matrix = np.array(matrix)\n",
    "        return matrix\n",
    "    except ValueError:\n",
    "        print(\"Error: Ingrese números válidos\")\n",
    "        return None"
   ]
  },
  {
   "cell_type": "code",
   "execution_count": null,
   "metadata": {},
   "outputs": [
    {
     "name": "stdout",
     "output_type": "stream",
     "text": [
      "Operaciones con matrices utilizando NumPy\n",
      "1. Inversa de una matriz\n",
      "2. Multiplicación de matrices\n",
      "3. Solución de un sistema de ecuaciones lineales\n"
     ]
    }
   ],
   "source": [
    "if __name__ == \"__main__\":\n",
    "    main()"
   ]
  }
 ],
 "metadata": {
  "kernelspec": {
   "display_name": "Python 3 (ipykernel)",
   "language": "python",
   "name": "python3"
  },
  "language_info": {
   "codemirror_mode": {
    "name": "ipython",
    "version": 3
   },
   "file_extension": ".py",
   "mimetype": "text/x-python",
   "name": "python",
   "nbconvert_exporter": "python",
   "pygments_lexer": "ipython3",
   "version": "3.11.2"
  }
 },
 "nbformat": 4,
 "nbformat_minor": 4
}
