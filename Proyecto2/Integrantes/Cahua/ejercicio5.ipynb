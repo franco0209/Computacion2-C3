{
 "cells": [
  {
   "cell_type": "code",
   "execution_count": 3,
   "id": "30f43732-24ff-4b57-aff9-93dd08b79109",
   "metadata": {},
   "outputs": [],
   "source": [
    "\n",
    "import numpy as np\n",
    "from scipy.interpolate import lagrange\n",
    "import matplotlib.pyplot as plt\n",
    "\n",
    "def recibirDatos(N):\n",
    "    datos=[[],[]]\n",
    "    for i in range(N):\n",
    "        print(\"Ingrese la muestra número \",(i+1),\" \",\" de x:\")\n",
    "        x=float(input())\n",
    "        print(\"Ingrese la muestra número \",(i+1),\" \",\" de y:\")\n",
    "        y=float(input())\n",
    "        datos[0].append(x)\n",
    "        datos[1].append(y)\n",
    "    return datos\n",
    "def construirLagrange(datos,r0,rF):\n",
    "    # Calcular el polinomio de Lagrange\n",
    "    #print(datos[0])\n",
    "    #print(datos[1])\n",
    "    p = lagrange(datos[0], datos[1])\n",
    "    # Dom x:r0-rF\n",
    "    j=r0\n",
    "    X=[]\n",
    "    while j<=rF:   \n",
    "        X.append(j)\n",
    "        j+=0.1\n",
    "    Y=[]\n",
    "    Y=list(map(p,X))\n",
    "    #print(X)\n",
    "    #print(Y)\n",
    "    plt.plot(X, Y, color='blue', linewidth=2, linestyle='-')\n",
    "    plt.xlabel('x')\n",
    "    plt.ylabel('y(x)')\n",
    "    plt.title('Polinomio de Lagrange')\n",
    "    plt.grid(True)\n",
    "    plt.show()\n",
    "def usoDatos(N,r0,rF):\n",
    "    datos=recibirDatos(N)\n",
    "    construirLagrange(datos,r0,rF)\n",
    "def main():\n",
    "    try:\n",
    "        r0=int(input(\"Ingresar el rango inferior para trazar la gráfica del polinomio de Lagrange\"))\n",
    "        rF=int(input(\"Ingresar el rango superior para trazar la gráfica del polinomio de Lagrange\"))\n",
    "        N=int(input(\"Ingresar el número de muestras (x,y)\"))\n",
    "    except:\n",
    "        print(\"Datos inválidos, intentelo nuevamente.\")\n",
    "        main()\n",
    "        return\n",
    "    if(r0>=rF):\n",
    "        print(\"Datos inválidos, el rango inferior debe ser menor al rango superior!\")\n",
    "        main()\n",
    "        return\n",
    "    try:\n",
    "        usoDatos(N,r0,rF)\n",
    "    except Exception as e:\n",
    "        print(e)\n",
    "        usoDatos(N,r0,rF)\n",
    "    "
   ]
  },
  {
   "cell_type": "code",
   "execution_count": 4,
   "id": "60f880cf-3832-4475-83f0-0766c2b39b9e",
   "metadata": {},
   "outputs": [
    {
     "name": "stdin",
     "output_type": "stream",
     "text": [
      "Ingresar el rango inferior para trazar la gráfica del polinomio de Lagrange wazaaaa\n"
     ]
    },
    {
     "name": "stdout",
     "output_type": "stream",
     "text": [
      "Datos inválidos, intentelo nuevamente.\n"
     ]
    },
    {
     "name": "stdin",
     "output_type": "stream",
     "text": [
      "Ingresar el rango inferior para trazar la gráfica del polinomio de Lagrange raa\n"
     ]
    },
    {
     "name": "stdout",
     "output_type": "stream",
     "text": [
      "Datos inválidos, intentelo nuevamente.\n"
     ]
    },
    {
     "name": "stdin",
     "output_type": "stream",
     "text": [
      "Ingresar el rango inferior para trazar la gráfica del polinomio de Lagrange 5\n",
      "Ingresar el rango superior para trazar la gráfica del polinomio de Lagrange 10\n",
      "Ingresar el número de muestras (x,y) 2\n"
     ]
    },
    {
     "name": "stdout",
     "output_type": "stream",
     "text": [
      "Ingrese la muestra número  1    de x:\n"
     ]
    },
    {
     "name": "stdin",
     "output_type": "stream",
     "text": [
      " 1\n"
     ]
    },
    {
     "name": "stdout",
     "output_type": "stream",
     "text": [
      "Ingrese la muestra número  1    de y:\n"
     ]
    },
    {
     "name": "stdin",
     "output_type": "stream",
     "text": [
      " 100\n"
     ]
    },
    {
     "name": "stdout",
     "output_type": "stream",
     "text": [
      "Ingrese la muestra número  2    de x:\n"
     ]
    },
    {
     "name": "stdin",
     "output_type": "stream",
     "text": [
      " 2\n"
     ]
    },
    {
     "name": "stdout",
     "output_type": "stream",
     "text": [
      "Ingrese la muestra número  2    de y:\n"
     ]
    },
    {
     "name": "stdin",
     "output_type": "stream",
     "text": [
      " 101\n"
     ]
    },
    {
     "data": {
      "image/png": "[encoded data removed]",
      "text/plain": [
       "<Figure size 640x480 with 1 Axes>"
      ]
     },
     "metadata": {},
     "output_type": "display_data"
    }
   ],
   "source": [
    "main()"
   ]
  },
  {
   "cell_type": "code",
   "execution_count": null,
   "id": "ae5cd974-4ceb-498c-8330-2820e98ea290",
   "metadata": {},
   "outputs": [],
   "source": []
  }
 ],
 "metadata": {
  "kernelspec": {
   "display_name": "Python 3 (ipykernel)",
   "language": "python",
   "name": "python3"
  },
  "language_info": {
   "codemirror_mode": {
    "name": "ipython",
    "version": 3
   },
   "file_extension": ".py",
   "mimetype": "text/x-python",
   "name": "python",
   "nbconvert_exporter": "python",
   "pygments_lexer": "ipython3",
   "version": "3.12.3"
  }
 },
 "nbformat": 4,
 "nbformat_minor": 5
}
