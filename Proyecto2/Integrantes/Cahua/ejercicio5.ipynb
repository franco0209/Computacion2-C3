{
 "cells": [
  {
   "cell_type": "markdown",
   "id": "9217e33c-ef6f-4cf0-9445-53fa697bcbd7",
   "metadata": {},
   "source": [
    "#### Ejercicio 5"
   ]
  },
  {
   "cell_type": "code",
   "execution_count": null,
   "id": "adb186da-8f8a-42e4-bb99-3bfe1bc6f488",
   "metadata": {},
   "outputs": [],
   "source": [
    "\n",
    "import numpy as np\n",
    "from scipy.interpolate import lagrange\n",
    "import matplotlib.pyplot as plt\n",
    "\n",
    "def recibirDatos(N):\n",
    "    datos=[[],[]]\n",
    "    for i in range(N):\n",
    "        print(\"Ingrese la muestra número \",(i+1),\" \",\" de x:\")\n",
    "        x=float(input())\n",
    "        print(\"Ingrese la muestra número \",(i+1),\" \",\" de y:\")\n",
    "        y=float(input())\n",
    "        datos[0].append(x)\n",
    "        datos[1].append(y)\n",
    "    return datos\n",
    "def construirLagrange(datos,r0,rF):\n",
    "    # Calcular el polinomio de Lagrange\n",
    "    #print(datos[0])\n",
    "    #print(datos[1])\n",
    "    p = lagrange(datos[0], datos[1])\n",
    "    # Dom x:r0-rF\n",
    "    j=r0\n",
    "    X=[]\n",
    "    while j<=rF:   \n",
    "        X.append(j)\n",
    "        j+=0.1\n",
    "    Y=[]\n",
    "    Y=list(map(p,X))\n",
    "    #print(X)\n",
    "    #print(Y)\n",
    "    plt.plot(X, Y, color='blue', linewidth=2, linestyle='-')\n",
    "    plt.xlabel('x')\n",
    "    plt.ylabel('y(x)')\n",
    "    plt.title('Polinomio de Lagrange')\n",
    "    plt.grid(True)\n",
    "    plt.show()\n",
    "def usoDatos(N,r0,rF):\n",
    "    datos=recibirDatos(N)\n",
    "    construirLagrange(datos,r0,rF)\n",
    "def main():\n",
    "    try:\n",
    "        r0=int(input(\"Ingresar el rango inferior para trazar la gráfica del polinomio de Lagrange\"))\n",
    "        rF=int(input(\"Ingresar el rango superior para trazar la gráfica del polinomio de Lagrange\"))\n",
    "        N=int(input(\"Ingresar el número de muestras (x,y)\"))\n",
    "    except:\n",
    "        print(\"Datos inválidos, intentelo nuevamente.\")\n",
    "        main()\n",
    "        return\n",
    "    if(r0>=rF):\n",
    "        print(\"Datos inválidos, el rango inferior debe ser menor al rango superior!\")\n",
    "        main()\n",
    "        return\n",
    "    try:\n",
    "        usoDatos(N,r0,rF)\n",
    "    except Exception as e:\n",
    "        print(e)\n",
    "        usoDatos(N,r0,rF)\n",
    "    "
   ]
  },
  {
   "cell_type": "code",
   "execution_count": null,
   "id": "8e2569a2-1ae1-41fb-b8ff-026397d178d6",
   "metadata": {},
   "outputs": [],
   "source": [
    "main()"
   ]
  },
  {
   "cell_type": "code",
   "execution_count": null,
   "id": "5a88877c-ce8b-472b-8b39-36e77e7fa251",
   "metadata": {},
   "outputs": [],
   "source": []
  }
 ],
 "metadata": {
  "kernelspec": {
   "display_name": "Python 3 (ipykernel)",
   "language": "python",
   "name": "python3"
  },
  "language_info": {
   "codemirror_mode": {
    "name": "ipython",
    "version": 3
   },
   "file_extension": ".py",
   "mimetype": "text/x-python",
   "name": "python",
   "nbconvert_exporter": "python",
   "pygments_lexer": "ipython3",
   "version": "3.12.3"
  }
 },
 "nbformat": 4,
 "nbformat_minor": 5
}
