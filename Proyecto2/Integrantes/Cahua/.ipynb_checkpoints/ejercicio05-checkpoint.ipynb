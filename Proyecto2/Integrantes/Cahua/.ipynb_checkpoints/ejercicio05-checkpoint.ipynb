{
 "cells": [
  {
   "cell_type": "markdown",
   "id": "5b802a9e",
   "metadata": {},
   "source": [
    "#### Ejercicio 05\n"
   ]
  },
  {
   "cell_type": "markdown",
   "id": "90e2b37f",
   "metadata": {},
   "source": [
    "<img src=\"https://i.ibb.co/jWWrRx4/ej5.png\" alt=\"Texto alternativo\" style=\"width: 300px; height: 300 px;\"/>\n"
   ]
  },
  {
   "cell_type": "code",
   "execution_count": 13,
   "id": "ff4b5dd0",
   "metadata": {},
   "outputs": [
    {
     "data": {
      "text/plain": [
       "array([[ 1.,  2.,  3.,  4.,  5.],\n",
       "       [ 6.,  7.,  8.,  9., 10.],\n",
       "       [11., 12., 13., 14., 15.],\n",
       "       [16., 17., 18., 19., 20.],\n",
       "       [21., 22., 23., 24., 25.],\n",
       "       [26., 27., 28., 29., 30.]])"
      ]
     },
     "execution_count": 13,
     "metadata": {},
     "output_type": "execute_result"
    }
   ],
   "source": [
    "import numpy as np\n",
    "\n",
    "m= np.zeros((6,5))\n",
    "for i in range(m.shape[0]):\n",
    "    for j in range(m.shape[1]):\n",
    "        m[i][j]=((5*i)+j)+1\n",
    "m"
   ]
  },
  {
   "cell_type": "code",
   "execution_count": 16,
   "id": "75c96135",
   "metadata": {},
   "outputs": [
    {
     "data": {
      "text/plain": [
       "array([[11., 12.],\n",
       "       [16., 17.]])"
      ]
     },
     "execution_count": 16,
     "metadata": {},
     "output_type": "execute_result"
    }
   ],
   "source": [
    "azul=np.zeros((2,2))\n",
    "for i in range(azul.shape[0]):\n",
    "    for j in range(azul.shape[1]):\n",
    "        azul[i][j]=m[i+2][j]\n",
    "azul"
   ]
  },
  {
   "cell_type": "code",
   "execution_count": 17,
   "id": "e9616fae",
   "metadata": {},
   "outputs": [
    {
     "data": {
      "text/plain": [
       "array([[4., 5.]])"
      ]
     },
     "execution_count": 17,
     "metadata": {},
     "output_type": "execute_result"
    }
   ],
   "source": [
    "rojo1=np.zeros((1,2))\n",
    "for i in range(rojo1.shape[0]):\n",
    "    for j in range(rojo1.shape[1]):\n",
    "        rojo1[i][j]=m[i][j+3]\n",
    "rojo1"
   ]
  },
  {
   "cell_type": "code",
   "execution_count": 19,
   "id": "9a43ac49",
   "metadata": {},
   "outputs": [
    {
     "data": {
      "text/plain": [
       "array([[24., 25.],\n",
       "       [29., 30.]])"
      ]
     },
     "execution_count": 19,
     "metadata": {},
     "output_type": "execute_result"
    }
   ],
   "source": [
    "rojo2=np.zeros((2,2))\n",
    "for i in range(rojo2.shape[0]):\n",
    "    for j in range(rojo2.shape[1]):\n",
    "        rojo2[i][j]=m[i+4][j+3]\n",
    "rojo2"
   ]
  },
  {
   "cell_type": "code",
   "execution_count": 20,
   "id": "b1f554a8",
   "metadata": {},
   "outputs": [
    {
     "data": {
      "text/plain": [
       "array([[ 2.,  0.,  0.,  0.],\n",
       "       [ 0.,  8.,  0.,  0.],\n",
       "       [ 0.,  0., 14.,  0.],\n",
       "       [ 0.,  0.,  0., 20.]])"
      ]
     },
     "execution_count": 20,
     "metadata": {},
     "output_type": "execute_result"
    }
   ],
   "source": [
    "verde=np.zeros((4,4))\n",
    "for i in range(verde.shape[0]):\n",
    "    for j in range(verde.shape[1]):\n",
    "        if i==j:\n",
    "            verde[i][j]=m[i][j+1]\n",
    "verde"
   ]
  },
  {
   "cell_type": "code",
   "execution_count": null,
   "id": "48133d6e",
   "metadata": {},
   "outputs": [],
   "source": []
  }
 ],
 "metadata": {
  "kernelspec": {
   "display_name": "Python 3 (ipykernel)",
   "language": "python",
   "name": "python3"
  },
  "language_info": {
   "codemirror_mode": {
    "name": "ipython",
    "version": 3
   },
   "file_extension": ".py",
   "mimetype": "text/x-python",
   "name": "python",
   "nbconvert_exporter": "python",
   "pygments_lexer": "ipython3",
   "version": "3.11.2"
  }
 },
 "nbformat": 4,
 "nbformat_minor": 5
}
