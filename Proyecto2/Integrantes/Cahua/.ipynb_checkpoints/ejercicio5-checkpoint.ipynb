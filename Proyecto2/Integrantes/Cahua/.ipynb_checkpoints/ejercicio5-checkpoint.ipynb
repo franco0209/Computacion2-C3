{
 "cells": [
  {
   "cell_type": "markdown",
   "id": "9217e33c-ef6f-4cf0-9445-53fa697bcbd7",
   "metadata": {},
   "source": [
    "#### Ejercicio 5"
   ]
  },
  {
   "cell_type": "code",
   "execution_count": 1,
   "id": "adb186da-8f8a-42e4-bb99-3bfe1bc6f488",
   "metadata": {},
   "outputs": [],
   "source": [
    "\n",
    "import numpy as np\n",
    "from scipy.interpolate import lagrange\n",
    "import matplotlib.pyplot as plt\n",
    "\n",
    "def recibirDatos(N):\n",
    "    datos=[[],[]]\n",
    "    for i in range(N):\n",
    "        print(\"Ingrese la muestra número \",(i+1),\" \",\" de x:\")\n",
    "        x=float(input())\n",
    "        print(\"Ingrese la muestra número \",(i+1),\" \",\" de y:\")\n",
    "        y=float(input())\n",
    "        datos[0].append(x)\n",
    "        datos[1].append(y)\n",
    "    return datos\n",
    "def construirLagrange(datos,r0,rF):\n",
    "    # Calcular el polinomio de Lagrange\n",
    "    p = lagrange(datos[0], datos[1])\n",
    "    # Dom x:r0-rF\n",
    "    j=r0\n",
    "    X=[]\n",
    "    while j<=rF:   \n",
    "        X.append(j)\n",
    "        j+=0.1\n",
    "    Y=[]\n",
    "    Y=list(map(p,X))\n",
    "    plt.plot(X, Y)\n",
    "    plt.xlabel('x')\n",
    "    plt.ylabel('y(x)')\n",
    "    plt.title('Polinomio de Lagrange')\n",
    "    plt.show()\n",
    "    \n",
    "def main():\n",
    "    try:\n",
    "        r0=int(input(\"Ingresar el rango inferior para trazar la gráfica del polinomio de Lagrange\"))\n",
    "        rF=int(input(\"Ingresar el rango superior para trazar la gráfica del polinomio de Lagrange\"))\n",
    "        N=int(input(\"Ingresar el número de muestras (x,y)\"))\n",
    "    except:\n",
    "        print(\"Datos inválidos, intentelo nuevamente.\")\n",
    "        main()\n",
    "    if(r0>=rF):\n",
    "        print(\"Datos inválidos, el rango inferior debe ser menor al rango superior!\")\n",
    "        main()\n",
    "    datos=recibirDatos(N)\n",
    "    construirLagrange(datos,r0,rF)\n",
    "    "
   ]
  },
  {
   "cell_type": "code",
   "execution_count": 3,
   "id": "8e2569a2-1ae1-41fb-b8ff-026397d178d6",
   "metadata": {},
   "outputs": [
    {
     "name": "stdin",
     "output_type": "stream",
     "text": [
      "Ingresar el rango inferior para trazar la gráfica del polinomio de Lagrange 0\n",
      "Ingresar el rango superior para trazar la gráfica del polinomio de Lagrange 30\n",
      "Ingresar el número de muestras (x,y) 3\n"
     ]
    },
    {
     "name": "stdout",
     "output_type": "stream",
     "text": [
      "Ingrese la muestra número  1    de x:\n"
     ]
    },
    {
     "name": "stdin",
     "output_type": "stream",
     "text": [
      " 1\n"
     ]
    },
    {
     "name": "stdout",
     "output_type": "stream",
     "text": [
      "Ingrese la muestra número  1    de y:\n"
     ]
    },
    {
     "name": "stdin",
     "output_type": "stream",
     "text": [
      " 2\n"
     ]
    },
    {
     "name": "stdout",
     "output_type": "stream",
     "text": [
      "Ingrese la muestra número  2    de x:\n"
     ]
    },
    {
     "name": "stdin",
     "output_type": "stream",
     "text": [
      " 2\n"
     ]
    },
    {
     "name": "stdout",
     "output_type": "stream",
     "text": [
      "Ingrese la muestra número  2    de y:\n"
     ]
    },
    {
     "name": "stdin",
     "output_type": "stream",
     "text": [
      " 4\n"
     ]
    },
    {
     "name": "stdout",
     "output_type": "stream",
     "text": [
      "Ingrese la muestra número  3    de x:\n"
     ]
    },
    {
     "name": "stdin",
     "output_type": "stream",
     "text": [
      " 3\n"
     ]
    },
    {
     "name": "stdout",
     "output_type": "stream",
     "text": [
      "Ingrese la muestra número  3    de y:\n"
     ]
    },
    {
     "name": "stdin",
     "output_type": "stream",
     "text": [
      " 6\n"
     ]
    },
    {
     "data": {
      "image/png": "[encoded data removed]",
      "text/plain": [
       "<Figure size 640x480 with 1 Axes>"
      ]
     },
     "metadata": {},
     "output_type": "display_data"
    }
   ],
   "source": [
    "main()"
   ]
  },
  {
   "cell_type": "code",
   "execution_count": null,
   "id": "5a88877c-ce8b-472b-8b39-36e77e7fa251",
   "metadata": {},
   "outputs": [],
   "source": []
  }
 ],
 "metadata": {
  "kernelspec": {
   "display_name": "Python 3 (ipykernel)",
   "language": "python",
   "name": "python3"
  },
  "language_info": {
   "codemirror_mode": {
    "name": "ipython",
    "version": 3
   },
   "file_extension": ".py",
   "mimetype": "text/x-python",
   "name": "python",
   "nbconvert_exporter": "python",
   "pygments_lexer": "ipython3",
   "version": "3.12.3"
  }
 },
 "nbformat": 4,
 "nbformat_minor": 5
}
