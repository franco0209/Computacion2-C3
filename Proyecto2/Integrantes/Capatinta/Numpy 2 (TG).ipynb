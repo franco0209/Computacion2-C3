{
 "cells": [
  {
   "cell_type": "markdown",
   "metadata": {},
   "source": [
    "<center> <h1>Universidad Nacional de San Agustín de Arequipa</h1> </center> \n",
    "<center> <h1>Escuela Profesional de Ingeniería de Telecomunicaciones</h1> </center> \n",
    "\n",
    "<center> <h1> </h1> </center> \n",
    "\n",
    "<center><img src=\"https://user-images.githubusercontent.com/19308295/115939517-f1c6fe80-a463-11eb-989c-812ab4942586.png\" width=\"380\" height=\"4200\"></center>"
   ]
  },
  {
   "cell_type": "markdown",
   "metadata": {},
   "source": [
    "<center> <h2>Ingeniero Renzo Bolivar - Docente DAIE</h2> </center> "
   ]
  },
  {
   "cell_type": "markdown",
   "metadata": {},
   "source": [
    "<center> <h1>Curso : Computación 2</h1> </center> "
   ]
  },
  {
   "cell_type": "markdown",
   "metadata": {},
   "source": [
    "![linea 1](https://user-images.githubusercontent.com/19308295/115926252-2b8a0c00-a448-11eb-9d9c-b43beaf0ff68.png)"
   ]
  },
  {
   "cell_type": "markdown",
   "metadata": {},
   "source": [
    "<center> <h1>Numpy Matemático</h1> </center> "
   ]
  },
  {
   "cell_type": "markdown",
   "metadata": {},
   "source": [
    "![linea 1](https://user-images.githubusercontent.com/19308295/115926252-2b8a0c00-a448-11eb-9d9c-b43beaf0ff68.png)"
   ]
  },
  {
   "cell_type": "markdown",
   "metadata": {},
   "source": [
    "# Descripción:"
   ]
  },
  {
   "cell_type": "markdown",
   "metadata": {},
   "source": [
    "En este notebook se explicarán los"
   ]
  },
  {
   "cell_type": "markdown",
   "metadata": {},
   "source": [
    "# Objetivos:"
   ]
  },
  {
   "cell_type": "markdown",
   "metadata": {},
   "source": [
    "algunas funciones importantes de pandas.\n",
    "\n",
    "[1. Matemática Básica](#1.-Matemática-Básica)<br>\n",
    "[2. Matemática Estadística](#2.-Matemática-Estadística)<br>\n",
    "[3. Procesamiento de señal (scipy.signal)](#3.-Procesamiento-de-señal-(scipy.signal))<br>\n",
    "\n",
    "\n",
    "[EJEMPLOS](#EJEMPLOS)<br>\n",
    "[EJERCICIOS](#EJERCICIOS)<br>\n",
    "[BIBLIOGRAFÍA](#BIBLIOGRAFÍA)<br>"
   ]
  },
  {
   "cell_type": "markdown",
   "metadata": {},
   "source": [
    "![linea 1](https://user-images.githubusercontent.com/19308295/115926252-2b8a0c00-a448-11eb-9d9c-b43beaf0ff68.png)"
   ]
  },
  {
   "cell_type": "markdown",
   "metadata": {},
   "source": [
    "![linea 2](https://user-images.githubusercontent.com/19308295/115926262-2fb62980-a448-11eb-8189-c2f10e499944.png)"
   ]
  },
  {
   "cell_type": "markdown",
   "metadata": {},
   "source": [
    "## <font color=#33A5FF>****EJERCICIOS****<tfont>"
   ]
  },
  {
   "cell_type": "markdown",
   "metadata": {},
   "source": [
    "### Ejercicio 1 - Investigar Como?"
   ]
  },
  {
   "cell_type": "markdown",
   "metadata": {},
   "source": [
    "#### Resolver las siguientes ecuaciones:\n",
    "\n",
    "\n",
    "$$12x + 5y + z= 6$$\n",
    "$$6x + 10y + z = 8$$\n",
    "$$3x + 15y + z = 4$$\n",
    "\n",
    "\n",
    "\n",
    "#### Utilizando un método diferente al enseñado  $A*x =B$"
   ]
  },
  {
   "cell_type": "code",
   "execution_count": 10,
   "metadata": {},
   "outputs": [],
   "source": [
    "from sympy import symbols, Eq, solve"
   ]
  },
  {
   "cell_type": "code",
   "execution_count": 11,
   "metadata": {},
   "outputs": [],
   "source": [
    "# Definir las variables\n",
    "x, y, z = symbols('x y z')"
   ]
  },
  {
   "cell_type": "code",
   "execution_count": 12,
   "metadata": {},
   "outputs": [],
   "source": [
    "# Definir las ecuaciones\n",
    "eq1 = Eq(12*x + 5*y + z, 6)\n",
    "eq2 = Eq(6*x + 10*y + z, 8)\n",
    "eq3 = Eq(3*x + 15*y + z, 4)"
   ]
  },
  {
   "cell_type": "code",
   "execution_count": 13,
   "metadata": {},
   "outputs": [],
   "source": [
    "# Paso 2: Eliminar z\n",
    "lhs_eq4 = eq1.lhs - eq2.lhs\n",
    "rhs_eq4 = eq1.rhs - eq2.rhs\n",
    "eq4 = Eq(lhs_eq4, rhs_eq4)\n",
    "\n",
    "lhs_eq5 = eq2.lhs - eq3.lhs\n",
    "rhs_eq5 = eq2.rhs - eq3.rhs\n",
    "eq5 = Eq(lhs_eq5, rhs_eq5)"
   ]
  },
  {
   "cell_type": "code",
   "execution_count": 14,
   "metadata": {},
   "outputs": [],
   "source": [
    "# Resolver para x y y\n",
    "sol = solve((eq4, eq5), (x, y))\n",
    "\n",
    "# Sustituir x y y encontrados en una de las ecuaciones originales para encontrar z\n",
    "z_value = solve(eq1.subs(sol), z)"
   ]
  },
  {
   "cell_type": "code",
   "execution_count": 15,
   "metadata": {},
   "outputs": [
    {
     "name": "stdout",
     "output_type": "stream",
     "text": [
      "{x: -2, y: -2} z: [40]\n"
     ]
    }
   ],
   "source": [
    "# Mostrar resultados\n",
    "sol[x], sol[y], z_value[0]\n",
    "print (sol, \"z:\",z_value)"
   ]
  },
  {
   "cell_type": "markdown",
   "metadata": {},
   "source": [
    "### Ejercicio 2 - Investigar Como?"
   ]
  },
  {
   "cell_type": "markdown",
   "metadata": {},
   "source": [
    "Integrar **Ecuaciones diferenciales ordinarias** usar la función `odeint` del paquete `integrate`, que permite integrar sistemas del tipo:\n",
    "\n",
    "$$ \\frac{d\\mathbf{y}}{dt}=\\mathbf{f}\\left(\\mathbf{y},t\\right)$$\n",
    "\n",
    "con condiciones iniciales $\\mathbf{y}(\\mathbf{0}) = \\mathbf{y_0}$."
   ]
  },
  {
   "cell_type": "code",
   "execution_count": 66,
   "metadata": {},
   "outputs": [],
   "source": [
    "# Pista utilizar.......\n",
    "from scipy.integrate import odeint"
   ]
  },
  {
   "cell_type": "code",
   "execution_count": 67,
   "metadata": {},
   "outputs": [],
   "source": [
    "import numpy as np\n",
    "import matplotlib.pyplot as plt\n",
    "from scipy import integrate"
   ]
  },
  {
   "cell_type": "code",
   "execution_count": 68,
   "metadata": {},
   "outputs": [],
   "source": [
    "def f(y,t): #Definimos la funcion f(y,t)\n",
    "    return (t**2)*(1+y)"
   ]
  },
  {
   "cell_type": "code",
   "execution_count": 69,
   "metadata": {},
   "outputs": [],
   "source": [
    "y0=3  #Asignamos una condicion inicial \n",
    "t= np.linspace(0, 5, 100)  #Definimos el vector tiempo"
   ]
  },
  {
   "cell_type": "code",
   "execution_count": 70,
   "metadata": {},
   "outputs": [],
   "source": [
    "sol=integrate.odeint(f,y0,t)  #Integramos la funcion"
   ]
  },
  {
   "cell_type": "code",
   "execution_count": 71,
   "metadata": {},
   "outputs": [
    {
     "data": {
      "image/png": "[encoded data removed]",
      "text/plain": [
       "<Figure size 640x480 with 1 Axes>"
      ]
     },
     "metadata": {},
     "output_type": "display_data"
    }
   ],
   "source": [
    "#Grafica de la solucion\n",
    "plt.plot(t, sol)\n",
    "plt.xlabel('Tiempo')\n",
    "plt.ylabel('y(t)')\n",
    "plt.title('Solución de la EDO')\n",
    "plt.grid()\n",
    "plt.show()"
   ]
  },
  {
   "cell_type": "markdown",
   "metadata": {},
   "source": [
    "### Ejercicio 3 - Investigar Como?"
   ]
  },
  {
   "cell_type": "markdown",
   "metadata": {},
   "source": [
    "<div class=\"well\">Realizar un ajuste polinomico en numpy del archivo <code>covid.txt</code> (archivo adjunto)\n",
    "</div>"
   ]
  },
  {
   "cell_type": "code",
   "execution_count": 72,
   "metadata": {},
   "outputs": [],
   "source": [
    "import numpy as np\n",
    "import matplotlib.pyplot as plt"
   ]
  },
  {
   "cell_type": "code",
   "execution_count": 73,
   "metadata": {},
   "outputs": [],
   "source": [
    "# Datos proporcionados"
   ]
  },
  {
   "cell_type": "code",
   "execution_count": 74,
   "metadata": {},
   "outputs": [],
   "source": [
    "data = [\n",
    "    50, 14, 6, 73, 61, 72, 64, 83, 145, 189, 133, 273, 268, 199, 279, 258, 262, 342, \n",
    "    302, 393, 279, 313, 270, 399, 395, 498, 395, 255, 281, 361, 325, 503, 414, 447, \n",
    "    327, 388, 294, 433, 485, 463, 521, 442, 451, 521, 489, 1107, 954, 1396, 1197, \n",
    "    949, 1342, 1001, 1502, 1360, 1216, 1616, 1166, 1627, 2629, 2628, 2471, 1855, \n",
    "    2322, 2247, 3489, 4007, 3933, 4245, 3505, 3678, 4864, 3933, 4297, 4623, 3664, \n",
    "    4189, 4799, 5440, 3496, 4911, 4633, 4176, 5215, 6374, 4665, 3882, 5706, 5565, \n",
    "    6723, 6478, 6907, 5112, 4982, 36148, 4444, 6259, 5324, 5576, 4577, 3773, 3618, \n",
    "    4617, 4265, 4375, 4185, 3986, 3363, 2619, 2467, 3517, 3727, 3654, 2994, 2431, \n",
    "    2033, 3102, 3027, 2724, 2981, 2585, 1805, 1681, 2462, 2810, 2276, 2053, 2068, \n",
    "    1623, 1688, 2326, 2514, 2257, 2167, 2102, 1846, 1744, 1930, 2100, 1960, 2042, \n",
    "    1731, 1438, 1730, 1917, 2123, 2167, 2002, 1957, 1541, 1521, 1835, 2046, 1760, \n",
    "    2013, 1525, 1322, 1151, 1781, 1889, 1908, 1926, 1872, 1386, 1349, 1706, 1839, \n",
    "    2006, 1934, 1721, 1388, 1563, 1731, 1937, 1934, 2045, 1733, 1236, 1455, 1611, \n",
    "    1835, 2100, 2051, 1654, 1519, 1273, 1832, 1646, 1816, 1569, 1163, 1024, 1349, \n",
    "    1700, 2203, 2080, 1891, 1739, 1598\n",
    "]"
   ]
  },
  {
   "cell_type": "code",
   "execution_count": 75,
   "metadata": {},
   "outputs": [],
   "source": [
    "# Convertimos la lista de datos en un array de NumPy"
   ]
  },
  {
   "cell_type": "code",
   "execution_count": 76,
   "metadata": {},
   "outputs": [],
   "source": [
    "y = np.array(data)\n",
    "x = np.arange(len(y))"
   ]
  },
  {
   "cell_type": "code",
   "execution_count": 77,
   "metadata": {},
   "outputs": [],
   "source": [
    "#Ajuste polinómico de grado 5\n",
    "\n",
    "grado = 5\n",
    "coeficientes = np.polyfit(x, y, grado)\n",
    "polinomio = np.poly1d(coeficientes)"
   ]
  },
  {
   "cell_type": "code",
   "execution_count": 78,
   "metadata": {},
   "outputs": [],
   "source": [
    "#Generamos puntos para la curva ajustada\n",
    "xa = np.linspace(0, len(y) - 1, 500)\n",
    "ya = polinomio(xa)"
   ]
  },
  {
   "cell_type": "code",
   "execution_count": 79,
   "metadata": {},
   "outputs": [
    {
     "data": {
      "image/png": "[encoded data removed]",
      "text/plain": [
       "<Figure size 1000x600 with 1 Axes>"
      ]
     },
     "metadata": {},
     "output_type": "display_data"
    }
   ],
   "source": [
    "#Graficamos los datos originales y el ajuste polinómico\n",
    "\n",
    "plt.figure(figsize=(10, 6))\n",
    "plt.plot(x, y, 'bo', label='Datos originales')\n",
    "plt.plot(xa, ya, 'r-', label=f'Ajuste polinómico de grado {grado}')\n",
    "plt.xlabel('Índice de datos')\n",
    "plt.ylabel('Valor')\n",
    "plt.title('Ajuste Polinómico con NumPy')\n",
    "plt.legend()\n",
    "plt.grid(True)\n",
    "plt.show()"
   ]
  },
  {
   "cell_type": "markdown",
   "metadata": {},
   "source": [
    "### Ejercicio 4 - Investigar Como?"
   ]
  },
  {
   "cell_type": "markdown",
   "metadata": {},
   "source": [
    "Crear un programa que permita hacer operaciones con matrices en Python utilizando los módulos NumPy y SciPy para resolver la inversa, la multiplicación y la solución de un sistema de ecuaciones lineales. "
   ]
  },
  {
   "cell_type": "code",
   "execution_count": 80,
   "metadata": {},
   "outputs": [],
   "source": [
    "import numpy as np"
   ]
  },
  {
   "cell_type": "code",
   "execution_count": 81,
   "metadata": {},
   "outputs": [],
   "source": [
    "def main():\n",
    "    print(\"Operaciones con matrices utilizando NumPy\")\n",
    "    print(\"1. Inversa de una matriz\")\n",
    "    print(\"2. Multiplicación de matrices\")\n",
    "    print(\"3. Solución de un sistema de ecuaciones lineales\")\n",
    "    choice = int(input(\"Selecciona una opción (1)(2)(3)\"))\n",
    "\n",
    "    if choice == 1:\n",
    "        matrix = input_matrix()\n",
    "        if matrix is not None:\n",
    "            inverse = np.linalg.inv(matrix)\n",
    "            print(\"La inversa de la matriz es:\")\n",
    "            print(inverse)\n",
    "    elif choice == 2:\n",
    "        matrix1 = input_matrix(\"Ingrese la primera matriz: \")\n",
    "        matrix2 = input_matrix(\"Ingrese la segunda matriz: \")\n",
    "        if matrix1 is not None and matrix2 is not None:\n",
    "            product = np.matmul(matrix1, matrix2)\n",
    "            print(\"El producto de las matrices es:\")\n",
    "            print(product)\n",
    "    elif choice == 3:\n",
    "        coefficients = input_matrix(\"Ingrese la matriz de coeficientes del sistema de ecuaciones: \")\n",
    "        constants = input_matrix(\"Ingrese la matriz de constantes del sistema de ecuaciones: \", vector=True)\n",
    "        if coefficients is not None and constants is not None:\n",
    "            solution = np.linalg.solve(coefficients, constants)\n",
    "            print(\"La solución del sistema de ecuaciones es:\")\n",
    "            print(solution)\n",
    "    else:\n",
    "        print(\"Opción inválida\")"
   ]
  },
  {
   "cell_type": "code",
   "execution_count": 82,
   "metadata": {},
   "outputs": [],
   "source": [
    "def input_matrix(prompt=\"Ingrese la matriz: \", vector=False):\n",
    "    try:\n",
    "        rows = int(input(\"Número de filas: \"))\n",
    "        cols = int(input(\"Número de columnas: \"))\n",
    "        if vector:\n",
    "            print(\"Ingrese los elementos separados por espacios:\")\n",
    "            elements = list(map(float, input().split()))\n",
    "            matrix = np.array(elements).reshape((rows, cols))\n",
    "        else:\n",
    "            print(\"Ingrese los elementos separados por espacios, fila por fila:\")\n",
    "            matrix = []\n",
    "            for _ in range(rows):\n",
    "                row = list(map(float, input().split()))\n",
    "                matrix.append(row)\n",
    "            matrix = np.array(matrix)\n",
    "        return matrix\n",
    "    except ValueError:\n",
    "        print(\"Error: Ingrese números válidos\")\n",
    "        return None"
   ]
  },
  {
   "cell_type": "code",
   "execution_count": null,
   "metadata": {},
   "outputs": [
    {
     "name": "stdout",
     "output_type": "stream",
     "text": [
      "Operaciones con matrices utilizando NumPy\n",
      "1. Inversa de una matriz\n",
      "2. Multiplicación de matrices\n",
      "3. Solución de un sistema de ecuaciones lineales\n"
     ]
    }
   ],
   "source": [
    "if __name__ == \"__main__\":\n",
    "    main()"
   ]
  },
  {
   "cell_type": "markdown",
   "metadata": {},
   "source": [
    "### Ejercicio 5 - Investigar Como?"
   ]
  },
  {
   "cell_type": "markdown",
   "metadata": {},
   "source": [
    "<div class=\"well\">Crear un programa que permita resolver una <strong>interpolación utilizando polinomios de Lagrange</strong> en Python <strong> SciPy </strong> .\n",
    "\n",
    "\n",
    "</div>"
   ]
  },
  {
   "cell_type": "code",
   "execution_count": null,
   "metadata": {},
   "outputs": [],
   "source": [
    "import numpy as np\n",
    "from scipy.interpolate import lagrange"
   ]
  },
  {
   "cell_type": "code",
   "execution_count": null,
   "metadata": {},
   "outputs": [],
   "source": [
    "def main():\n",
    "    print(\"Interpolación utilizando polinomios de Lagrange\")\n",
    "    n = int(input(\"Ingrese el número de puntos de datos conocidos: \"))\n",
    "\n",
    "    # Ingresar los puntos de datos conocidos\n",
    "    x_values = []\n",
    "    y_values = []\n",
    "    for i in range(n):\n",
    "        x = float(input(f\"Ingrese el valor de x{i+1}: \"))\n",
    "        y = float(input(f\"Ingrese el valor de y{x}: \"))\n",
    "        x_values.append(x)\n",
    "        y_values.append(y)\n",
    "        # Crear la función de interpolación de Lagrange\n",
    "    lagrange_poly = lagrange(x_values, y_values)\n",
    "\n",
    "    # Imprimir el polinomio de Lagrange\n",
    "    print(\"El polinomio de interpolación de Lagrange es:\")\n",
    "    print(lagrange_poly)\n",
    "\n",
    "    # Pedir el valor de x para el que se desea encontrar la interpolación\n",
    "    x_interp = float(input(\"Ingrese el valor de x para encontrar la interpolación: \"))\n",
    "\n",
    "    # Calcular el valor interpolado\n",
    "    y_interp = lagrange_poly(x_interp)\n",
    "    print(f\"El valor interpolado de y para x={x_interp} es: {y_interp}\")"
   ]
  },
  {
   "cell_type": "code",
   "execution_count": null,
   "metadata": {},
   "outputs": [],
   "source": [
    "\n",
    "if __name__ == \"__main__\":\n",
    "    main()"
   ]
  },
  {
   "cell_type": "markdown",
   "metadata": {},
   "source": [
    "### Ejercicio 6 - Investigar Como?"
   ]
  },
  {
   "cell_type": "markdown",
   "metadata": {},
   "source": [
    "<div class=\"well\"><strong> Graficar las siguientes funciones:</strong> \n",
    "    \n",
    "1. $f(x) = sin(x),  x \\epsilon [-2,2]$\n",
    "2. $f(x) = e^{3x},  x \\epsilon [-2,4]$    Sugerencia: usar np.e para valor de 'e'.   \n",
    "3. $f(x) = \\frac{1}{x},  x \\epsilon [1,10]$    \n",
    "\n",
    "\n",
    "</div>"
   ]
  },
  {
   "cell_type": "code",
   "execution_count": null,
   "metadata": {},
   "outputs": [],
   "source": [
    "EJERCICIO 6.1  "
   ]
  },
  {
   "cell_type": "code",
   "execution_count": null,
   "metadata": {},
   "outputs": [],
   "source": [
    "import numpy as np\n",
    "import matplotlib.pyplot as plt"
   ]
  },
  {
   "cell_type": "code",
   "execution_count": null,
   "metadata": {},
   "outputs": [],
   "source": [
    "# Definir la función\n",
    "def f1(x):\n",
    "    return np.sin(x)"
   ]
  },
  {
   "cell_type": "code",
   "execution_count": null,
   "metadata": {},
   "outputs": [],
   "source": [
    "# Definir el rango de x\n",
    "x1 = np.linspace(-2, 2, 400)"
   ]
  },
  {
   "cell_type": "code",
   "execution_count": null,
   "metadata": {},
   "outputs": [],
   "source": [
    "# Calcular los valores de y\n",
    "y1 = f1(x1)"
   ]
  },
  {
   "cell_type": "code",
   "execution_count": null,
   "metadata": {},
   "outputs": [],
   "source": [
    "# Crear la gráfica\n",
    "plt.figure(figsize=(8, 6))\n",
    "plt.plot(x1, y1, label='f(x) = sin(x)')\n",
    "plt.xlabel('x')\n",
    "plt.ylabel('f(x)')\n",
    "plt.title('Gráfica de f(x) = sin(x)')\n",
    "plt.grid(True)\n",
    "plt.legend()\n",
    "plt.show()"
   ]
  },
  {
   "cell_type": "code",
   "execution_count": null,
   "metadata": {},
   "outputs": [],
   "source": [
    "# EJERCICIO 6.2"
   ]
  },
  {
   "cell_type": "code",
   "execution_count": null,
   "metadata": {},
   "outputs": [],
   "source": [
    "import numpy as np\n",
    "import matplotlib.pyplot as plt"
   ]
  },
  {
   "cell_type": "code",
   "execution_count": null,
   "metadata": {},
   "outputs": [],
   "source": [
    "# Definir la función\n",
    "def f2(x):\n",
    "    return np.exp(3 * x)"
   ]
  },
  {
   "cell_type": "code",
   "execution_count": null,
   "metadata": {},
   "outputs": [],
   "source": [
    "# Definir el rango de x\n",
    "x2 = np.linspace(-2, 4, 400)"
   ]
  },
  {
   "cell_type": "code",
   "execution_count": null,
   "metadata": {},
   "outputs": [],
   "source": [
    "# Calcular los valores de y\n",
    "y2 = f2(x2)"
   ]
  },
  {
   "cell_type": "code",
   "execution_count": null,
   "metadata": {},
   "outputs": [],
   "source": [
    "# Crear la gráfica\n",
    "plt.figure(figsize=(8, 6))\n",
    "plt.plot(x2, y2, label='f(x) = e^(3x)', color='orange')\n",
    "plt.xlabel('x')\n",
    "plt.ylabel('f(x)')\n",
    "plt.title('Gráfica de f(x) = e^(3x)')\n",
    "plt.grid(True)\n",
    "plt.legend()\n",
    "plt.show()"
   ]
  },
  {
   "cell_type": "code",
   "execution_count": null,
   "metadata": {},
   "outputs": [],
   "source": [
    "EJERCICIO 6.3"
   ]
  },
  {
   "cell_type": "code",
   "execution_count": null,
   "metadata": {},
   "outputs": [],
   "source": [
    "import numpy as np\n",
    "import matplotlib.pyplot as plt"
   ]
  },
  {
   "cell_type": "code",
   "execution_count": null,
   "metadata": {},
   "outputs": [],
   "source": [
    "# Definir la función\n",
    "def f3(x):\n",
    "    return 1 / x"
   ]
  },
  {
   "cell_type": "code",
   "execution_count": null,
   "metadata": {},
   "outputs": [],
   "source": [
    "#Definir el rango de x\n",
    "x3 = np.linspace(1, 10, 400)"
   ]
  },
  {
   "cell_type": "code",
   "execution_count": null,
   "metadata": {},
   "outputs": [],
   "source": [
    "# Calcular los valores de y\n",
    "y3 = f3(x3)"
   ]
  },
  {
   "cell_type": "code",
   "execution_count": null,
   "metadata": {},
   "outputs": [],
   "source": [
    "# Crear la gráfica\n",
    "plt.figure(figsize=(8, 6))\n",
    "plt.plot(x3, y3, label='f(x) = 1/x', color='green')\n",
    "plt.xlabel('x')\n",
    "plt.ylabel('f(x)')\n",
    "plt.title('Gráfica de f(x) = 1/x')\n",
    "plt.grid(True)\n",
    "plt.legend()\n",
    "plt.show()"
   ]
  },
  {
   "cell_type": "markdown",
   "metadata": {},
   "source": [
    "![linea 2](https://user-images.githubusercontent.com/19308295/115926262-2fb62980-a448-11eb-8189-c2f10e499944.png)"
   ]
  },
  {
   "cell_type": "markdown",
   "metadata": {},
   "source": [
    "## <font color=#33A5FF>****BIBLIOGRAFÍA****<tfont>"
   ]
  },
  {
   "cell_type": "markdown",
   "metadata": {},
   "source": [
    "[1] Documentación de NumPy: https://numpy.org/doc/stable/\n",
    "\n",
    "[2] Algebra líneal con NumPy web Pybonacci: https://pybonacci.org/2012/06/07/algebra-lineal-en-python-con-numpy-i-operaciones-basicas/\n",
    "\n",
    "[3] Funciones de distribución de probabilidad en NumPy: https://docs.scipy.org/doc/numpy-1.15.0/reference/routines.random.html\n",
    "\n",
    "[4] Algebra líneal en NumPy:https://numpy.org/doc/stable/reference/routines.linalg.html\n",
    "\n",
    "[5] SymPy:https://www.sympy.org/en/index.html\n",
    "\n",
    "[6] SciPy:https://www.scipy.org/"
   ]
  },
  {
   "cell_type": "markdown",
   "metadata": {},
   "source": [
    "![linea 1](https://user-images.githubusercontent.com/19308295/115926252-2b8a0c00-a448-11eb-9d9c-b43beaf0ff68.png)"
   ]
  },
  {
   "cell_type": "code",
   "execution_count": null,
   "metadata": {},
   "outputs": [],
   "source": []
  }
 ],
 "metadata": {
  "kernelspec": {
   "display_name": "Python 3 (ipykernel)",
   "language": "python",
   "name": "python3"
  },
  "language_info": {
   "codemirror_mode": {
    "name": "ipython",
    "version": 3
   },
   "file_extension": ".py",
   "mimetype": "text/x-python",
   "name": "python",
   "nbconvert_exporter": "python",
   "pygments_lexer": "ipython3",
   "version": "3.11.2"
  }
 },
 "nbformat": 4,
 "nbformat_minor": 4
}
