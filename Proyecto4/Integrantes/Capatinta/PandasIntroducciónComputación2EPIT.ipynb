{
  "cells": [
    {
      "cell_type": "markdown",
      "metadata": {
        "id": "u5QkOpp7LfxY"
      },
      "source": [
        "<center> <h1>Universidad Nacional de San Agustín de Arequipa</h1> </center>\n",
        "<center> <h1>Escuela Profesional de Ingeniería de Telecomunicaciones</h1> </center>\n",
        "\n",
        "<center> <h1> </h1> </center>\n",
        "\n",
        "<center><img src=\"https://user-images.githubusercontent.com/19308295/115939517-f1c6fe80-a463-11eb-989c-812ab4942586.png\" width=\"380\" height=\"4200\"></center>"
      ]
    },
    {
      "cell_type": "markdown",
      "metadata": {
        "id": "jCxKuJBhLfxZ"
      },
      "source": [
        "<center> <h2>Ingeniero Renzo Bolivar - Docente DAIE</h2> </center>\n",
        "<center> <h2>Alumno:\n",
        "Yeferson Capatinta</h2> </center>"
      ]
    },
    {
      "cell_type": "markdown",
      "metadata": {
        "id": "ygAVZdWwLfxZ"
      },
      "source": [
        "<center> <h1>Curso : Computación 2</h1> </center>"
      ]
    },
    {
      "cell_type": "markdown",
      "metadata": {
        "id": "jeoPVYqTLfxZ"
      },
      "source": [
        "![linea 1](https://user-images.githubusercontent.com/19308295/115926252-2b8a0c00-a448-11eb-9d9c-b43beaf0ff68.png)"
      ]
    },
    {
      "cell_type": "markdown",
      "metadata": {
        "id": "RNTx_JkhLfxZ"
      },
      "source": [
        "<center> <h1>PANDAS</h1> </center>"
      ]
    },
    {
      "cell_type": "markdown",
      "metadata": {
        "id": "bIJYwsI4LfxZ"
      },
      "source": [
        "![linea 1](https://user-images.githubusercontent.com/19308295/115926252-2b8a0c00-a448-11eb-9d9c-b43beaf0ff68.png)"
      ]
    },
    {
      "cell_type": "markdown",
      "metadata": {
        "id": "2CtnTDTULfxZ"
      },
      "source": [
        "# Descripción:"
      ]
    },
    {
      "cell_type": "markdown",
      "metadata": {
        "id": "Dl2xrfXILfxZ"
      },
      "source": [
        "<div class=\"alert alert-info\">\n",
        "\n",
        "En este notebook se explicarán la librería **Pandas** escrita como extensión de **NumPy** para la manipulación y análisis de datos en el lenguaje de programación Python.\n",
        "    \n",
        "</div>\n",
        "\n"
      ]
    },
    {
      "cell_type": "markdown",
      "metadata": {
        "id": "jmiAJnkVLfxZ"
      },
      "source": [
        "# Objetivos:\n",
        "\n",
        " 1. Familiarizarce con creación de la estructura de tabla de datos **DataFrame.**\n",
        " 2. Manejo inicial de un **DataFrame.**\n",
        " 3. Importando archivos ***csv*** y manipulación inicial en **Pandas.**"
      ]
    },
    {
      "cell_type": "markdown",
      "metadata": {
        "id": "wL6WEuMNLfxa"
      },
      "source": [
        "\n",
        "\n",
        "[1. Pandas](#1.-Pandas)<br>\n",
        "[2. Creación de DataFrame](#2.-Creación-de-DataFrame)<br>\n",
        "[3. DataFrame a partir de archivo CSV](#3.-DataFrame-a-partir-de-archivo-CSV)<br>\n",
        "[4. Estadistica DataFrame](#4.-Estadistica-DataFrame)<br>\n",
        "\n",
        "[EJEMPLOS](#EJEMPLOS)<br>\n",
        "[EJERCICIOS](#EJERCICIOS)<br>\n",
        "[BIBLIOGRAFÍA](#BIBLIOGRAFÍA)<br>"
      ]
    },
    {
      "cell_type": "markdown",
      "metadata": {
        "id": "Yj5YAIkzLfxa"
      },
      "source": [
        "![linea 1](https://user-images.githubusercontent.com/19308295/115926252-2b8a0c00-a448-11eb-9d9c-b43beaf0ff68.png)"
      ]
    },
    {
      "cell_type": "markdown",
      "metadata": {
        "id": "WUp3H5XiLfxa"
      },
      "source": [
        "![640px-Pandas_logo svg](https://user-images.githubusercontent.com/19308295/119273971-1b925300-bbd3-11eb-9705-fa3a404af0e1.png)"
      ]
    },
    {
      "cell_type": "markdown",
      "metadata": {
        "id": "X1OnbNbELfxa"
      },
      "source": [
        "## <font color=#33A5FF>****1. Pandas****<tfont>"
      ]
    },
    {
      "cell_type": "markdown",
      "metadata": {
        "id": "aAm6NpwyLfxa"
      },
      "source": [
        "<div class=\"well\">\n",
        "<strong>PanDaS  (Panel Data Set)</strong>  es una librería de Python para la <strong>ciencia de datos y Machine Learning</strong>, por muchas razones, ofrece estructuras de datos poderosas, expresivas y flexibles que facilitan la manipulación y análisis de datos. Entre las estructuras más utilizadas se encuentra el <strong>DataFrame</strong>.\n",
        "\n",
        "<strong>Pandas</strong> es una librería de código abierto de Python que proporciona herramientas de análisis y manipulación de datos de alto rendimiento utilizando sus potentes estructuras de datos.\n",
        "    \n",
        "    \n",
        "</div>"
      ]
    },
    {
      "cell_type": "markdown",
      "metadata": {
        "id": "Sty-nQovLfxa"
      },
      "source": [
        "<div class=\"well\">\n",
        "La librería <strong>Pandas</strong> se desarrollo debido a la necesidad de tener una herramienta flexible de alto rendimiento para el análisis de datos, construido sobre Numpy. En Python se utiliza  <strong>pandas</strong> en Machine Learning para la manipulación y preparación de datos.\n",
        "\n",
        "Usando esta librería podemos lograr cinco pasos típicos en el procesamiento y análisis de datos, independientemente del origen de los datos:\n",
        "</div>\n",
        "     \n",
        "    \n",
        "   - Cargar\n",
        "   - Preparar\n",
        "   - Manipular\n",
        "   - Modelar\n",
        "   - Analizar\n",
        "    \n"
      ]
    },
    {
      "cell_type": "markdown",
      "metadata": {
        "id": "lA56hz8XLfxa"
      },
      "source": [
        "<div class=\"well\">\n",
        "    Caracteristicas principales de de la librería <strong>Pandas</strong>.\n",
        "</div>   \n",
        "   \n",
        "   \n",
        "   \n",
        "   - Objeto DataFrame rápido y eficiente con indexación predeterminada y personalizada.\n",
        "   - Alto rendimiento para cargar datos en objetos de datos en memoria desde diferentes formatos de archivo.\n",
        "   - Alineación de datos y manejo integrado de datos faltantes.\n",
        "   - Remodelación y giro de conjuntos de fechas.\n",
        "   - Etiquetado, corte, indexación y subconjunto de grandes conjuntos de datos.\n",
        "   - Las columnas de una estructura de datos se pueden eliminar o insertar.\n",
        "   - Agrupa por datos para agregación y transformaciones.\n",
        "   - Alto rendimiento de fusión y unión de datos.\n",
        "   - Funcionalidad de la serie de tiempo.\n"
      ]
    },
    {
      "cell_type": "markdown",
      "metadata": {
        "id": "yRMi9LOELfxa"
      },
      "source": [
        "## DataFrame"
      ]
    },
    {
      "cell_type": "markdown",
      "metadata": {
        "id": "JgaSwxtaLfxa"
      },
      "source": [
        "<div class=\"well\">\n",
        "Es una estructura de datos muy utilizada en <strong>pandas</strong>, es tabular bidimensional de tamaño variable y potencialmente heterogénea con ejes etiquetados (filas y columnas).\n",
        "\n",
        "Un <strong>DataFrame</strong>  es una estructura de datos bidimensional, es decir, los datos se alinean de forma tabular en filas y columnas. Pandas DataFrame consta de tres componentes principales:\n",
        "</div>\n",
        "\n",
        "\n",
        "\n",
        "   - Los datos\n",
        "   - Las filas\n",
        "   - Las columnas"
      ]
    },
    {
      "cell_type": "markdown",
      "metadata": {
        "id": "xfypphKPLfxa"
      },
      "source": [
        "![Pantas_DataFrame](https://user-images.githubusercontent.com/19308295/119273989-44b2e380-bbd3-11eb-96d1-bd7e8a928fd6.png)"
      ]
    },
    {
      "cell_type": "markdown",
      "metadata": {
        "id": "JhjUAwq1Lfxa"
      },
      "source": [
        "<div class=\"alert alert-info\">\n",
        "\n",
        "Si hablamos de la estructura de un **DataFrame** es muy similar a la de una matriz. Pero en una matriz solamente se admiten valores numéricos, a diferencia de la matriz, en un **DataFrame** se puede incluir también datos alfanuméricos en su contenido.\n",
        "\n",
        "\n",
        "</div>"
      ]
    },
    {
      "cell_type": "markdown",
      "metadata": {
        "id": "xLpIq2gxLfxa"
      },
      "source": [
        "![linea 2](https://user-images.githubusercontent.com/19308295/115926262-2fb62980-a448-11eb-8189-c2f10e499944.png)"
      ]
    },
    {
      "cell_type": "markdown",
      "metadata": {
        "id": "J2DPwNGuLfxa"
      },
      "source": [
        "## <font color=#33A5FF>****2. Creación de DataFrame****<tfont>"
      ]
    },
    {
      "cell_type": "code",
      "execution_count": null,
      "metadata": {
        "id": "HkJmfNDdLfxa"
      },
      "outputs": [],
      "source": [
        "#Librerías\n",
        "import numpy as np\n",
        "import pandas as pd\n"
      ]
    },
    {
      "cell_type": "markdown",
      "metadata": {
        "id": "gZB7H4m8Lfxa"
      },
      "source": [
        "###  A partir de diccionarios de listas"
      ]
    },
    {
      "cell_type": "code",
      "execution_count": null,
      "metadata": {
        "id": "mq24NmB4Lfxb",
        "outputId": "ec30b5af-19db-4be1-8601-b7ae56feab83"
      },
      "outputs": [
        {
          "name": "stdout",
          "output_type": "stream",
          "text": [
            "    a   b\n",
            "0  11  21\n",
            "1  12  22\n",
            "2  13  23\n"
          ]
        },
        {
          "data": {
            "text/html": [
              "<div>\n",
              "<style scoped>\n",
              "    .dataframe tbody tr th:only-of-type {\n",
              "        vertical-align: middle;\n",
              "    }\n",
              "\n",
              "    .dataframe tbody tr th {\n",
              "        vertical-align: top;\n",
              "    }\n",
              "\n",
              "    .dataframe thead th {\n",
              "        text-align: right;\n",
              "    }\n",
              "</style>\n",
              "<table border=\"1\" class=\"dataframe\">\n",
              "  <thead>\n",
              "    <tr style=\"text-align: right;\">\n",
              "      <th></th>\n",
              "      <th>a</th>\n",
              "      <th>b</th>\n",
              "    </tr>\n",
              "  </thead>\n",
              "  <tbody>\n",
              "    <tr>\n",
              "      <th>0</th>\n",
              "      <td>11</td>\n",
              "      <td>21</td>\n",
              "    </tr>\n",
              "    <tr>\n",
              "      <th>1</th>\n",
              "      <td>12</td>\n",
              "      <td>22</td>\n",
              "    </tr>\n",
              "    <tr>\n",
              "      <th>2</th>\n",
              "      <td>13</td>\n",
              "      <td>23</td>\n",
              "    </tr>\n",
              "  </tbody>\n",
              "</table>\n",
              "</div>"
            ],
            "text/plain": [
              "    a   b\n",
              "0  11  21\n",
              "1  12  22\n",
              "2  13  23"
            ]
          },
          "execution_count": 2,
          "metadata": {},
          "output_type": "execute_result"
        }
      ],
      "source": [
        "#Datos en listas\n",
        "diccionario = {\"a\": [11,12,13], \"b\":[21,22,23]}\n",
        "\n",
        "#DataFrame\n",
        "df_lista = pd.DataFrame(diccionario)\n",
        "\n",
        "#Impresión lista con print Spyder\n",
        "print(df_lista)\n",
        "\n",
        "\n",
        "#Impresión con función head()\n",
        "df_lista.head()"
      ]
    },
    {
      "cell_type": "code",
      "execution_count": null,
      "metadata": {
        "id": "D0otS578Lfxb",
        "outputId": "d87d0340-5848-4d6b-bb16-f4ff7853b808"
      },
      "outputs": [
        {
          "name": "stdout",
          "output_type": "stream",
          "text": [
            "    Nombre  Edad Categoría\n",
            "0    Danna    19         H\n",
            "1     Matt    12         H\n",
            "2     Irma    50         E\n",
            "3  Gustavo    80         A\n",
            "4   Gladys    83         A\n"
          ]
        },
        {
          "data": {
            "text/html": [
              "<div>\n",
              "<style scoped>\n",
              "    .dataframe tbody tr th:only-of-type {\n",
              "        vertical-align: middle;\n",
              "    }\n",
              "\n",
              "    .dataframe tbody tr th {\n",
              "        vertical-align: top;\n",
              "    }\n",
              "\n",
              "    .dataframe thead th {\n",
              "        text-align: right;\n",
              "    }\n",
              "</style>\n",
              "<table border=\"1\" class=\"dataframe\">\n",
              "  <thead>\n",
              "    <tr style=\"text-align: right;\">\n",
              "      <th></th>\n",
              "      <th>Nombre</th>\n",
              "      <th>Edad</th>\n",
              "      <th>Categoría</th>\n",
              "    </tr>\n",
              "  </thead>\n",
              "  <tbody>\n",
              "    <tr>\n",
              "      <th>0</th>\n",
              "      <td>Danna</td>\n",
              "      <td>19</td>\n",
              "      <td>H</td>\n",
              "    </tr>\n",
              "    <tr>\n",
              "      <th>1</th>\n",
              "      <td>Matt</td>\n",
              "      <td>12</td>\n",
              "      <td>H</td>\n",
              "    </tr>\n",
              "    <tr>\n",
              "      <th>2</th>\n",
              "      <td>Irma</td>\n",
              "      <td>50</td>\n",
              "      <td>E</td>\n",
              "    </tr>\n",
              "    <tr>\n",
              "      <th>3</th>\n",
              "      <td>Gustavo</td>\n",
              "      <td>80</td>\n",
              "      <td>A</td>\n",
              "    </tr>\n",
              "    <tr>\n",
              "      <th>4</th>\n",
              "      <td>Gladys</td>\n",
              "      <td>83</td>\n",
              "      <td>A</td>\n",
              "    </tr>\n",
              "  </tbody>\n",
              "</table>\n",
              "</div>"
            ],
            "text/plain": [
              "    Nombre  Edad Categoría\n",
              "0    Danna    19         H\n",
              "1     Matt    12         H\n",
              "2     Irma    50         E\n",
              "3  Gustavo    80         A\n",
              "4   Gladys    83         A"
            ]
          },
          "execution_count": 3,
          "metadata": {},
          "output_type": "execute_result"
        }
      ],
      "source": [
        "#Datos en listas\n",
        "diccionario_2 = {\"Nombre\":[\"Danna\", \"Matt\", \"Irma\", \"Gustavo\", \"Gladys\"],\n",
        "                 \"Edad\":[19, 12, 50, 80, 83],\n",
        "                 \"Categoría\":[\"H\",\"H\",\"E\",\"A\",\"A\"]}\n",
        "\n",
        "#DataFrame\n",
        "df_lista2 = pd.DataFrame(diccionario_2)\n",
        "\n",
        "\n",
        "#Impresión lista con print Spyder\n",
        "print(df_lista2)\n",
        "\n",
        "\n",
        "#Impresión con función head()\n",
        "df_lista2.head()\n"
      ]
    },
    {
      "cell_type": "code",
      "execution_count": null,
      "metadata": {
        "id": "9CQ1GKz_Lfxb",
        "outputId": "43767eb0-8b97-447b-b009-7dde64b04fc3"
      },
      "outputs": [
        {
          "name": "stdout",
          "output_type": "stream",
          "text": [
            "0    19\n",
            "1    12\n",
            "2    50\n",
            "3    80\n",
            "4    83\n",
            "Name: Edad, dtype: int64\n"
          ]
        }
      ],
      "source": [
        "#Imprimir solo una columna Spyder\n",
        "print(df_lista2[\"Edad\"])\n"
      ]
    },
    {
      "cell_type": "code",
      "execution_count": null,
      "metadata": {
        "id": "gCuIkKHRLfxb",
        "outputId": "591a2eb3-c692-4cdd-9c07-a87925544ae6"
      },
      "outputs": [
        {
          "data": {
            "text/plain": [
              "0    19\n",
              "1    12\n",
              "2    50\n",
              "3    80\n",
              "4    83\n",
              "Name: Edad, dtype: int64"
            ]
          },
          "execution_count": 5,
          "metadata": {},
          "output_type": "execute_result"
        }
      ],
      "source": [
        "#Imprimir solo una columna\n",
        "\n",
        "df_lista2[\"Edad\"]"
      ]
    },
    {
      "cell_type": "markdown",
      "metadata": {
        "id": "CVK5TjIpLfxb"
      },
      "source": [
        "### A partir de un numpy array de 2D"
      ]
    },
    {
      "cell_type": "code",
      "execution_count": null,
      "metadata": {
        "id": "47Ft4jlILfxb",
        "outputId": "669f0bec-595b-4068-a4a8-80ee164ffabd"
      },
      "outputs": [
        {
          "data": {
            "text/html": [
              "<div>\n",
              "<style scoped>\n",
              "    .dataframe tbody tr th:only-of-type {\n",
              "        vertical-align: middle;\n",
              "    }\n",
              "\n",
              "    .dataframe tbody tr th {\n",
              "        vertical-align: top;\n",
              "    }\n",
              "\n",
              "    .dataframe thead th {\n",
              "        text-align: right;\n",
              "    }\n",
              "</style>\n",
              "<table border=\"1\" class=\"dataframe\">\n",
              "  <thead>\n",
              "    <tr style=\"text-align: right;\">\n",
              "      <th></th>\n",
              "      <th>velocidad</th>\n",
              "      <th>temperatura</th>\n",
              "      <th>presion</th>\n",
              "    </tr>\n",
              "  </thead>\n",
              "  <tbody>\n",
              "    <tr>\n",
              "      <th>primero</th>\n",
              "      <td>2</td>\n",
              "      <td>0</td>\n",
              "      <td>3</td>\n",
              "    </tr>\n",
              "    <tr>\n",
              "      <th>segundo</th>\n",
              "      <td>4</td>\n",
              "      <td>3</td>\n",
              "      <td>2</td>\n",
              "    </tr>\n",
              "    <tr>\n",
              "      <th>tercero</th>\n",
              "      <td>0</td>\n",
              "      <td>3</td>\n",
              "      <td>3</td>\n",
              "    </tr>\n",
              "    <tr>\n",
              "      <th>cuarto</th>\n",
              "      <td>4</td>\n",
              "      <td>2</td>\n",
              "      <td>1</td>\n",
              "    </tr>\n",
              "    <tr>\n",
              "      <th>quinto</th>\n",
              "      <td>2</td>\n",
              "      <td>2</td>\n",
              "      <td>1</td>\n",
              "    </tr>\n",
              "  </tbody>\n",
              "</table>\n",
              "</div>"
            ],
            "text/plain": [
              "         velocidad  temperatura  presion\n",
              "primero          2            0        3\n",
              "segundo          4            3        2\n",
              "tercero          0            3        3\n",
              "cuarto           4            2        1\n",
              "quinto           2            2        1"
            ]
          },
          "execution_count": 6,
          "metadata": {},
          "output_type": "execute_result"
        }
      ],
      "source": [
        "#A partir de Array 2D de 5 filas con 3 columnas\n",
        "df_np2D = pd.DataFrame(\n",
        "    np.random.randint(5, size=(5,3)),\n",
        "    index=[\"primero\",\"segundo\",\"tercero\",\"cuarto\",\"quinto\"],\n",
        "    columns=[\"velocidad\", \"temperatura\",\"presion\"]\n",
        ")\n",
        "\n",
        "\n",
        "\n",
        "#Impresión con función head()\n",
        "df_np2D.head()\n"
      ]
    },
    {
      "cell_type": "code",
      "execution_count": null,
      "metadata": {
        "id": "Baxu4AFrLfxb",
        "outputId": "c4d97d55-eb0a-4eb4-c96a-184c169d06fa"
      },
      "outputs": [
        {
          "name": "stdout",
          "output_type": "stream",
          "text": [
            "(5, 3)\n",
            "5\n"
          ]
        }
      ],
      "source": [
        "#forma dataframe spyder\n",
        "print(df_np2D.shape)\n",
        "\n",
        "\n",
        "#altura dataframe spyder\n",
        "print(len(df_np2D.index))\n"
      ]
    },
    {
      "cell_type": "markdown",
      "metadata": {
        "id": "SYPQx3ktLfxb"
      },
      "source": [
        "![linea 2](https://user-images.githubusercontent.com/19308295/115926262-2fb62980-a448-11eb-8189-c2f10e499944.png)"
      ]
    },
    {
      "cell_type": "markdown",
      "metadata": {
        "id": "zfsFF8lGLfxb"
      },
      "source": [
        "## <font color=#33A5FF>****3. DataFrame a partir de archivo CSV****<tfont>"
      ]
    },
    {
      "cell_type": "markdown",
      "metadata": {
        "id": "ljHdxIHYLfxc"
      },
      "source": [
        "## CSV separado por comas:"
      ]
    },
    {
      "cell_type": "markdown",
      "metadata": {
        "id": "RtXsojfuLfxc"
      },
      "source": [
        "Se adjunta un archivo `data.zip` a la practica, se debe crear la carpeta `data` con los archivos del `data.zip`."
      ]
    },
    {
      "cell_type": "code",
      "execution_count": null,
      "metadata": {
        "id": "YGq_Fm0NLfxc",
        "outputId": "687f44ca-67c5-48ef-91de-b07cbe099637"
      },
      "outputs": [
        {
          "data": {
            "text/html": [
              "<div>\n",
              "<style scoped>\n",
              "    .dataframe tbody tr th:only-of-type {\n",
              "        vertical-align: middle;\n",
              "    }\n",
              "\n",
              "    .dataframe tbody tr th {\n",
              "        vertical-align: top;\n",
              "    }\n",
              "\n",
              "    .dataframe thead th {\n",
              "        text-align: right;\n",
              "    }\n",
              "</style>\n",
              "<table border=\"1\" class=\"dataframe\">\n",
              "  <thead>\n",
              "    <tr style=\"text-align: right;\">\n",
              "      <th></th>\n",
              "      <th>Name</th>\n",
              "      <th>PClass</th>\n",
              "      <th>Age</th>\n",
              "      <th>Sex</th>\n",
              "      <th>Survived</th>\n",
              "    </tr>\n",
              "  </thead>\n",
              "  <tbody>\n",
              "    <tr>\n",
              "      <th>0</th>\n",
              "      <td>Allen, Miss Elisabeth Walton</td>\n",
              "      <td>1st</td>\n",
              "      <td>29.00</td>\n",
              "      <td>female</td>\n",
              "      <td>1</td>\n",
              "    </tr>\n",
              "    <tr>\n",
              "      <th>1</th>\n",
              "      <td>Allison, Miss Helen Loraine</td>\n",
              "      <td>1st</td>\n",
              "      <td>2.00</td>\n",
              "      <td>female</td>\n",
              "      <td>0</td>\n",
              "    </tr>\n",
              "    <tr>\n",
              "      <th>2</th>\n",
              "      <td>Allison, Mr Hudson Joshua Creighton</td>\n",
              "      <td>1st</td>\n",
              "      <td>30.00</td>\n",
              "      <td>male</td>\n",
              "      <td>0</td>\n",
              "    </tr>\n",
              "    <tr>\n",
              "      <th>3</th>\n",
              "      <td>Allison, Mrs Hudson JC (Bessie Waldo Daniels)</td>\n",
              "      <td>1st</td>\n",
              "      <td>25.00</td>\n",
              "      <td>female</td>\n",
              "      <td>0</td>\n",
              "    </tr>\n",
              "    <tr>\n",
              "      <th>4</th>\n",
              "      <td>Allison, Master Hudson Trevor</td>\n",
              "      <td>1st</td>\n",
              "      <td>0.92</td>\n",
              "      <td>male</td>\n",
              "      <td>1</td>\n",
              "    </tr>\n",
              "  </tbody>\n",
              "</table>\n",
              "</div>"
            ],
            "text/plain": [
              "                                            Name PClass    Age     Sex  \\\n",
              "0                   Allen, Miss Elisabeth Walton    1st  29.00  female   \n",
              "1                    Allison, Miss Helen Loraine    1st   2.00  female   \n",
              "2            Allison, Mr Hudson Joshua Creighton    1st  30.00    male   \n",
              "3  Allison, Mrs Hudson JC (Bessie Waldo Daniels)    1st  25.00  female   \n",
              "4                  Allison, Master Hudson Trevor    1st   0.92    male   \n",
              "\n",
              "   Survived  \n",
              "0         1  \n",
              "1         0  \n",
              "2         0  \n",
              "3         0  \n",
              "4         1  "
            ]
          },
          "execution_count": 8,
          "metadata": {},
          "output_type": "execute_result"
        }
      ],
      "source": [
        "#archivo CSV separado por comas\n",
        "data = pd.read_csv(\"data/titanic_comma.csv\")\n",
        "\n",
        "#leer 5 primeras lineas\n",
        "data.head()"
      ]
    },
    {
      "cell_type": "code",
      "execution_count": null,
      "metadata": {
        "id": "33yIF4hqLfxc",
        "outputId": "f99fdfb4-6629-4090-ba0e-ac80e22bda91"
      },
      "outputs": [
        {
          "data": {
            "text/html": [
              "<div>\n",
              "<style scoped>\n",
              "    .dataframe tbody tr th:only-of-type {\n",
              "        vertical-align: middle;\n",
              "    }\n",
              "\n",
              "    .dataframe tbody tr th {\n",
              "        vertical-align: top;\n",
              "    }\n",
              "\n",
              "    .dataframe thead th {\n",
              "        text-align: right;\n",
              "    }\n",
              "</style>\n",
              "<table border=\"1\" class=\"dataframe\">\n",
              "  <thead>\n",
              "    <tr style=\"text-align: right;\">\n",
              "      <th></th>\n",
              "      <th>Name</th>\n",
              "      <th>PClass</th>\n",
              "      <th>Age</th>\n",
              "      <th>Sex</th>\n",
              "      <th>Survived</th>\n",
              "    </tr>\n",
              "  </thead>\n",
              "  <tbody>\n",
              "    <tr>\n",
              "      <th>1308</th>\n",
              "      <td>Zakarian, Mr Artun</td>\n",
              "      <td>3rd</td>\n",
              "      <td>27.0</td>\n",
              "      <td>male</td>\n",
              "      <td>0</td>\n",
              "    </tr>\n",
              "    <tr>\n",
              "      <th>1309</th>\n",
              "      <td>Zakarian, Mr Maprieder</td>\n",
              "      <td>3rd</td>\n",
              "      <td>26.0</td>\n",
              "      <td>male</td>\n",
              "      <td>0</td>\n",
              "    </tr>\n",
              "    <tr>\n",
              "      <th>1310</th>\n",
              "      <td>Zenni, Mr Philip</td>\n",
              "      <td>3rd</td>\n",
              "      <td>22.0</td>\n",
              "      <td>male</td>\n",
              "      <td>0</td>\n",
              "    </tr>\n",
              "    <tr>\n",
              "      <th>1311</th>\n",
              "      <td>Lievens, Mr Rene</td>\n",
              "      <td>3rd</td>\n",
              "      <td>24.0</td>\n",
              "      <td>male</td>\n",
              "      <td>0</td>\n",
              "    </tr>\n",
              "    <tr>\n",
              "      <th>1312</th>\n",
              "      <td>Zimmerman, Leo</td>\n",
              "      <td>3rd</td>\n",
              "      <td>29.0</td>\n",
              "      <td>male</td>\n",
              "      <td>0</td>\n",
              "    </tr>\n",
              "  </tbody>\n",
              "</table>\n",
              "</div>"
            ],
            "text/plain": [
              "                        Name PClass   Age   Sex  Survived\n",
              "1308      Zakarian, Mr Artun    3rd  27.0  male         0\n",
              "1309  Zakarian, Mr Maprieder    3rd  26.0  male         0\n",
              "1310        Zenni, Mr Philip    3rd  22.0  male         0\n",
              "1311        Lievens, Mr Rene    3rd  24.0  male         0\n",
              "1312          Zimmerman, Leo    3rd  29.0  male         0"
            ]
          },
          "execution_count": 9,
          "metadata": {},
          "output_type": "execute_result"
        }
      ],
      "source": [
        "#leer 5 últimas lineas\n",
        "data.tail()"
      ]
    },
    {
      "cell_type": "code",
      "execution_count": null,
      "metadata": {
        "id": "Zkb94GTELfxc",
        "outputId": "86fc528f-70d2-4fe0-9120-63c33b7d7822"
      },
      "outputs": [
        {
          "name": "stdout",
          "output_type": "stream",
          "text": [
            "                                               Name PClass    Age     Sex  \\\n",
            "0                      Allen, Miss Elisabeth Walton    1st  29.00  female   \n",
            "1                       Allison, Miss Helen Loraine    1st   2.00  female   \n",
            "2               Allison, Mr Hudson Joshua Creighton    1st  30.00    male   \n",
            "3     Allison, Mrs Hudson JC (Bessie Waldo Daniels)    1st  25.00  female   \n",
            "4                     Allison, Master Hudson Trevor    1st   0.92    male   \n",
            "...                                             ...    ...    ...     ...   \n",
            "1308                             Zakarian, Mr Artun    3rd  27.00    male   \n",
            "1309                         Zakarian, Mr Maprieder    3rd  26.00    male   \n",
            "1310                               Zenni, Mr Philip    3rd  22.00    male   \n",
            "1311                               Lievens, Mr Rene    3rd  24.00    male   \n",
            "1312                                 Zimmerman, Leo    3rd  29.00    male   \n",
            "\n",
            "      Survived  \n",
            "0            1  \n",
            "1            0  \n",
            "2            0  \n",
            "3            0  \n",
            "4            1  \n",
            "...        ...  \n",
            "1308         0  \n",
            "1309         0  \n",
            "1310         0  \n",
            "1311         0  \n",
            "1312         0  \n",
            "\n",
            "[1313 rows x 5 columns]\n"
          ]
        }
      ],
      "source": [
        "#Para imprimir en Spyder\n",
        "print(data)"
      ]
    },
    {
      "cell_type": "markdown",
      "metadata": {
        "id": "U18-k62MLfxc"
      },
      "source": [
        "### CSV separado por tabulacion:"
      ]
    },
    {
      "cell_type": "code",
      "execution_count": null,
      "metadata": {
        "id": "Ntmn-RlSLfxf",
        "outputId": "ed0acce2-0e35-431c-8157-be2f52a4f9d2"
      },
      "outputs": [
        {
          "data": {
            "text/html": [
              "<div>\n",
              "<style scoped>\n",
              "    .dataframe tbody tr th:only-of-type {\n",
              "        vertical-align: middle;\n",
              "    }\n",
              "\n",
              "    .dataframe tbody tr th {\n",
              "        vertical-align: top;\n",
              "    }\n",
              "\n",
              "    .dataframe thead th {\n",
              "        text-align: right;\n",
              "    }\n",
              "</style>\n",
              "<table border=\"1\" class=\"dataframe\">\n",
              "  <thead>\n",
              "    <tr style=\"text-align: right;\">\n",
              "      <th></th>\n",
              "      <th>PassengerId</th>\n",
              "      <th>Survived</th>\n",
              "      <th>Pclass</th>\n",
              "      <th>Name</th>\n",
              "      <th>Sex</th>\n",
              "      <th>Age</th>\n",
              "      <th>SibSp</th>\n",
              "      <th>Parch</th>\n",
              "      <th>Ticket</th>\n",
              "      <th>Fare</th>\n",
              "      <th>Cabin</th>\n",
              "      <th>Embarked</th>\n",
              "    </tr>\n",
              "  </thead>\n",
              "  <tbody>\n",
              "    <tr>\n",
              "      <th>151</th>\n",
              "      <td>152</td>\n",
              "      <td>1</td>\n",
              "      <td>1</td>\n",
              "      <td>Pears, Mrs. Thomas (Edith Wearne)</td>\n",
              "      <td>female</td>\n",
              "      <td>22.0</td>\n",
              "      <td>1</td>\n",
              "      <td>0</td>\n",
              "      <td>113776</td>\n",
              "      <td>66.6000</td>\n",
              "      <td>C2</td>\n",
              "      <td>S</td>\n",
              "    </tr>\n",
              "    <tr>\n",
              "      <th>152</th>\n",
              "      <td>153</td>\n",
              "      <td>0</td>\n",
              "      <td>3</td>\n",
              "      <td>Meo, Mr. Alfonzo</td>\n",
              "      <td>male</td>\n",
              "      <td>55.5</td>\n",
              "      <td>0</td>\n",
              "      <td>0</td>\n",
              "      <td>A.5. 11206</td>\n",
              "      <td>8.0500</td>\n",
              "      <td>NaN</td>\n",
              "      <td>S</td>\n",
              "    </tr>\n",
              "    <tr>\n",
              "      <th>153</th>\n",
              "      <td>154</td>\n",
              "      <td>0</td>\n",
              "      <td>3</td>\n",
              "      <td>van Billiard, Mr. Austin Blyler</td>\n",
              "      <td>male</td>\n",
              "      <td>40.5</td>\n",
              "      <td>0</td>\n",
              "      <td>2</td>\n",
              "      <td>A/5. 851</td>\n",
              "      <td>14.5000</td>\n",
              "      <td>NaN</td>\n",
              "      <td>S</td>\n",
              "    </tr>\n",
              "    <tr>\n",
              "      <th>154</th>\n",
              "      <td>155</td>\n",
              "      <td>0</td>\n",
              "      <td>3</td>\n",
              "      <td>Olsen, Mr. Ole Martin</td>\n",
              "      <td>male</td>\n",
              "      <td>NaN</td>\n",
              "      <td>0</td>\n",
              "      <td>0</td>\n",
              "      <td>Fa 265302</td>\n",
              "      <td>7.3125</td>\n",
              "      <td>NaN</td>\n",
              "      <td>S</td>\n",
              "    </tr>\n",
              "    <tr>\n",
              "      <th>155</th>\n",
              "      <td>156</td>\n",
              "      <td>0</td>\n",
              "      <td>1</td>\n",
              "      <td>Williams, Mr. Charles Duane</td>\n",
              "      <td>male</td>\n",
              "      <td>51.0</td>\n",
              "      <td>0</td>\n",
              "      <td>1</td>\n",
              "      <td>PC 17597</td>\n",
              "      <td>61.3792</td>\n",
              "      <td>NaN</td>\n",
              "      <td>C</td>\n",
              "    </tr>\n",
              "  </tbody>\n",
              "</table>\n",
              "</div>"
            ],
            "text/plain": [
              "     PassengerId  Survived  Pclass                               Name     Sex  \\\n",
              "151          152         1       1  Pears, Mrs. Thomas (Edith Wearne)  female   \n",
              "152          153         0       3                   Meo, Mr. Alfonzo    male   \n",
              "153          154         0       3    van Billiard, Mr. Austin Blyler    male   \n",
              "154          155         0       3              Olsen, Mr. Ole Martin    male   \n",
              "155          156         0       1        Williams, Mr. Charles Duane    male   \n",
              "\n",
              "      Age  SibSp  Parch      Ticket     Fare Cabin Embarked  \n",
              "151  22.0      1      0      113776  66.6000    C2        S  \n",
              "152  55.5      0      0  A.5. 11206   8.0500   NaN        S  \n",
              "153  40.5      0      2    A/5. 851  14.5000   NaN        S  \n",
              "154   NaN      0      0   Fa 265302   7.3125   NaN        S  \n",
              "155  51.0      0      1    PC 17597  61.3792   NaN        C  "
            ]
          },
          "execution_count": 11,
          "metadata": {},
          "output_type": "execute_result"
        }
      ],
      "source": [
        "#archivo CSV separado por comas\n",
        "data2 = pd.read_csv(\"data/titanic_tabs.csv\", delimiter=\"\\t\")\n",
        "\n",
        "#leer 5 primeras lineas\n",
        "data2.tail()"
      ]
    },
    {
      "cell_type": "markdown",
      "metadata": {
        "id": "nZj3nE2ELfxf"
      },
      "source": [
        "![linea 2](https://user-images.githubusercontent.com/19308295/115926262-2fb62980-a448-11eb-8189-c2f10e499944.png)"
      ]
    },
    {
      "cell_type": "markdown",
      "metadata": {
        "id": "R4pLFxWGLfxf"
      },
      "source": [
        "## <font color=#33A5FF>****4. Estadistica DataFrame****<tfont>"
      ]
    },
    {
      "cell_type": "markdown",
      "metadata": {
        "id": "rn-7VbBXLfxf"
      },
      "source": [
        "<div class=\"well\">\n",
        "En <strong>Pandas</strong>  podemos hallar con pocos comandos de manera muy sencilla y rapida <strong>la estadistica</strong> de los datos de todo tipo de archivos. Comenzamos con archivos <code>csv</code>.   \n",
        "</div>"
      ]
    },
    {
      "cell_type": "code",
      "execution_count": null,
      "metadata": {
        "id": "Vws99VM_Lfxf",
        "outputId": "3f77269e-d341-4396-c3d8-52085d88cca7"
      },
      "outputs": [
        {
          "data": {
            "text/html": [
              "<div>\n",
              "<style scoped>\n",
              "    .dataframe tbody tr th:only-of-type {\n",
              "        vertical-align: middle;\n",
              "    }\n",
              "\n",
              "    .dataframe tbody tr th {\n",
              "        vertical-align: top;\n",
              "    }\n",
              "\n",
              "    .dataframe thead th {\n",
              "        text-align: right;\n",
              "    }\n",
              "</style>\n",
              "<table border=\"1\" class=\"dataframe\">\n",
              "  <thead>\n",
              "    <tr style=\"text-align: right;\">\n",
              "      <th></th>\n",
              "      <th>Alumno</th>\n",
              "      <th>Nota1</th>\n",
              "      <th>Nota2</th>\n",
              "      <th>Nota3</th>\n",
              "      <th>Promedio</th>\n",
              "    </tr>\n",
              "  </thead>\n",
              "  <tbody>\n",
              "    <tr>\n",
              "      <th>0</th>\n",
              "      <td>Maria</td>\n",
              "      <td>18.0</td>\n",
              "      <td>19</td>\n",
              "      <td>18</td>\n",
              "      <td>18</td>\n",
              "    </tr>\n",
              "    <tr>\n",
              "      <th>1</th>\n",
              "      <td>Jose</td>\n",
              "      <td>8.0</td>\n",
              "      <td>15</td>\n",
              "      <td>11</td>\n",
              "      <td>11</td>\n",
              "    </tr>\n",
              "    <tr>\n",
              "      <th>2</th>\n",
              "      <td>Juan</td>\n",
              "      <td>13.0</td>\n",
              "      <td>12</td>\n",
              "      <td>17</td>\n",
              "      <td>14</td>\n",
              "    </tr>\n",
              "    <tr>\n",
              "      <th>3</th>\n",
              "      <td>Luis</td>\n",
              "      <td>10.0</td>\n",
              "      <td>19</td>\n",
              "      <td>18</td>\n",
              "      <td>16</td>\n",
              "    </tr>\n",
              "    <tr>\n",
              "      <th>4</th>\n",
              "      <td>Carlos</td>\n",
              "      <td>16.0</td>\n",
              "      <td>12</td>\n",
              "      <td>10</td>\n",
              "      <td>13</td>\n",
              "    </tr>\n",
              "    <tr>\n",
              "      <th>5</th>\n",
              "      <td>Rosa</td>\n",
              "      <td>0.0</td>\n",
              "      <td>14</td>\n",
              "      <td>10</td>\n",
              "      <td>8</td>\n",
              "    </tr>\n",
              "    <tr>\n",
              "      <th>6</th>\n",
              "      <td>Jorge</td>\n",
              "      <td>9.0</td>\n",
              "      <td>11</td>\n",
              "      <td>19</td>\n",
              "      <td>13</td>\n",
              "    </tr>\n",
              "    <tr>\n",
              "      <th>7</th>\n",
              "      <td>Victor</td>\n",
              "      <td>6.0</td>\n",
              "      <td>13</td>\n",
              "      <td>10</td>\n",
              "      <td>10</td>\n",
              "    </tr>\n",
              "    <tr>\n",
              "      <th>8</th>\n",
              "      <td>Ana</td>\n",
              "      <td>18.0</td>\n",
              "      <td>19</td>\n",
              "      <td>11</td>\n",
              "      <td>16</td>\n",
              "    </tr>\n",
              "    <tr>\n",
              "      <th>9</th>\n",
              "      <td>Luz</td>\n",
              "      <td>14.0</td>\n",
              "      <td>20</td>\n",
              "      <td>16</td>\n",
              "      <td>17</td>\n",
              "    </tr>\n",
              "  </tbody>\n",
              "</table>\n",
              "</div>"
            ],
            "text/plain": [
              "   Alumno  Nota1  Nota2  Nota3  Promedio\n",
              "0   Maria   18.0     19     18        18\n",
              "1    Jose    8.0     15     11        11\n",
              "2    Juan   13.0     12     17        14\n",
              "3    Luis   10.0     19     18        16\n",
              "4  Carlos   16.0     12     10        13\n",
              "5    Rosa    0.0     14     10         8\n",
              "6   Jorge    9.0     11     19        13\n",
              "7  Victor    6.0     13     10        10\n",
              "8     Ana   18.0     19     11        16\n",
              "9     Luz   14.0     20     16        17"
            ]
          },
          "execution_count": 12,
          "metadata": {},
          "output_type": "execute_result"
        }
      ],
      "source": [
        "#cargamos un archivo CSV separado por punto y coma (importado excel)\n",
        "notas = pd.read_csv(\"data/notas.csv\", delimiter=\";\")\n",
        "\n",
        "#leer 10 primeras lineas\n",
        "notas.head(10)\n",
        "#imprimir toda la lista\n",
        "#print(notas)"
      ]
    },
    {
      "cell_type": "markdown",
      "metadata": {
        "id": "2G9-JXJ4Lfxf"
      },
      "source": [
        "`describe()` : muestra estadísticas de resumen para las columnas numéricas."
      ]
    },
    {
      "cell_type": "code",
      "execution_count": null,
      "metadata": {
        "id": "VMzngzgTLfxf",
        "outputId": "e736a784-c0d8-4f4e-db7e-530526243377"
      },
      "outputs": [
        {
          "name": "stdout",
          "output_type": "stream",
          "text": [
            "Estadisticas del DataFrame\n"
          ]
        },
        {
          "data": {
            "text/html": [
              "<div>\n",
              "<style scoped>\n",
              "    .dataframe tbody tr th:only-of-type {\n",
              "        vertical-align: middle;\n",
              "    }\n",
              "\n",
              "    .dataframe tbody tr th {\n",
              "        vertical-align: top;\n",
              "    }\n",
              "\n",
              "    .dataframe thead th {\n",
              "        text-align: right;\n",
              "    }\n",
              "</style>\n",
              "<table border=\"1\" class=\"dataframe\">\n",
              "  <thead>\n",
              "    <tr style=\"text-align: right;\">\n",
              "      <th></th>\n",
              "      <th>Nota1</th>\n",
              "      <th>Nota2</th>\n",
              "      <th>Nota3</th>\n",
              "      <th>Promedio</th>\n",
              "    </tr>\n",
              "  </thead>\n",
              "  <tbody>\n",
              "    <tr>\n",
              "      <th>count</th>\n",
              "      <td>49.000000</td>\n",
              "      <td>50.000000</td>\n",
              "      <td>50.000000</td>\n",
              "      <td>50.000000</td>\n",
              "    </tr>\n",
              "    <tr>\n",
              "      <th>mean</th>\n",
              "      <td>11.836735</td>\n",
              "      <td>13.720000</td>\n",
              "      <td>14.720000</td>\n",
              "      <td>13.440000</td>\n",
              "    </tr>\n",
              "    <tr>\n",
              "      <th>std</th>\n",
              "      <td>5.075870</td>\n",
              "      <td>4.204177</td>\n",
              "      <td>3.434756</td>\n",
              "      <td>2.778636</td>\n",
              "    </tr>\n",
              "    <tr>\n",
              "      <th>min</th>\n",
              "      <td>0.000000</td>\n",
              "      <td>0.000000</td>\n",
              "      <td>10.000000</td>\n",
              "      <td>8.000000</td>\n",
              "    </tr>\n",
              "    <tr>\n",
              "      <th>25%</th>\n",
              "      <td>8.000000</td>\n",
              "      <td>11.000000</td>\n",
              "      <td>11.250000</td>\n",
              "      <td>12.000000</td>\n",
              "    </tr>\n",
              "    <tr>\n",
              "      <th>50%</th>\n",
              "      <td>11.000000</td>\n",
              "      <td>13.000000</td>\n",
              "      <td>14.500000</td>\n",
              "      <td>13.000000</td>\n",
              "    </tr>\n",
              "    <tr>\n",
              "      <th>75%</th>\n",
              "      <td>16.000000</td>\n",
              "      <td>17.000000</td>\n",
              "      <td>18.000000</td>\n",
              "      <td>15.750000</td>\n",
              "    </tr>\n",
              "    <tr>\n",
              "      <th>max</th>\n",
              "      <td>20.000000</td>\n",
              "      <td>20.000000</td>\n",
              "      <td>20.000000</td>\n",
              "      <td>19.000000</td>\n",
              "    </tr>\n",
              "  </tbody>\n",
              "</table>\n",
              "</div>"
            ],
            "text/plain": [
              "           Nota1      Nota2      Nota3   Promedio\n",
              "count  49.000000  50.000000  50.000000  50.000000\n",
              "mean   11.836735  13.720000  14.720000  13.440000\n",
              "std     5.075870   4.204177   3.434756   2.778636\n",
              "min     0.000000   0.000000  10.000000   8.000000\n",
              "25%     8.000000  11.000000  11.250000  12.000000\n",
              "50%    11.000000  13.000000  14.500000  13.000000\n",
              "75%    16.000000  17.000000  18.000000  15.750000\n",
              "max    20.000000  20.000000  20.000000  19.000000"
            ]
          },
          "execution_count": 13,
          "metadata": {},
          "output_type": "execute_result"
        }
      ],
      "source": [
        "#Estadísticas del DataFrame\n",
        "print(\"Estadisticas del DataFrame\")\n",
        "\n",
        "#impresión\n",
        "notas.describe()"
      ]
    },
    {
      "cell_type": "markdown",
      "metadata": {
        "id": "yxoI7uaJLfxf"
      },
      "source": [
        "Para los datos numéricos, el índice del resultado incluirá **cantidad de datos** `count`, **media** `mean`, desviación estandar `std`, **valor mínimo** `min`, **valor máximo**,los percentiles inferior de 25% y el percentil superior de 75%."
      ]
    },
    {
      "cell_type": "markdown",
      "metadata": {
        "id": "ZKm28JgALfxf"
      },
      "source": [
        "### Media de las columnas DataFrame"
      ]
    },
    {
      "cell_type": "code",
      "execution_count": null,
      "metadata": {
        "id": "-lMx0RnNLfxf",
        "outputId": "9e9af0af-7ebf-4a3f-8085-3fed75ecbafb"
      },
      "outputs": [
        {
          "name": "stdout",
          "output_type": "stream",
          "text": [
            "Media de las columnas DataFrame:\n",
            "Nota1       11.836735\n",
            "Nota2       13.720000\n",
            "Nota3       14.720000\n",
            "Promedio    13.440000\n",
            "dtype: float64\n"
          ]
        }
      ],
      "source": [
        "#Media de las columnas DataFrame\n",
        "print(\"Media de las columnas DataFrame:\")\n",
        "\n",
        "#impresión print spyder\n",
        "print(notas.select_dtypes(include=['number']).mean())"
      ]
    },
    {
      "cell_type": "code",
      "execution_count": null,
      "metadata": {
        "id": "cHm1eOyvLfxg",
        "outputId": "59567a8f-f01f-414e-ad62-9317beb0f037"
      },
      "outputs": [
        {
          "data": {
            "text/plain": [
              "Nota1       11.836735\n",
              "Nota2       13.720000\n",
              "Nota3       14.720000\n",
              "Promedio    13.440000\n",
              "dtype: float64"
            ]
          },
          "execution_count": 19,
          "metadata": {},
          "output_type": "execute_result"
        }
      ],
      "source": [
        "#impresión\n",
        "notas.select_dtypes(include=['number']).mean()"
      ]
    },
    {
      "cell_type": "markdown",
      "metadata": {
        "id": "3KQhwFLdLfxg"
      },
      "source": [
        "### Correlación del DataFrame"
      ]
    },
    {
      "cell_type": "code",
      "execution_count": null,
      "metadata": {
        "id": "g2fPMUMHLfxg",
        "outputId": "bc5fe9bd-129b-4932-a799-0e07482cb51b"
      },
      "outputs": [
        {
          "name": "stdout",
          "output_type": "stream",
          "text": [
            "Correlación del DataFrame:\n",
            "             Nota1     Nota2     Nota3  Promedio\n",
            "Nota1     1.000000  0.154411  0.212137  0.762637\n",
            "Nota2     0.154411  1.000000  0.008593  0.596004\n",
            "Nota3     0.212137  0.008593  1.000000  0.549895\n",
            "Promedio  0.762637  0.596004  0.549895  1.000000\n"
          ]
        }
      ],
      "source": [
        "#Correlación del DataFrame\n",
        "print(\"Correlación del DataFrame:\")\n",
        "\n",
        "#impresión\n",
        "print(notas.select_dtypes(include=['number']).corr())"
      ]
    },
    {
      "cell_type": "markdown",
      "metadata": {
        "id": "OPBBueZaLfxg"
      },
      "source": [
        "### Cuenta los datos del DataFrame"
      ]
    },
    {
      "cell_type": "code",
      "execution_count": null,
      "metadata": {
        "id": "rxBbtO1hLfxg",
        "outputId": "067cf8e5-af8b-420e-8659-75be35a49fce"
      },
      "outputs": [
        {
          "name": "stdout",
          "output_type": "stream",
          "text": [
            "Conteo de los datos del DataFrame\n"
          ]
        },
        {
          "data": {
            "text/plain": [
              "Alumno      50\n",
              "Nota1       49\n",
              "Nota2       50\n",
              "Nota3       50\n",
              "Promedio    50\n",
              "dtype: int64"
            ]
          },
          "execution_count": 20,
          "metadata": {},
          "output_type": "execute_result"
        }
      ],
      "source": [
        "#Cuenta los datos del DataFrame no nulos\n",
        "print(\"Conteo de los datos del DataFrame\")\n",
        "\n",
        "#impresión\n",
        "notas.count()"
      ]
    },
    {
      "cell_type": "markdown",
      "metadata": {
        "id": "SEXfP84ZLfxg"
      },
      "source": [
        "### Valor más alto"
      ]
    },
    {
      "cell_type": "code",
      "execution_count": null,
      "metadata": {
        "id": "3QSaeFBMLfxg",
        "outputId": "787ad8f6-8a2f-4010-84a4-b63297fadcf6"
      },
      "outputs": [
        {
          "name": "stdout",
          "output_type": "stream",
          "text": [
            "Valor más alto de la columna del DataFrame\n"
          ]
        },
        {
          "data": {
            "text/plain": [
              "Alumno      Walter\n",
              "Nota1         20.0\n",
              "Nota2           20\n",
              "Nota3           20\n",
              "Promedio        19\n",
              "dtype: object"
            ]
          },
          "execution_count": 21,
          "metadata": {},
          "output_type": "execute_result"
        }
      ],
      "source": [
        "#Valor más alto de cada columna del DataFrame\n",
        "print(\"Valor más alto de la columna del DataFrame\")\n",
        "\n",
        "#impresión\n",
        "notas.max()"
      ]
    },
    {
      "cell_type": "markdown",
      "metadata": {
        "id": "7Be11MXFLfxg"
      },
      "source": [
        "### Valor más bajo"
      ]
    },
    {
      "cell_type": "code",
      "execution_count": null,
      "metadata": {
        "id": "0Ar00MATLfxg",
        "outputId": "346da219-a345-4a85-b5bf-bfd41af437dc"
      },
      "outputs": [
        {
          "name": "stdout",
          "output_type": "stream",
          "text": [
            "Valor mínimo de la columna del DataFrame\n"
          ]
        },
        {
          "data": {
            "text/plain": [
              "Alumno      Alejandro\n",
              "Nota1             0.0\n",
              "Nota2               0\n",
              "Nota3              10\n",
              "Promedio            8\n",
              "dtype: object"
            ]
          },
          "execution_count": 22,
          "metadata": {},
          "output_type": "execute_result"
        }
      ],
      "source": [
        "#Valor mínimo de cada columna del DataFrame\n",
        "print(\"Valor mínimo de la columna del DataFrame\")\n",
        "\n",
        "#impresión\n",
        "notas.min()"
      ]
    },
    {
      "cell_type": "markdown",
      "metadata": {
        "id": "bEm5XijmLfxg"
      },
      "source": [
        "### Mediana x Columna"
      ]
    },
    {
      "cell_type": "code",
      "execution_count": null,
      "metadata": {
        "id": "X0-4p-19Lfxg",
        "outputId": "f913eca6-9a35-4464-b73b-6851d68b4ece"
      },
      "outputs": [
        {
          "name": "stdout",
          "output_type": "stream",
          "text": [
            "Mediana de la columna del DataFrame\n"
          ]
        },
        {
          "data": {
            "text/plain": [
              "Nota1       11.0\n",
              "Nota2       13.0\n",
              "Nota3       14.5\n",
              "Promedio    13.0\n",
              "dtype: float64"
            ]
          },
          "execution_count": 24,
          "metadata": {},
          "output_type": "execute_result"
        }
      ],
      "source": [
        "#Mediana de cada columna del DataFrame\n",
        "print(\"Mediana de la columna del DataFrame\")\n",
        "\n",
        "#impresion\n",
        "notas.select_dtypes(include=['number']).median()"
      ]
    },
    {
      "cell_type": "markdown",
      "metadata": {
        "id": "6ZIGBa7sLfxg"
      },
      "source": [
        "### Desviación estándar x Columna"
      ]
    },
    {
      "cell_type": "code",
      "execution_count": null,
      "metadata": {
        "id": "s8_okLOxLfxg",
        "outputId": "b3910f92-acf2-4753-98ac-42e139acd4aa"
      },
      "outputs": [
        {
          "name": "stdout",
          "output_type": "stream",
          "text": [
            "Desviación estándar de la columna del DataFrame\n"
          ]
        },
        {
          "data": {
            "text/plain": [
              "Nota1       5.075870\n",
              "Nota2       4.204177\n",
              "Nota3       3.434756\n",
              "Promedio    2.778636\n",
              "dtype: float64"
            ]
          },
          "execution_count": 26,
          "metadata": {},
          "output_type": "execute_result"
        }
      ],
      "source": [
        "#Desviación estándar de cada columna del DataFrame\n",
        "print(\"Desviación estándar de la columna del DataFrame\")\n",
        "\n",
        "#impresion\n",
        "notas.select_dtypes(include=['number']).std()"
      ]
    },
    {
      "cell_type": "markdown",
      "metadata": {
        "id": "nqbNUUnFLfxg"
      },
      "source": [
        "##  Seleccionar un índice o columna"
      ]
    },
    {
      "cell_type": "markdown",
      "metadata": {
        "id": "ksemcGDYLfxg"
      },
      "source": [
        "Una de las funciones que son muy fáciles en **Pandas** es seleccionar los datos que deseas en comparación con seleccionar un valor de una lista o un diccionario. Puedes seleccionar una columna de manera muy fácil, solamente deberás indicar el índice de la misma."
      ]
    },
    {
      "cell_type": "code",
      "execution_count": null,
      "metadata": {
        "id": "WI8tYVk7Lfxg",
        "outputId": "94a7d2bc-f09a-4395-942a-836c68a7a13c"
      },
      "outputs": [
        {
          "name": "stdout",
          "output_type": "stream",
          "text": [
            "Primera columna del DataFrame:\n"
          ]
        },
        {
          "data": {
            "text/plain": [
              "0         Maria\n",
              "1          Jose\n",
              "2          Juan\n",
              "3          Luis\n",
              "4        Carlos\n",
              "5          Rosa\n",
              "6         Jorge\n",
              "7        Victor\n",
              "8           Ana\n",
              "9           Luz\n",
              "10        Cesar\n",
              "11       Carmen\n",
              "12       Miguel\n",
              "13        Julio\n",
              "14        Jesus\n",
              "15        Pedro\n",
              "16       Manuel\n",
              "17        Juana\n",
              "18       Santos\n",
              "19      Segundo\n",
              "20         Jhon\n",
              "21        David\n",
              "22        Angel\n",
              "23        Julia\n",
              "24        Diego\n",
              "25         Flor\n",
              "26    Elizabeth\n",
              "27       Daniel\n",
              "28        Oscar\n",
              "29         Ruth\n",
              "30        Diana\n",
              "31        Marco\n",
              "32        Edwin\n",
              "33       Javier\n",
              "34       Walter\n",
              "35    Francisco\n",
              "36     Fernando\n",
              "37     Milagros\n",
              "38    Alejandro\n",
              "39         Raul\n",
              "40      Ricardo\n",
              "41         Alex\n",
              "42      Roberto\n",
              "43        Edgar\n",
              "44     Victoria\n",
              "45      Eduardo\n",
              "46        Mario\n",
              "47        Jaime\n",
              "48       Gloria\n",
              "49       Andrea\n",
              "Name: Alumno, dtype: object"
            ]
          },
          "execution_count": 28,
          "metadata": {},
          "output_type": "execute_result"
        }
      ],
      "source": [
        "#Seleccionar la primera columna del DataFrame\n",
        "print(\"Primera columna del DataFrame:\")\n",
        "\n",
        "#impresión\n",
        "notas.iloc[:, 0]"
      ]
    },
    {
      "cell_type": "code",
      "execution_count": null,
      "metadata": {
        "id": "OmaDASihLfxh",
        "outputId": "1526d96c-a790-458d-dd51-2a2194f382c5"
      },
      "outputs": [
        {
          "name": "stdout",
          "output_type": "stream",
          "text": [
            "Dos columnas del DataFrame:\n"
          ]
        },
        {
          "data": {
            "text/html": [
              "<div>\n",
              "<style scoped>\n",
              "    .dataframe tbody tr th:only-of-type {\n",
              "        vertical-align: middle;\n",
              "    }\n",
              "\n",
              "    .dataframe tbody tr th {\n",
              "        vertical-align: top;\n",
              "    }\n",
              "\n",
              "    .dataframe thead th {\n",
              "        text-align: right;\n",
              "    }\n",
              "</style>\n",
              "<table border=\"1\" class=\"dataframe\">\n",
              "  <thead>\n",
              "    <tr style=\"text-align: right;\">\n",
              "      <th></th>\n",
              "      <th>Alumno</th>\n",
              "      <th>Nota1</th>\n",
              "    </tr>\n",
              "  </thead>\n",
              "  <tbody>\n",
              "    <tr>\n",
              "      <th>0</th>\n",
              "      <td>Maria</td>\n",
              "      <td>18.0</td>\n",
              "    </tr>\n",
              "    <tr>\n",
              "      <th>1</th>\n",
              "      <td>Jose</td>\n",
              "      <td>8.0</td>\n",
              "    </tr>\n",
              "    <tr>\n",
              "      <th>2</th>\n",
              "      <td>Juan</td>\n",
              "      <td>13.0</td>\n",
              "    </tr>\n",
              "    <tr>\n",
              "      <th>3</th>\n",
              "      <td>Luis</td>\n",
              "      <td>10.0</td>\n",
              "    </tr>\n",
              "    <tr>\n",
              "      <th>4</th>\n",
              "      <td>Carlos</td>\n",
              "      <td>16.0</td>\n",
              "    </tr>\n",
              "    <tr>\n",
              "      <th>5</th>\n",
              "      <td>Rosa</td>\n",
              "      <td>0.0</td>\n",
              "    </tr>\n",
              "    <tr>\n",
              "      <th>6</th>\n",
              "      <td>Jorge</td>\n",
              "      <td>9.0</td>\n",
              "    </tr>\n",
              "    <tr>\n",
              "      <th>7</th>\n",
              "      <td>Victor</td>\n",
              "      <td>6.0</td>\n",
              "    </tr>\n",
              "    <tr>\n",
              "      <th>8</th>\n",
              "      <td>Ana</td>\n",
              "      <td>18.0</td>\n",
              "    </tr>\n",
              "    <tr>\n",
              "      <th>9</th>\n",
              "      <td>Luz</td>\n",
              "      <td>14.0</td>\n",
              "    </tr>\n",
              "    <tr>\n",
              "      <th>10</th>\n",
              "      <td>Cesar</td>\n",
              "      <td>8.0</td>\n",
              "    </tr>\n",
              "    <tr>\n",
              "      <th>11</th>\n",
              "      <td>Carmen</td>\n",
              "      <td>14.0</td>\n",
              "    </tr>\n",
              "    <tr>\n",
              "      <th>12</th>\n",
              "      <td>Miguel</td>\n",
              "      <td>14.0</td>\n",
              "    </tr>\n",
              "    <tr>\n",
              "      <th>13</th>\n",
              "      <td>Julio</td>\n",
              "      <td>11.0</td>\n",
              "    </tr>\n",
              "    <tr>\n",
              "      <th>14</th>\n",
              "      <td>Jesus</td>\n",
              "      <td>12.0</td>\n",
              "    </tr>\n",
              "    <tr>\n",
              "      <th>15</th>\n",
              "      <td>Pedro</td>\n",
              "      <td>5.0</td>\n",
              "    </tr>\n",
              "    <tr>\n",
              "      <th>16</th>\n",
              "      <td>Manuel</td>\n",
              "      <td>15.0</td>\n",
              "    </tr>\n",
              "    <tr>\n",
              "      <th>17</th>\n",
              "      <td>Juana</td>\n",
              "      <td>8.0</td>\n",
              "    </tr>\n",
              "    <tr>\n",
              "      <th>18</th>\n",
              "      <td>Santos</td>\n",
              "      <td>7.0</td>\n",
              "    </tr>\n",
              "    <tr>\n",
              "      <th>19</th>\n",
              "      <td>Segundo</td>\n",
              "      <td>NaN</td>\n",
              "    </tr>\n",
              "    <tr>\n",
              "      <th>20</th>\n",
              "      <td>Jhon</td>\n",
              "      <td>10.0</td>\n",
              "    </tr>\n",
              "    <tr>\n",
              "      <th>21</th>\n",
              "      <td>David</td>\n",
              "      <td>7.0</td>\n",
              "    </tr>\n",
              "    <tr>\n",
              "      <th>22</th>\n",
              "      <td>Angel</td>\n",
              "      <td>18.0</td>\n",
              "    </tr>\n",
              "    <tr>\n",
              "      <th>23</th>\n",
              "      <td>Julia</td>\n",
              "      <td>7.0</td>\n",
              "    </tr>\n",
              "    <tr>\n",
              "      <th>24</th>\n",
              "      <td>Diego</td>\n",
              "      <td>20.0</td>\n",
              "    </tr>\n",
              "    <tr>\n",
              "      <th>25</th>\n",
              "      <td>Flor</td>\n",
              "      <td>12.0</td>\n",
              "    </tr>\n",
              "    <tr>\n",
              "      <th>26</th>\n",
              "      <td>Elizabeth</td>\n",
              "      <td>16.0</td>\n",
              "    </tr>\n",
              "    <tr>\n",
              "      <th>27</th>\n",
              "      <td>Daniel</td>\n",
              "      <td>18.0</td>\n",
              "    </tr>\n",
              "    <tr>\n",
              "      <th>28</th>\n",
              "      <td>Oscar</td>\n",
              "      <td>10.0</td>\n",
              "    </tr>\n",
              "    <tr>\n",
              "      <th>29</th>\n",
              "      <td>Ruth</td>\n",
              "      <td>9.0</td>\n",
              "    </tr>\n",
              "    <tr>\n",
              "      <th>30</th>\n",
              "      <td>Diana</td>\n",
              "      <td>16.0</td>\n",
              "    </tr>\n",
              "    <tr>\n",
              "      <th>31</th>\n",
              "      <td>Marco</td>\n",
              "      <td>9.0</td>\n",
              "    </tr>\n",
              "    <tr>\n",
              "      <th>32</th>\n",
              "      <td>Edwin</td>\n",
              "      <td>0.0</td>\n",
              "    </tr>\n",
              "    <tr>\n",
              "      <th>33</th>\n",
              "      <td>Javier</td>\n",
              "      <td>6.0</td>\n",
              "    </tr>\n",
              "    <tr>\n",
              "      <th>34</th>\n",
              "      <td>Walter</td>\n",
              "      <td>11.0</td>\n",
              "    </tr>\n",
              "    <tr>\n",
              "      <th>35</th>\n",
              "      <td>Francisco</td>\n",
              "      <td>5.0</td>\n",
              "    </tr>\n",
              "    <tr>\n",
              "      <th>36</th>\n",
              "      <td>Fernando</td>\n",
              "      <td>10.0</td>\n",
              "    </tr>\n",
              "    <tr>\n",
              "      <th>37</th>\n",
              "      <td>Milagros</td>\n",
              "      <td>18.0</td>\n",
              "    </tr>\n",
              "    <tr>\n",
              "      <th>38</th>\n",
              "      <td>Alejandro</td>\n",
              "      <td>9.0</td>\n",
              "    </tr>\n",
              "    <tr>\n",
              "      <th>39</th>\n",
              "      <td>Raul</td>\n",
              "      <td>20.0</td>\n",
              "    </tr>\n",
              "    <tr>\n",
              "      <th>40</th>\n",
              "      <td>Ricardo</td>\n",
              "      <td>9.0</td>\n",
              "    </tr>\n",
              "    <tr>\n",
              "      <th>41</th>\n",
              "      <td>Alex</td>\n",
              "      <td>10.0</td>\n",
              "    </tr>\n",
              "    <tr>\n",
              "      <th>42</th>\n",
              "      <td>Roberto</td>\n",
              "      <td>19.0</td>\n",
              "    </tr>\n",
              "    <tr>\n",
              "      <th>43</th>\n",
              "      <td>Edgar</td>\n",
              "      <td>15.0</td>\n",
              "    </tr>\n",
              "    <tr>\n",
              "      <th>44</th>\n",
              "      <td>Victoria</td>\n",
              "      <td>8.0</td>\n",
              "    </tr>\n",
              "    <tr>\n",
              "      <th>45</th>\n",
              "      <td>Eduardo</td>\n",
              "      <td>12.0</td>\n",
              "    </tr>\n",
              "    <tr>\n",
              "      <th>46</th>\n",
              "      <td>Mario</td>\n",
              "      <td>19.0</td>\n",
              "    </tr>\n",
              "    <tr>\n",
              "      <th>47</th>\n",
              "      <td>Jaime</td>\n",
              "      <td>18.0</td>\n",
              "    </tr>\n",
              "    <tr>\n",
              "      <th>48</th>\n",
              "      <td>Gloria</td>\n",
              "      <td>19.0</td>\n",
              "    </tr>\n",
              "    <tr>\n",
              "      <th>49</th>\n",
              "      <td>Andrea</td>\n",
              "      <td>14.0</td>\n",
              "    </tr>\n",
              "  </tbody>\n",
              "</table>\n",
              "</div>"
            ],
            "text/plain": [
              "       Alumno  Nota1\n",
              "0       Maria   18.0\n",
              "1        Jose    8.0\n",
              "2        Juan   13.0\n",
              "3        Luis   10.0\n",
              "4      Carlos   16.0\n",
              "5        Rosa    0.0\n",
              "6       Jorge    9.0\n",
              "7      Victor    6.0\n",
              "8         Ana   18.0\n",
              "9         Luz   14.0\n",
              "10      Cesar    8.0\n",
              "11     Carmen   14.0\n",
              "12     Miguel   14.0\n",
              "13      Julio   11.0\n",
              "14      Jesus   12.0\n",
              "15      Pedro    5.0\n",
              "16     Manuel   15.0\n",
              "17      Juana    8.0\n",
              "18     Santos    7.0\n",
              "19    Segundo    NaN\n",
              "20       Jhon   10.0\n",
              "21      David    7.0\n",
              "22      Angel   18.0\n",
              "23      Julia    7.0\n",
              "24      Diego   20.0\n",
              "25       Flor   12.0\n",
              "26  Elizabeth   16.0\n",
              "27     Daniel   18.0\n",
              "28      Oscar   10.0\n",
              "29       Ruth    9.0\n",
              "30      Diana   16.0\n",
              "31      Marco    9.0\n",
              "32      Edwin    0.0\n",
              "33     Javier    6.0\n",
              "34     Walter   11.0\n",
              "35  Francisco    5.0\n",
              "36   Fernando   10.0\n",
              "37   Milagros   18.0\n",
              "38  Alejandro    9.0\n",
              "39       Raul   20.0\n",
              "40    Ricardo    9.0\n",
              "41       Alex   10.0\n",
              "42    Roberto   19.0\n",
              "43      Edgar   15.0\n",
              "44   Victoria    8.0\n",
              "45    Eduardo   12.0\n",
              "46      Mario   19.0\n",
              "47      Jaime   18.0\n",
              "48     Gloria   19.0\n",
              "49     Andrea   14.0"
            ]
          },
          "execution_count": 29,
          "metadata": {},
          "output_type": "execute_result"
        }
      ],
      "source": [
        "#Seleccionar dos columnas del DataFrame\n",
        "print(\"Dos columnas del DataFrame:\")\n",
        "\n",
        "#impresión\n",
        "notas.iloc[:, 0:2]"
      ]
    },
    {
      "cell_type": "code",
      "execution_count": null,
      "metadata": {
        "id": "tNJXDsSmLfxh",
        "outputId": "e63e1641-ad7b-42b6-bd58-8f31d078f1a4"
      },
      "outputs": [
        {
          "name": "stdout",
          "output_type": "stream",
          "text": [
            "Valor de la primera fila(Alimno:Maria) y 3ra columna(Nota2) del DataFrame:\n"
          ]
        },
        {
          "name": "stderr",
          "output_type": "stream",
          "text": [
            "C:\\Users\\User\\AppData\\Local\\Temp\\ipykernel_10488\\1586427616.py:5: FutureWarning: Series.__getitem__ treating keys as positions is deprecated. In a future version, integer keys will always be treated as labels (consistent with DataFrame behavior). To access a value by position, use `ser.iloc[pos]`\n",
            "  notas.iloc[0][2]\n"
          ]
        },
        {
          "data": {
            "text/plain": [
              "19"
            ]
          },
          "execution_count": 30,
          "metadata": {},
          "output_type": "execute_result"
        }
      ],
      "source": [
        "#Seleccionar el valor de la primera fila y última columna del DataFrame\n",
        "print(\"Valor de la primera fila(Alimno:Maria) y 3ra columna(Nota2) del DataFrame:\")\n",
        "\n",
        "#impresión\n",
        "notas.iloc[0][2]"
      ]
    },
    {
      "cell_type": "code",
      "execution_count": null,
      "metadata": {
        "id": "Ezu146O7Lfxh",
        "outputId": "d75534e5-b3ee-48c5-eb85-26ed6ab9dc24"
      },
      "outputs": [
        {
          "name": "stdout",
          "output_type": "stream",
          "text": [
            "Valores de la primera fila del DataFrame:\n"
          ]
        },
        {
          "data": {
            "text/plain": [
              "Alumno      Maria\n",
              "Nota1        18.0\n",
              "Nota2          19\n",
              "Nota3          18\n",
              "Promedio       18\n",
              "Name: 0, dtype: object"
            ]
          },
          "execution_count": 31,
          "metadata": {},
          "output_type": "execute_result"
        }
      ],
      "source": [
        "#Seleccionar los valores de la primera fila del DataFrame\n",
        "print(\"Valores de la primera fila del DataFrame:\")\n",
        "\n",
        "#impresión\n",
        "notas.loc[0]"
      ]
    },
    {
      "cell_type": "code",
      "execution_count": null,
      "metadata": {
        "id": "4g284F8fLfxh",
        "outputId": "eac11fbd-ed59-4651-8add-d1105ae8bb0a"
      },
      "outputs": [
        {
          "name": "stdout",
          "output_type": "stream",
          "text": [
            "Valores de la primera fila del DataFrame:\n"
          ]
        },
        {
          "data": {
            "text/plain": [
              "Alumno      Maria\n",
              "Nota1        18.0\n",
              "Nota2          19\n",
              "Nota3          18\n",
              "Promedio       18\n",
              "Name: 0, dtype: object"
            ]
          },
          "execution_count": 33,
          "metadata": {},
          "output_type": "execute_result"
        }
      ],
      "source": [
        "#Seleccionar los valores de la primera fila del DataFrame\n",
        "print(\"Valores de la primera fila del DataFrame:\")\n",
        "\n",
        "#impresión con iloc\n",
        "notas.iloc[0,:]"
      ]
    },
    {
      "cell_type": "markdown",
      "metadata": {
        "id": "CM4q4uv-Lfxh"
      },
      "source": [
        "![linea 2](https://user-images.githubusercontent.com/19308295/115926262-2fb62980-a448-11eb-8189-c2f10e499944.png)"
      ]
    },
    {
      "cell_type": "markdown",
      "metadata": {
        "id": "obxozY3cLfxh"
      },
      "source": [
        "## <font color=#33A5FF>****EJEMPLOS****<tfont>"
      ]
    },
    {
      "cell_type": "markdown",
      "metadata": {
        "id": "6NGHFBP0Lfxh"
      },
      "source": [
        "### Explorando datos"
      ]
    },
    {
      "cell_type": "code",
      "execution_count": null,
      "metadata": {
        "id": "81ekcNwrLfxh"
      },
      "outputs": [],
      "source": [
        "#cargamos un archivo CSV separado por punto y coma (importado excel)\n",
        "notas = pd.read_csv('data/notas.csv', delimiter=';')"
      ]
    },
    {
      "cell_type": "code",
      "execution_count": null,
      "metadata": {
        "id": "rLXXG9sWLfxh",
        "outputId": "e2525837-2107-4e87-c7ef-df5b3a9339ea"
      },
      "outputs": [
        {
          "data": {
            "text/html": [
              "<div>\n",
              "<style scoped>\n",
              "    .dataframe tbody tr th:only-of-type {\n",
              "        vertical-align: middle;\n",
              "    }\n",
              "\n",
              "    .dataframe tbody tr th {\n",
              "        vertical-align: top;\n",
              "    }\n",
              "\n",
              "    .dataframe thead th {\n",
              "        text-align: right;\n",
              "    }\n",
              "</style>\n",
              "<table border=\"1\" class=\"dataframe\">\n",
              "  <thead>\n",
              "    <tr style=\"text-align: right;\">\n",
              "      <th></th>\n",
              "      <th>Alumno</th>\n",
              "      <th>Nota1</th>\n",
              "      <th>Nota2</th>\n",
              "      <th>Nota3</th>\n",
              "      <th>Promedio</th>\n",
              "    </tr>\n",
              "  </thead>\n",
              "  <tbody>\n",
              "    <tr>\n",
              "      <th>0</th>\n",
              "      <td>Maria</td>\n",
              "      <td>18.0</td>\n",
              "      <td>19</td>\n",
              "      <td>18</td>\n",
              "      <td>18</td>\n",
              "    </tr>\n",
              "    <tr>\n",
              "      <th>1</th>\n",
              "      <td>Jose</td>\n",
              "      <td>8.0</td>\n",
              "      <td>15</td>\n",
              "      <td>11</td>\n",
              "      <td>11</td>\n",
              "    </tr>\n",
              "    <tr>\n",
              "      <th>2</th>\n",
              "      <td>Juan</td>\n",
              "      <td>13.0</td>\n",
              "      <td>12</td>\n",
              "      <td>17</td>\n",
              "      <td>14</td>\n",
              "    </tr>\n",
              "    <tr>\n",
              "      <th>3</th>\n",
              "      <td>Luis</td>\n",
              "      <td>10.0</td>\n",
              "      <td>19</td>\n",
              "      <td>18</td>\n",
              "      <td>16</td>\n",
              "    </tr>\n",
              "    <tr>\n",
              "      <th>4</th>\n",
              "      <td>Carlos</td>\n",
              "      <td>16.0</td>\n",
              "      <td>12</td>\n",
              "      <td>10</td>\n",
              "      <td>13</td>\n",
              "    </tr>\n",
              "  </tbody>\n",
              "</table>\n",
              "</div>"
            ],
            "text/plain": [
              "   Alumno  Nota1  Nota2  Nota3  Promedio\n",
              "0   Maria   18.0     19     18        18\n",
              "1    Jose    8.0     15     11        11\n",
              "2    Juan   13.0     12     17        14\n",
              "3    Luis   10.0     19     18        16\n",
              "4  Carlos   16.0     12     10        13"
            ]
          },
          "execution_count": 44,
          "metadata": {},
          "output_type": "execute_result"
        }
      ],
      "source": [
        "notas.head()"
      ]
    },
    {
      "cell_type": "code",
      "execution_count": null,
      "metadata": {
        "id": "Mg0i3-HzLfxh",
        "outputId": "b1621054-afed-4bb5-8f1a-3394598b7815"
      },
      "outputs": [
        {
          "data": {
            "text/plain": [
              "(50, 5)"
            ]
          },
          "execution_count": 45,
          "metadata": {},
          "output_type": "execute_result"
        }
      ],
      "source": [
        "#Tamaño de tabla\n",
        "notas.shape"
      ]
    },
    {
      "cell_type": "code",
      "execution_count": null,
      "metadata": {
        "id": "4MM3CE4eLfxh",
        "outputId": "a19618b5-f87b-435d-a5e0-3811068341a9"
      },
      "outputs": [
        {
          "data": {
            "text/plain": [
              "Alumno       object\n",
              "Nota1       float64\n",
              "Nota2         int64\n",
              "Nota3         int64\n",
              "Promedio      int64\n",
              "dtype: object"
            ]
          },
          "execution_count": 46,
          "metadata": {},
          "output_type": "execute_result"
        }
      ],
      "source": [
        "#Tipos de datos de la columnas\n",
        "notas.dtypes"
      ]
    },
    {
      "cell_type": "code",
      "execution_count": null,
      "metadata": {
        "id": "vR1hLSd8Lfxh",
        "outputId": "b5a17429-e8ac-4196-bd21-1bdc91d98b34"
      },
      "outputs": [
        {
          "data": {
            "text/plain": [
              "pandas.core.frame.DataFrame"
            ]
          },
          "execution_count": 47,
          "metadata": {},
          "output_type": "execute_result"
        }
      ],
      "source": [
        "#Tipo de dato de la tabla\n",
        "type(notas)"
      ]
    },
    {
      "cell_type": "code",
      "execution_count": null,
      "metadata": {
        "id": "JB-_-EV_Lfxi",
        "outputId": "4015ae7f-350c-46e6-9c0a-bcd987ddfddf"
      },
      "outputs": [
        {
          "data": {
            "text/plain": [
              "Index(['Alumno', 'Nota1', 'Nota2', 'Nota3', 'Promedio'], dtype='object')"
            ]
          },
          "execution_count": 48,
          "metadata": {},
          "output_type": "execute_result"
        }
      ],
      "source": [
        "#Nombre de las columnas\n",
        "notas.columns"
      ]
    },
    {
      "cell_type": "markdown",
      "metadata": {
        "id": "sbwkpxg6Lfxi"
      },
      "source": [
        "### SubConjuntos\n",
        "![subconjuntos](https://user-images.githubusercontent.com/19308295/119282515-8c4f6480-bbff-11eb-8432-581e44f4a2f0.png)"
      ]
    },
    {
      "cell_type": "code",
      "execution_count": null,
      "metadata": {
        "id": "dbeFw9HhLfxi",
        "outputId": "6797772c-ee2a-4a48-c112-89553b30eae9"
      },
      "outputs": [
        {
          "data": {
            "text/html": [
              "<div>\n",
              "<style scoped>\n",
              "    .dataframe tbody tr th:only-of-type {\n",
              "        vertical-align: middle;\n",
              "    }\n",
              "\n",
              "    .dataframe tbody tr th {\n",
              "        vertical-align: top;\n",
              "    }\n",
              "\n",
              "    .dataframe thead th {\n",
              "        text-align: right;\n",
              "    }\n",
              "</style>\n",
              "<table border=\"1\" class=\"dataframe\">\n",
              "  <thead>\n",
              "    <tr style=\"text-align: right;\">\n",
              "      <th></th>\n",
              "      <th>Promedio</th>\n",
              "      <th>Alumno</th>\n",
              "    </tr>\n",
              "  </thead>\n",
              "  <tbody>\n",
              "    <tr>\n",
              "      <th>0</th>\n",
              "      <td>18</td>\n",
              "      <td>Maria</td>\n",
              "    </tr>\n",
              "    <tr>\n",
              "      <th>1</th>\n",
              "      <td>11</td>\n",
              "      <td>Jose</td>\n",
              "    </tr>\n",
              "    <tr>\n",
              "      <th>2</th>\n",
              "      <td>14</td>\n",
              "      <td>Juan</td>\n",
              "    </tr>\n",
              "    <tr>\n",
              "      <th>3</th>\n",
              "      <td>16</td>\n",
              "      <td>Luis</td>\n",
              "    </tr>\n",
              "    <tr>\n",
              "      <th>4</th>\n",
              "      <td>13</td>\n",
              "      <td>Carlos</td>\n",
              "    </tr>\n",
              "    <tr>\n",
              "      <th>5</th>\n",
              "      <td>8</td>\n",
              "      <td>Rosa</td>\n",
              "    </tr>\n",
              "    <tr>\n",
              "      <th>6</th>\n",
              "      <td>13</td>\n",
              "      <td>Jorge</td>\n",
              "    </tr>\n",
              "    <tr>\n",
              "      <th>7</th>\n",
              "      <td>10</td>\n",
              "      <td>Victor</td>\n",
              "    </tr>\n",
              "    <tr>\n",
              "      <th>8</th>\n",
              "      <td>16</td>\n",
              "      <td>Ana</td>\n",
              "    </tr>\n",
              "    <tr>\n",
              "      <th>9</th>\n",
              "      <td>17</td>\n",
              "      <td>Luz</td>\n",
              "    </tr>\n",
              "    <tr>\n",
              "      <th>10</th>\n",
              "      <td>14</td>\n",
              "      <td>Cesar</td>\n",
              "    </tr>\n",
              "    <tr>\n",
              "      <th>11</th>\n",
              "      <td>13</td>\n",
              "      <td>Carmen</td>\n",
              "    </tr>\n",
              "    <tr>\n",
              "      <th>12</th>\n",
              "      <td>13</td>\n",
              "      <td>Miguel</td>\n",
              "    </tr>\n",
              "    <tr>\n",
              "      <th>13</th>\n",
              "      <td>12</td>\n",
              "      <td>Julio</td>\n",
              "    </tr>\n",
              "    <tr>\n",
              "      <th>14</th>\n",
              "      <td>12</td>\n",
              "      <td>Jesus</td>\n",
              "    </tr>\n",
              "    <tr>\n",
              "      <th>15</th>\n",
              "      <td>10</td>\n",
              "      <td>Pedro</td>\n",
              "    </tr>\n",
              "    <tr>\n",
              "      <th>16</th>\n",
              "      <td>18</td>\n",
              "      <td>Manuel</td>\n",
              "    </tr>\n",
              "    <tr>\n",
              "      <th>17</th>\n",
              "      <td>10</td>\n",
              "      <td>Juana</td>\n",
              "    </tr>\n",
              "    <tr>\n",
              "      <th>18</th>\n",
              "      <td>13</td>\n",
              "      <td>Santos</td>\n",
              "    </tr>\n",
              "    <tr>\n",
              "      <th>19</th>\n",
              "      <td>14</td>\n",
              "      <td>Segundo</td>\n",
              "    </tr>\n",
              "    <tr>\n",
              "      <th>20</th>\n",
              "      <td>9</td>\n",
              "      <td>Jhon</td>\n",
              "    </tr>\n",
              "    <tr>\n",
              "      <th>21</th>\n",
              "      <td>8</td>\n",
              "      <td>David</td>\n",
              "    </tr>\n",
              "    <tr>\n",
              "      <th>22</th>\n",
              "      <td>13</td>\n",
              "      <td>Angel</td>\n",
              "    </tr>\n",
              "    <tr>\n",
              "      <th>23</th>\n",
              "      <td>12</td>\n",
              "      <td>Julia</td>\n",
              "    </tr>\n",
              "    <tr>\n",
              "      <th>24</th>\n",
              "      <td>19</td>\n",
              "      <td>Diego</td>\n",
              "    </tr>\n",
              "    <tr>\n",
              "      <th>25</th>\n",
              "      <td>12</td>\n",
              "      <td>Flor</td>\n",
              "    </tr>\n",
              "    <tr>\n",
              "      <th>26</th>\n",
              "      <td>18</td>\n",
              "      <td>Elizabeth</td>\n",
              "    </tr>\n",
              "    <tr>\n",
              "      <th>27</th>\n",
              "      <td>16</td>\n",
              "      <td>Daniel</td>\n",
              "    </tr>\n",
              "    <tr>\n",
              "      <th>28</th>\n",
              "      <td>10</td>\n",
              "      <td>Oscar</td>\n",
              "    </tr>\n",
              "    <tr>\n",
              "      <th>29</th>\n",
              "      <td>11</td>\n",
              "      <td>Ruth</td>\n",
              "    </tr>\n",
              "    <tr>\n",
              "      <th>30</th>\n",
              "      <td>14</td>\n",
              "      <td>Diana</td>\n",
              "    </tr>\n",
              "    <tr>\n",
              "      <th>31</th>\n",
              "      <td>13</td>\n",
              "      <td>Marco</td>\n",
              "    </tr>\n",
              "    <tr>\n",
              "      <th>32</th>\n",
              "      <td>10</td>\n",
              "      <td>Edwin</td>\n",
              "    </tr>\n",
              "    <tr>\n",
              "      <th>33</th>\n",
              "      <td>11</td>\n",
              "      <td>Javier</td>\n",
              "    </tr>\n",
              "    <tr>\n",
              "      <th>34</th>\n",
              "      <td>13</td>\n",
              "      <td>Walter</td>\n",
              "    </tr>\n",
              "    <tr>\n",
              "      <th>35</th>\n",
              "      <td>12</td>\n",
              "      <td>Francisco</td>\n",
              "    </tr>\n",
              "    <tr>\n",
              "      <th>36</th>\n",
              "      <td>14</td>\n",
              "      <td>Fernando</td>\n",
              "    </tr>\n",
              "    <tr>\n",
              "      <th>37</th>\n",
              "      <td>14</td>\n",
              "      <td>Milagros</td>\n",
              "    </tr>\n",
              "    <tr>\n",
              "      <th>38</th>\n",
              "      <td>13</td>\n",
              "      <td>Alejandro</td>\n",
              "    </tr>\n",
              "    <tr>\n",
              "      <th>39</th>\n",
              "      <td>18</td>\n",
              "      <td>Raul</td>\n",
              "    </tr>\n",
              "    <tr>\n",
              "      <th>40</th>\n",
              "      <td>14</td>\n",
              "      <td>Ricardo</td>\n",
              "    </tr>\n",
              "    <tr>\n",
              "      <th>41</th>\n",
              "      <td>13</td>\n",
              "      <td>Alex</td>\n",
              "    </tr>\n",
              "    <tr>\n",
              "      <th>42</th>\n",
              "      <td>15</td>\n",
              "      <td>Roberto</td>\n",
              "    </tr>\n",
              "    <tr>\n",
              "      <th>43</th>\n",
              "      <td>11</td>\n",
              "      <td>Edgar</td>\n",
              "    </tr>\n",
              "    <tr>\n",
              "      <th>44</th>\n",
              "      <td>12</td>\n",
              "      <td>Victoria</td>\n",
              "    </tr>\n",
              "    <tr>\n",
              "      <th>45</th>\n",
              "      <td>14</td>\n",
              "      <td>Eduardo</td>\n",
              "    </tr>\n",
              "    <tr>\n",
              "      <th>46</th>\n",
              "      <td>17</td>\n",
              "      <td>Mario</td>\n",
              "    </tr>\n",
              "    <tr>\n",
              "      <th>47</th>\n",
              "      <td>17</td>\n",
              "      <td>Jaime</td>\n",
              "    </tr>\n",
              "    <tr>\n",
              "      <th>48</th>\n",
              "      <td>17</td>\n",
              "      <td>Gloria</td>\n",
              "    </tr>\n",
              "    <tr>\n",
              "      <th>49</th>\n",
              "      <td>17</td>\n",
              "      <td>Andrea</td>\n",
              "    </tr>\n",
              "  </tbody>\n",
              "</table>\n",
              "</div>"
            ],
            "text/plain": [
              "    Promedio     Alumno\n",
              "0         18      Maria\n",
              "1         11       Jose\n",
              "2         14       Juan\n",
              "3         16       Luis\n",
              "4         13     Carlos\n",
              "5          8       Rosa\n",
              "6         13      Jorge\n",
              "7         10     Victor\n",
              "8         16        Ana\n",
              "9         17        Luz\n",
              "10        14      Cesar\n",
              "11        13     Carmen\n",
              "12        13     Miguel\n",
              "13        12      Julio\n",
              "14        12      Jesus\n",
              "15        10      Pedro\n",
              "16        18     Manuel\n",
              "17        10      Juana\n",
              "18        13     Santos\n",
              "19        14    Segundo\n",
              "20         9       Jhon\n",
              "21         8      David\n",
              "22        13      Angel\n",
              "23        12      Julia\n",
              "24        19      Diego\n",
              "25        12       Flor\n",
              "26        18  Elizabeth\n",
              "27        16     Daniel\n",
              "28        10      Oscar\n",
              "29        11       Ruth\n",
              "30        14      Diana\n",
              "31        13      Marco\n",
              "32        10      Edwin\n",
              "33        11     Javier\n",
              "34        13     Walter\n",
              "35        12  Francisco\n",
              "36        14   Fernando\n",
              "37        14   Milagros\n",
              "38        13  Alejandro\n",
              "39        18       Raul\n",
              "40        14    Ricardo\n",
              "41        13       Alex\n",
              "42        15    Roberto\n",
              "43        11      Edgar\n",
              "44        12   Victoria\n",
              "45        14    Eduardo\n",
              "46        17      Mario\n",
              "47        17      Jaime\n",
              "48        17     Gloria\n",
              "49        17     Andrea"
            ]
          },
          "execution_count": 49,
          "metadata": {},
          "output_type": "execute_result"
        }
      ],
      "source": [
        "#Seleccionar SubConjunto con dos columnas del DataFrame en orden establecido\n",
        "notas.loc[:,['Promedio','Alumno']]"
      ]
    },
    {
      "cell_type": "markdown",
      "metadata": {
        "id": "RAgJNNpiLfxi"
      },
      "source": [
        "### Operando entre columnas"
      ]
    },
    {
      "cell_type": "code",
      "execution_count": null,
      "metadata": {
        "id": "dW0Tgyw8Lfxi",
        "outputId": "fdf3341f-93bb-4dfd-c960-747bef97aa20"
      },
      "outputs": [
        {
          "data": {
            "text/html": [
              "<div>\n",
              "<style scoped>\n",
              "    .dataframe tbody tr th:only-of-type {\n",
              "        vertical-align: middle;\n",
              "    }\n",
              "\n",
              "    .dataframe tbody tr th {\n",
              "        vertical-align: top;\n",
              "    }\n",
              "\n",
              "    .dataframe thead th {\n",
              "        text-align: right;\n",
              "    }\n",
              "</style>\n",
              "<table border=\"1\" class=\"dataframe\">\n",
              "  <thead>\n",
              "    <tr style=\"text-align: right;\">\n",
              "      <th></th>\n",
              "      <th>Alumno</th>\n",
              "      <th>Nota1</th>\n",
              "      <th>Nota2</th>\n",
              "      <th>Nota3</th>\n",
              "      <th>Promedio</th>\n",
              "      <th>Promedio 1 y 2</th>\n",
              "    </tr>\n",
              "  </thead>\n",
              "  <tbody>\n",
              "    <tr>\n",
              "      <th>0</th>\n",
              "      <td>Maria</td>\n",
              "      <td>18.0</td>\n",
              "      <td>19</td>\n",
              "      <td>18</td>\n",
              "      <td>18</td>\n",
              "      <td>18.5</td>\n",
              "    </tr>\n",
              "    <tr>\n",
              "      <th>1</th>\n",
              "      <td>Jose</td>\n",
              "      <td>8.0</td>\n",
              "      <td>15</td>\n",
              "      <td>11</td>\n",
              "      <td>11</td>\n",
              "      <td>11.5</td>\n",
              "    </tr>\n",
              "    <tr>\n",
              "      <th>2</th>\n",
              "      <td>Juan</td>\n",
              "      <td>13.0</td>\n",
              "      <td>12</td>\n",
              "      <td>17</td>\n",
              "      <td>14</td>\n",
              "      <td>12.5</td>\n",
              "    </tr>\n",
              "    <tr>\n",
              "      <th>3</th>\n",
              "      <td>Luis</td>\n",
              "      <td>10.0</td>\n",
              "      <td>19</td>\n",
              "      <td>18</td>\n",
              "      <td>16</td>\n",
              "      <td>14.5</td>\n",
              "    </tr>\n",
              "    <tr>\n",
              "      <th>4</th>\n",
              "      <td>Carlos</td>\n",
              "      <td>16.0</td>\n",
              "      <td>12</td>\n",
              "      <td>10</td>\n",
              "      <td>13</td>\n",
              "      <td>14.0</td>\n",
              "    </tr>\n",
              "  </tbody>\n",
              "</table>\n",
              "</div>"
            ],
            "text/plain": [
              "   Alumno  Nota1  Nota2  Nota3  Promedio  Promedio 1 y 2\n",
              "0   Maria   18.0     19     18        18            18.5\n",
              "1    Jose    8.0     15     11        11            11.5\n",
              "2    Juan   13.0     12     17        14            12.5\n",
              "3    Luis   10.0     19     18        16            14.5\n",
              "4  Carlos   16.0     12     10        13            14.0"
            ]
          },
          "execution_count": 50,
          "metadata": {},
          "output_type": "execute_result"
        }
      ],
      "source": [
        "#Nueva columa a partir de Operación entre columnas\n",
        "\n",
        "notas['Promedio 1 y 2'] = (notas['Nota1']+notas['Nota2'])/2\n",
        "\n",
        "notas.head()"
      ]
    },
    {
      "cell_type": "markdown",
      "metadata": {
        "id": "iT1_MuLILfxi"
      },
      "source": [
        "### Filtros\n",
        "![filtros](https://user-images.githubusercontent.com/19308295/119282563-b6a12200-bbff-11eb-82ee-606fbfe2ac1b.png)"
      ]
    },
    {
      "cell_type": "code",
      "execution_count": null,
      "metadata": {
        "id": "BTlv6ltQLfxi",
        "outputId": "7a226764-1e62-4eb6-a61c-468fa6d99351"
      },
      "outputs": [
        {
          "data": {
            "text/html": [
              "<div>\n",
              "<style scoped>\n",
              "    .dataframe tbody tr th:only-of-type {\n",
              "        vertical-align: middle;\n",
              "    }\n",
              "\n",
              "    .dataframe tbody tr th {\n",
              "        vertical-align: top;\n",
              "    }\n",
              "\n",
              "    .dataframe thead th {\n",
              "        text-align: right;\n",
              "    }\n",
              "</style>\n",
              "<table border=\"1\" class=\"dataframe\">\n",
              "  <thead>\n",
              "    <tr style=\"text-align: right;\">\n",
              "      <th></th>\n",
              "      <th>Alumno</th>\n",
              "      <th>Nota1</th>\n",
              "      <th>Nota2</th>\n",
              "      <th>Nota3</th>\n",
              "      <th>Promedio</th>\n",
              "      <th>Promedio 1 y 2</th>\n",
              "    </tr>\n",
              "  </thead>\n",
              "  <tbody>\n",
              "    <tr>\n",
              "      <th>0</th>\n",
              "      <td>Maria</td>\n",
              "      <td>18.0</td>\n",
              "      <td>19</td>\n",
              "      <td>18</td>\n",
              "      <td>18</td>\n",
              "      <td>18.5</td>\n",
              "    </tr>\n",
              "    <tr>\n",
              "      <th>16</th>\n",
              "      <td>Manuel</td>\n",
              "      <td>15.0</td>\n",
              "      <td>20</td>\n",
              "      <td>20</td>\n",
              "      <td>18</td>\n",
              "      <td>17.5</td>\n",
              "    </tr>\n",
              "    <tr>\n",
              "      <th>24</th>\n",
              "      <td>Diego</td>\n",
              "      <td>20.0</td>\n",
              "      <td>18</td>\n",
              "      <td>18</td>\n",
              "      <td>19</td>\n",
              "      <td>19.0</td>\n",
              "    </tr>\n",
              "    <tr>\n",
              "      <th>26</th>\n",
              "      <td>Elizabeth</td>\n",
              "      <td>16.0</td>\n",
              "      <td>19</td>\n",
              "      <td>18</td>\n",
              "      <td>18</td>\n",
              "      <td>17.5</td>\n",
              "    </tr>\n",
              "    <tr>\n",
              "      <th>39</th>\n",
              "      <td>Raul</td>\n",
              "      <td>20.0</td>\n",
              "      <td>18</td>\n",
              "      <td>16</td>\n",
              "      <td>18</td>\n",
              "      <td>19.0</td>\n",
              "    </tr>\n",
              "  </tbody>\n",
              "</table>\n",
              "</div>"
            ],
            "text/plain": [
              "       Alumno  Nota1  Nota2  Nota3  Promedio  Promedio 1 y 2\n",
              "0       Maria   18.0     19     18        18            18.5\n",
              "16     Manuel   15.0     20     20        18            17.5\n",
              "24      Diego   20.0     18     18        19            19.0\n",
              "26  Elizabeth   16.0     19     18        18            17.5\n",
              "39       Raul   20.0     18     16        18            19.0"
            ]
          },
          "execution_count": 51,
          "metadata": {},
          "output_type": "execute_result"
        }
      ],
      "source": [
        "#FILTRAR Cuantos alumnos califican como excelencia Promedio mayores o igual a 18\n",
        "#MÉTODO 1\n",
        "notas.loc[notas.Promedio >= 18]\n"
      ]
    },
    {
      "cell_type": "code",
      "execution_count": null,
      "metadata": {
        "id": "asFh0BDSLfxi",
        "outputId": "4d53f546-9e34-44fb-a265-88798425a0f3"
      },
      "outputs": [
        {
          "data": {
            "text/html": [
              "<div>\n",
              "<style scoped>\n",
              "    .dataframe tbody tr th:only-of-type {\n",
              "        vertical-align: middle;\n",
              "    }\n",
              "\n",
              "    .dataframe tbody tr th {\n",
              "        vertical-align: top;\n",
              "    }\n",
              "\n",
              "    .dataframe thead th {\n",
              "        text-align: right;\n",
              "    }\n",
              "</style>\n",
              "<table border=\"1\" class=\"dataframe\">\n",
              "  <thead>\n",
              "    <tr style=\"text-align: right;\">\n",
              "      <th></th>\n",
              "      <th>Alumno</th>\n",
              "      <th>Nota1</th>\n",
              "      <th>Nota2</th>\n",
              "      <th>Nota3</th>\n",
              "      <th>Promedio</th>\n",
              "      <th>Promedio 1 y 2</th>\n",
              "    </tr>\n",
              "  </thead>\n",
              "  <tbody>\n",
              "    <tr>\n",
              "      <th>0</th>\n",
              "      <td>Maria</td>\n",
              "      <td>18.0</td>\n",
              "      <td>19</td>\n",
              "      <td>18</td>\n",
              "      <td>18</td>\n",
              "      <td>18.5</td>\n",
              "    </tr>\n",
              "    <tr>\n",
              "      <th>16</th>\n",
              "      <td>Manuel</td>\n",
              "      <td>15.0</td>\n",
              "      <td>20</td>\n",
              "      <td>20</td>\n",
              "      <td>18</td>\n",
              "      <td>17.5</td>\n",
              "    </tr>\n",
              "    <tr>\n",
              "      <th>24</th>\n",
              "      <td>Diego</td>\n",
              "      <td>20.0</td>\n",
              "      <td>18</td>\n",
              "      <td>18</td>\n",
              "      <td>19</td>\n",
              "      <td>19.0</td>\n",
              "    </tr>\n",
              "    <tr>\n",
              "      <th>26</th>\n",
              "      <td>Elizabeth</td>\n",
              "      <td>16.0</td>\n",
              "      <td>19</td>\n",
              "      <td>18</td>\n",
              "      <td>18</td>\n",
              "      <td>17.5</td>\n",
              "    </tr>\n",
              "    <tr>\n",
              "      <th>39</th>\n",
              "      <td>Raul</td>\n",
              "      <td>20.0</td>\n",
              "      <td>18</td>\n",
              "      <td>16</td>\n",
              "      <td>18</td>\n",
              "      <td>19.0</td>\n",
              "    </tr>\n",
              "  </tbody>\n",
              "</table>\n",
              "</div>"
            ],
            "text/plain": [
              "       Alumno  Nota1  Nota2  Nota3  Promedio  Promedio 1 y 2\n",
              "0       Maria   18.0     19     18        18            18.5\n",
              "16     Manuel   15.0     20     20        18            17.5\n",
              "24      Diego   20.0     18     18        19            19.0\n",
              "26  Elizabeth   16.0     19     18        18            17.5\n",
              "39       Raul   20.0     18     16        18            19.0"
            ]
          },
          "execution_count": 52,
          "metadata": {},
          "output_type": "execute_result"
        }
      ],
      "source": [
        "#FILTRAR Cuantos alumnos califican como excelencia Promedio mayores o igual a 18\n",
        "#MÉTODO 2\n",
        "notas.loc[notas['Promedio'] >= 18]\n"
      ]
    },
    {
      "cell_type": "markdown",
      "metadata": {
        "id": "dC4luX-aLfxj"
      },
      "source": [
        "### Seleccionar Fila y Columnas\n",
        "![seleccion](https://user-images.githubusercontent.com/19308295/119283031-590dd500-bc01-11eb-93db-ee8a79b00103.png)"
      ]
    },
    {
      "cell_type": "code",
      "execution_count": null,
      "metadata": {
        "id": "KZA7ah57Lfxj",
        "outputId": "1ad6604a-3317-47ad-c680-c87a00bf21e3"
      },
      "outputs": [
        {
          "data": {
            "text/html": [
              "<div>\n",
              "<style scoped>\n",
              "    .dataframe tbody tr th:only-of-type {\n",
              "        vertical-align: middle;\n",
              "    }\n",
              "\n",
              "    .dataframe tbody tr th {\n",
              "        vertical-align: top;\n",
              "    }\n",
              "\n",
              "    .dataframe thead th {\n",
              "        text-align: right;\n",
              "    }\n",
              "</style>\n",
              "<table border=\"1\" class=\"dataframe\">\n",
              "  <thead>\n",
              "    <tr style=\"text-align: right;\">\n",
              "      <th></th>\n",
              "      <th>Alumno</th>\n",
              "    </tr>\n",
              "  </thead>\n",
              "  <tbody>\n",
              "    <tr>\n",
              "      <th>0</th>\n",
              "      <td>Maria</td>\n",
              "    </tr>\n",
              "    <tr>\n",
              "      <th>16</th>\n",
              "      <td>Manuel</td>\n",
              "    </tr>\n",
              "    <tr>\n",
              "      <th>24</th>\n",
              "      <td>Diego</td>\n",
              "    </tr>\n",
              "    <tr>\n",
              "      <th>26</th>\n",
              "      <td>Elizabeth</td>\n",
              "    </tr>\n",
              "    <tr>\n",
              "      <th>39</th>\n",
              "      <td>Raul</td>\n",
              "    </tr>\n",
              "  </tbody>\n",
              "</table>\n",
              "</div>"
            ],
            "text/plain": [
              "       Alumno\n",
              "0       Maria\n",
              "16     Manuel\n",
              "24      Diego\n",
              "26  Elizabeth\n",
              "39       Raul"
            ]
          },
          "execution_count": 53,
          "metadata": {},
          "output_type": "execute_result"
        }
      ],
      "source": [
        "#Asignando resultado a otro DataFrame, con una sola columna 'Alumno'\n",
        "excelencia = notas.loc[notas['Promedio'] >= 18,['Alumno']]\n",
        "excelencia"
      ]
    },
    {
      "cell_type": "code",
      "execution_count": null,
      "metadata": {
        "id": "cHXF4GisLfxj",
        "outputId": "e74d80c2-21cd-4d36-fe67-fa7cc407fdbb"
      },
      "outputs": [
        {
          "data": {
            "text/plain": [
              "pandas.core.frame.DataFrame"
            ]
          },
          "execution_count": 54,
          "metadata": {},
          "output_type": "execute_result"
        }
      ],
      "source": [
        "#Tipo de tabla creada\n",
        "type(excelencia)"
      ]
    },
    {
      "cell_type": "code",
      "execution_count": null,
      "metadata": {
        "id": "vREG3Aa4Lfxj",
        "outputId": "75a5d2a8-c1ad-4fea-b725-53bf75f4ffea"
      },
      "outputs": [
        {
          "data": {
            "text/plain": [
              "Alumno    5\n",
              "dtype: int64"
            ]
          },
          "execution_count": 55,
          "metadata": {},
          "output_type": "execute_result"
        }
      ],
      "source": [
        "#Cantidad de excelencia\n",
        "excelencia.count()"
      ]
    },
    {
      "cell_type": "code",
      "execution_count": null,
      "metadata": {
        "id": "JAAjY_GULfxj",
        "outputId": "abed1a9d-75e8-42b8-ba27-856f60199215"
      },
      "outputs": [
        {
          "data": {
            "text/plain": [
              "5"
            ]
          },
          "execution_count": 56,
          "metadata": {},
          "output_type": "execute_result"
        }
      ],
      "source": [
        "len(excelencia)"
      ]
    },
    {
      "cell_type": "markdown",
      "metadata": {
        "id": "312hRfytLfxj"
      },
      "source": [
        "![linea 2](https://user-images.githubusercontent.com/19308295/115926262-2fb62980-a448-11eb-8189-c2f10e499944.png)"
      ]
    },
    {
      "cell_type": "markdown",
      "metadata": {
        "id": "MzmsGulLLfxj"
      },
      "source": [
        "## <font color=#33A5FF>****BIBLIOGRAFÍA****<tfont>"
      ]
    },
    {
      "cell_type": "markdown",
      "metadata": {
        "id": "mY3iMByhLfxj"
      },
      "source": [
        "[1] Guía de pandas oficial https://pandas.pydata.org/docs/user_guide/index.html\n",
        "\n",
        "[2] Python Pandas Tutorial: A Complete Introduction for Beginners https://bit.ly/2AQMQld\n",
        "\n",
        "[3] Guía para pandas https://pybonacci.org/2014/05/30/pandas-i/\n",
        "\n",
        "[4] Dataset variados https://www.kaggle.com/datasets"
      ]
    },
    {
      "cell_type": "markdown",
      "metadata": {
        "id": "4mpFogZoLfxj"
      },
      "source": [
        "![linea 1](https://user-images.githubusercontent.com/19308295/115926252-2b8a0c00-a448-11eb-9d9c-b43beaf0ff68.png)"
      ]
    }
  ],
  "metadata": {
    "kernelspec": {
      "display_name": "Python 3",
      "language": "python",
      "name": "python3"
    },
    "language_info": {
      "codemirror_mode": {
        "name": "ipython",
        "version": 3
      },
      "file_extension": ".py",
      "mimetype": "text/x-python",
      "name": "python",
      "nbconvert_exporter": "python",
      "pygments_lexer": "ipython3",
      "version": "3.12.3"
    },
    "colab": {
      "provenance": []
    }
  },
  "nbformat": 4,
  "nbformat_minor": 0
}