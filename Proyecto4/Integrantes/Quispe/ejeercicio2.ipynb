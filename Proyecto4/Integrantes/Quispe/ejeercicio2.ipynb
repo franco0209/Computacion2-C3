{
 "cells": [
  {
   "cell_type": "markdown",
   "id": "f33e680d-bd25-4bfc-a6ef-ac093d249cb8",
   "metadata": {},
   "source": [
    "### EJERCICIO 2"
   ]
  },
  {
   "cell_type": "code",
   "execution_count": 5,
   "id": "331ef150-87c2-49a8-9473-27ef9b0baa67",
   "metadata": {},
   "outputs": [],
   "source": [
    "import numpy as np\n",
    "import pandas as pd"
   ]
  },
  {
   "cell_type": "code",
   "execution_count": 9,
   "id": "20ceecc9-ec17-4d32-ad18-f8a725e4be6a",
   "metadata": {},
   "outputs": [],
   "source": [
    "# Crear un DataFrame de ejemplo con datos ficticios\n",
    "data = {\n",
    "    'Nombre': ['Alicia', 'Lucia', 'jesus', 'Diego Armando', 'larry'],\n",
    "    'Edad': [18, 19, 20, 20, 20],\n",
    "    'Sexo': ['F', 'F', 'M', 'M', 'M'],\n",
    "    'Clase': ['Primera', 'Segunda', 'Primera', 'Tercera', 'Segunda']\n",
    "}"
   ]
  },
  {
   "cell_type": "code",
   "execution_count": 10,
   "id": "faf6d8ec-1bba-48a6-886a-f6ea892fd063",
   "metadata": {},
   "outputs": [],
   "source": [
    "# Convertir el diccionario a un DataFrame\n",
    "df = pd.DataFrame(data)\n",
    "\n",
    "# Crear el subconjunto que contiene las columnas 'Nombre' y 'Edad'\n",
    "subset_nombre_edad = df[['Nombre', 'Edad']]\n",
    "\n",
    "# Crear el subconjunto que contiene las columnas 'Sexo', 'Nombre' y 'Clase'\n",
    "subset_sexo_nombre_clase = df[['Sexo', 'Nombre', 'Clase']]"
   ]
  },
  {
   "cell_type": "code",
   "execution_count": 11,
   "id": "08434f2b-f33c-45ef-af3a-ea960e5fdfd8",
   "metadata": {},
   "outputs": [
    {
     "name": "stdout",
     "output_type": "stream",
     "text": [
      "Subconjunto: Nombre con Edad\n",
      "          Nombre  Edad\n",
      "0         Alicia    18\n",
      "1          Lucia    19\n",
      "2          jesus    20\n",
      "3  Diego Armando    20\n",
      "4          larry    20\n",
      "\n",
      "Subconjunto: Sexo con Nombre y Clase\n",
      "  Sexo         Nombre    Clase\n",
      "0    F         Alicia  Primera\n",
      "1    F          Lucia  Segunda\n",
      "2    M          jesus  Primera\n",
      "3    M  Diego Armando  Tercera\n",
      "4    M          larry  Segunda\n"
     ]
    }
   ],
   "source": [
    "# Visualizar solo los primeros 5 registros de cada subconjunto\n",
    "# Imprimir el subconjunto 'Nombre con Edad'\n",
    "print(\"Subconjunto: Nombre con Edad\")\n",
    "print(subset_nombre_edad.head())\n",
    "\n",
    "# Imprimir el subconjunto 'Sexo con Nombre y Clase'\n",
    "print(\"\\nSubconjunto: Sexo con Nombre y Clase\")\n",
    "print(subset_sexo_nombre_clase.head())"
   ]
  }
 ],
 "metadata": {
  "kernelspec": {
   "display_name": "Python 3 (ipykernel)",
   "language": "python",
   "name": "python3"
  },
  "language_info": {
   "codemirror_mode": {
    "name": "ipython",
    "version": 3
   },
   "file_extension": ".py",
   "mimetype": "text/x-python",
   "name": "python",
   "nbconvert_exporter": "python",
   "pygments_lexer": "ipython3",
   "version": "3.12.3"
  }
 },
 "nbformat": 4,
 "nbformat_minor": 5
}
