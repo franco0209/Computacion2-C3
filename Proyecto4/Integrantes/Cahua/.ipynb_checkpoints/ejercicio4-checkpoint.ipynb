{
 "cells": [
  {
   "cell_type": "code",
   "execution_count": 1,
   "id": "8d5e509d-4e07-48ab-b3b9-236c0a69dafb",
   "metadata": {},
   "outputs": [
    {
     "data": {
      "text/plain": [
       "1     Cumings, Mrs. John Bradley (Florence Briggs Th...\n",
       "3          Futrelle, Mrs. Jacques Heath (Lily May Peel)\n",
       "4                              Allen, Mr. William Henry\n",
       "6                               McCarthy, Mr. Timothy J\n",
       "11                             Bonnell, Miss. Elizabeth\n",
       "Name: Nombre, dtype: object"
      ]
     },
     "execution_count": 1,
     "metadata": {},
     "output_type": "execute_result"
    }
   ],
   "source": [
    "import pandas as pd\n",
    "\n",
    "# Cargar el archivo Excel en un DataFrame\n",
    "name = '../../titanic.xlsx'\n",
    "df = pd.read_excel(name)\n",
    "\n",
    "mayores30 = df[df['Edad'] > 30]['Nombre']\n",
    "mayores30.head()"
   ]
  },
  {
   "cell_type": "code",
   "execution_count": 2,
   "id": "7363c54b-3e41-4ae2-9c39-cd8f0bb31fc7",
   "metadata": {},
   "outputs": [
    {
     "data": {
      "text/plain": [
       "8     Johnson, Mrs. Oscar W (Elisabeth Vilhelmina Berg)\n",
       "10                      Sandstrom, Miss. Marguerite Rut\n",
       "24                        Palsson, Miss. Torborg Danira\n",
       "25    Asplund, Mrs. Carl Oscar (Selma Augusta Emilia...\n",
       "43             Laroche, Miss. Simonne Marie Anne Andree\n",
       "Name: Nombre, dtype: object"
      ]
     },
     "execution_count": 2,
     "metadata": {},
     "output_type": "execute_result"
    }
   ],
   "source": [
    "mujeres1 = df[(df['Sexo'] == \"Femenino\")&(df['Familiares'] > 0)]['Nombre']\n",
    "mujeres1.head()"
   ]
  },
  {
   "cell_type": "code",
   "execution_count": 3,
   "id": "3e21b8af-8a95-4403-afc6-dbe0f62c0552",
   "metadata": {},
   "outputs": [
    {
     "data": {
      "text/html": [
       "<div>\n",
       "<style scoped>\n",
       "    .dataframe tbody tr th:only-of-type {\n",
       "        vertical-align: middle;\n",
       "    }\n",
       "\n",
       "    .dataframe tbody tr th {\n",
       "        vertical-align: top;\n",
       "    }\n",
       "\n",
       "    .dataframe thead th {\n",
       "        text-align: right;\n",
       "    }\n",
       "</style>\n",
       "<table border=\"1\" class=\"dataframe\">\n",
       "  <thead>\n",
       "    <tr style=\"text-align: right;\">\n",
       "      <th></th>\n",
       "      <th>Clase</th>\n",
       "      <th>Nombre</th>\n",
       "      <th>Sexo</th>\n",
       "      <th>Edad</th>\n",
       "      <th>Familiares</th>\n",
       "    </tr>\n",
       "  </thead>\n",
       "  <tbody>\n",
       "    <tr>\n",
       "      <th>0</th>\n",
       "      <td>3</td>\n",
       "      <td>Braund, Mr. Owen Harris</td>\n",
       "      <td>Masculino</td>\n",
       "      <td>22.0</td>\n",
       "      <td>0</td>\n",
       "    </tr>\n",
       "    <tr>\n",
       "      <th>1</th>\n",
       "      <td>1</td>\n",
       "      <td>Cumings, Mrs. John Bradley (Florence Briggs Th...</td>\n",
       "      <td>Femenino</td>\n",
       "      <td>38.0</td>\n",
       "      <td>0</td>\n",
       "    </tr>\n",
       "    <tr>\n",
       "      <th>2</th>\n",
       "      <td>3</td>\n",
       "      <td>Heikkinen, Miss. Laina</td>\n",
       "      <td>Femenino</td>\n",
       "      <td>26.0</td>\n",
       "      <td>0</td>\n",
       "    </tr>\n",
       "    <tr>\n",
       "      <th>3</th>\n",
       "      <td>1</td>\n",
       "      <td>Futrelle, Mrs. Jacques Heath (Lily May Peel)</td>\n",
       "      <td>Femenino</td>\n",
       "      <td>35.0</td>\n",
       "      <td>0</td>\n",
       "    </tr>\n",
       "    <tr>\n",
       "      <th>4</th>\n",
       "      <td>3</td>\n",
       "      <td>Allen, Mr. William Henry</td>\n",
       "      <td>Masculino</td>\n",
       "      <td>35.0</td>\n",
       "      <td>0</td>\n",
       "    </tr>\n",
       "  </tbody>\n",
       "</table>\n",
       "</div>"
      ],
      "text/plain": [
       "   Clase                                             Nombre       Sexo  Edad  \\\n",
       "0      3                            Braund, Mr. Owen Harris  Masculino  22.0   \n",
       "1      1  Cumings, Mrs. John Bradley (Florence Briggs Th...   Femenino  38.0   \n",
       "2      3                             Heikkinen, Miss. Laina   Femenino  26.0   \n",
       "3      1       Futrelle, Mrs. Jacques Heath (Lily May Peel)   Femenino  35.0   \n",
       "4      3                           Allen, Mr. William Henry  Masculino  35.0   \n",
       "\n",
       "   Familiares  \n",
       "0           0  \n",
       "1           0  \n",
       "2           0  \n",
       "3           0  \n",
       "4           0  "
      ]
     },
     "execution_count": 3,
     "metadata": {},
     "output_type": "execute_result"
    }
   ],
   "source": [
    "\n",
    "# Seleccionar las filas 0 a 10 y las columnas 2 a 6\n",
    "seleccion = df.iloc[0:11, 2:7]\n",
    "\n",
    "# Mostrar la selección\n",
    "seleccion.head()\n"
   ]
  },
  {
   "cell_type": "code",
   "execution_count": null,
   "id": "96f85581-c6a7-4525-807b-f12ed5eef019",
   "metadata": {},
   "outputs": [],
   "source": []
  }
 ],
 "metadata": {
  "kernelspec": {
   "display_name": "forPandas",
   "language": "python",
   "name": "forpandas"
  },
  "language_info": {
   "codemirror_mode": {
    "name": "ipython",
    "version": 3
   },
   "file_extension": ".py",
   "mimetype": "text/x-python",
   "name": "python",
   "nbconvert_exporter": "python",
   "pygments_lexer": "ipython3",
   "version": "3.12.3"
  }
 },
 "nbformat": 4,
 "nbformat_minor": 5
}
