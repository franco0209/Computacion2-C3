{
 "cells": [
  {
   "cell_type": "code",
   "execution_count": 22,
   "id": "a5f84957",
   "metadata": {},
   "outputs": [
    {
     "name": "stdout",
     "output_type": "stream",
     "text": [
      "El valor promedio de la edad de los pasajeros es: 29.69911764705882\n"
     ]
    }
   ],
   "source": [
    "import pandas as pd\n",
    "\n",
    "# Cargar el archivo Excel en un DataFrame\n",
    "name = '../../titanic.xlsx'\n",
    "df = pd.read_excel(name)\n",
    "\n",
    "#Mostrar la edad promedio\n",
    "edadPromedio = df['Edad'].mean()\n",
    "print(f'El valor promedio de la edad de los pasajeros es: {edadPromedio}')"
   ]
  },
  {
   "cell_type": "code",
   "execution_count": 18,
   "id": "9c978a35",
   "metadata": {},
   "outputs": [
    {
     "name": "stdout",
     "output_type": "stream",
     "text": [
      "Número de pasajeras mujeres mayores de edad que abordaron el Titanic: 206\n"
     ]
    }
   ],
   "source": [
    "# Filtrar las pasajeras mujeres mayores de edad\n",
    "pasajerasMayores= df[(df['Sexo'] == 'Femenino') & (df['Edad'] >= 18)]\n",
    "\n",
    "# Contar el número de pasajeras mujeres mayores de edad\n",
    "cantidad1 = pasajerasMayores.shape[0]\n",
    "\n",
    "print(f'Número de pasajeras mujeres mayores de edad que abordaron el Titanic: {cantidad1}')\n"
   ]
  },
  {
   "cell_type": "code",
   "execution_count": 19,
   "id": "60de4df0",
   "metadata": {},
   "outputs": [
    {
     "name": "stdout",
     "output_type": "stream",
     "text": [
      "Número de pasajeras mujeres mayores de edad que abordaron el Titanic: 55\n"
     ]
    }
   ],
   "source": [
    "# Filtrar las pasajeras mujeres menores de edad\n",
    "pasajerasMenores= df[(df['Sexo'] == 'Femenino') & (df['Edad'] < 18)]\n",
    "\n",
    "# Contar el número de pasajeras mujeres menores de edad\n",
    "cantidad2 = pasajerasMenores.shape[0]\n",
    "\n",
    "print(f'Número de pasajeras mujeres mayores de edad que abordaron el Titanic: {cantidad2}')\n"
   ]
  },
  {
   "cell_type": "code",
   "execution_count": 20,
   "id": "55cd3d50",
   "metadata": {},
   "outputs": [
    {
     "name": "stdout",
     "output_type": "stream",
     "text": [
      "Número total de pasajeros registrados en el titanic: 891\n"
     ]
    }
   ],
   "source": [
    "# Mostrar número total de pasajeros\n",
    "print(f'Número total de pasajeros registrados en el titanic: {len(df)}')\n"
   ]
  },
  {
   "cell_type": "code",
   "execution_count": null,
   "id": "e9e8a085",
   "metadata": {},
   "outputs": [],
   "source": []
  }
 ],
 "metadata": {
  "kernelspec": {
   "display_name": "forPandas",
   "language": "python",
   "name": "forpandas"
  },
  "language_info": {
   "codemirror_mode": {
    "name": "ipython",
    "version": 3
   },
   "file_extension": ".py",
   "mimetype": "text/x-python",
   "name": "python",
   "nbconvert_exporter": "python",
   "pygments_lexer": "ipython3",
   "version": "3.12.3"
  }
 },
 "nbformat": 4,
 "nbformat_minor": 5
}
