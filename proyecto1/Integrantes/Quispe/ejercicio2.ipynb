{
 "cells": [
  {
   "cell_type": "code",
   "execution_count": 5,
   "id": "3e3c12fc-0c0f-4ce2-a49d-b07199620ed6",
   "metadata": {},
   "outputs": [
    {
     "name": "stdout",
     "output_type": "stream",
     "text": [
      "[1 2]\n"
     ]
    }
   ],
   "source": [
    "# EJERCICIO 2\n",
    "# crea un vector de 10 elementos, siendo los impares 1 y los pares 2\n",
    "import numpy as np\n",
    "a=np.array([1,2])\n",
    "print(a)"
   ]
  },
  {
   "cell_type": "code",
   "execution_count": 6,
   "id": "7f4fe646-b8ae-4c62-adb8-e80ff719f15a",
   "metadata": {},
   "outputs": [
    {
     "name": "stdout",
     "output_type": "stream",
     "text": [
      "[1 2 1 2 1 2 1 2 1 2]\n"
     ]
    }
   ],
   "source": [
    "a_nuevo= np.tile(a,5)\n",
    "print (a_nuevo)"
   ]
  },
  {
   "cell_type": "code",
   "execution_count": 7,
   "id": "b77af6e4-0d57-4eaa-adbe-f609472d07f9",
   "metadata": {},
   "outputs": [
    {
     "name": "stdout",
     "output_type": "stream",
     "text": [
      "[[0 0 0 0 0 0 0 0]\n",
      " [0 0 0 0 0 0 0 0]\n",
      " [0 0 0 0 0 0 0 0]\n",
      " [0 0 0 0 0 0 0 0]\n",
      " [0 0 0 0 0 0 0 0]\n",
      " [0 0 0 0 0 0 0 0]\n",
      " [0 0 0 0 0 0 0 0]\n",
      " [0 0 0 0 0 0 0 0]]\n"
     ]
    }
   ],
   "source": [
    "# crea un \"tablero de ajedrez\" 8*8 con 1 en las casillas negras y 0 en las casillas blancas\n",
    "import numpy as np\n",
    "ajedrez = np.zeros((8,8),dtype=int)\n",
    "print(ajedrez)"
   ]
  },
  {
   "cell_type": "code",
   "execution_count": 8,
   "id": "e6fdfb4d-1260-4c32-904c-0528647f7bcf",
   "metadata": {},
   "outputs": [
    {
     "name": "stdout",
     "output_type": "stream",
     "text": [
      "[[0 1 0 1 0 1 0 1]\n",
      " [0 0 0 0 0 0 0 0]\n",
      " [0 1 0 1 0 1 0 1]\n",
      " [0 0 0 0 0 0 0 0]\n",
      " [0 1 0 1 0 1 0 1]\n",
      " [0 0 0 0 0 0 0 0]\n",
      " [0 1 0 1 0 1 0 1]\n",
      " [0 0 0 0 0 0 0 0]]\n"
     ]
    }
   ],
   "source": [
    "ajedrez[::2, 1::2]=1\n",
    "print(ajedrez)"
   ]
  },
  {
   "cell_type": "code",
   "execution_count": 9,
   "id": "24b0e71e-ebf9-423f-a594-a8b8f4a084e6",
   "metadata": {},
   "outputs": [
    {
     "name": "stdout",
     "output_type": "stream",
     "text": [
      "[[0 1 0 1 0 1 0 1]\n",
      " [1 0 1 0 1 0 1 0]\n",
      " [0 1 0 1 0 1 0 1]\n",
      " [1 0 1 0 1 0 1 0]\n",
      " [0 1 0 1 0 1 0 1]\n",
      " [1 0 1 0 1 0 1 0]\n",
      " [0 1 0 1 0 1 0 1]\n",
      " [1 0 1 0 1 0 1 0]]\n"
     ]
    }
   ],
   "source": [
    "ajedrez[1::2, ::2] = 1\n",
    "print(ajedrez)"
   ]
  },
  {
   "cell_type": "code",
   "execution_count": null,
   "id": "fbb59de5-01d6-484d-bf32-a03db6620e4f",
   "metadata": {},
   "outputs": [],
   "source": []
  }
 ],
 "metadata": {
  "kernelspec": {
   "display_name": "Python 3 (ipykernel)",
   "language": "python",
   "name": "python3"
  },
  "language_info": {
   "codemirror_mode": {
    "name": "ipython",
    "version": 3
   },
   "file_extension": ".py",
   "mimetype": "text/x-python",
   "name": "python",
   "nbconvert_exporter": "python",
   "pygments_lexer": "ipython3",
   "version": "3.12.3"
  }
 },
 "nbformat": 4,
 "nbformat_minor": 5
}
