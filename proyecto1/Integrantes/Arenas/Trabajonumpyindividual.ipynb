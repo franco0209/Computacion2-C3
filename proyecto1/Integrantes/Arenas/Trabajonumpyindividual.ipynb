{
 "cells": [
  {
   "cell_type": "markdown",
   "id": "02532ec6",
   "metadata": {},
   "source": [
    "  \n",
    "### Autor : Arenas Lopez Larry Stewart\n",
    "## NUMPY "
   ]
  },
  {
   "cell_type": "markdown",
   "id": "55af73f5",
   "metadata": {},
   "source": []
  },
  {
   "cell_type": "markdown",
   "id": "67acec87",
   "metadata": {},
   "source": [
    "\n",
    "#### Matriz unidimensional\n",
    "Con la primera instrucción import numpy as np le estamos indicando a nuestro\n",
    "programa de Python que de ahora en adelante np será la referencia para todo lo\n",
    "referente a NumPy."
   ]
  },
  {
   "cell_type": "code",
   "execution_count": 3,
   "id": "fb4a6313",
   "metadata": {},
   "outputs": [
    {
     "name": "stdout",
     "output_type": "stream",
     "text": [
      "[1 2 3]\n"
     ]
    }
   ],
   "source": [
    "import numpy as np\n",
    "a=np.array([1,2,3])\n",
    "print(a)"
   ]
  },
  {
   "cell_type": "markdown",
   "id": "928c1a0a",
   "metadata": {},
   "source": [
    "#### Matriz bidimensional"
   ]
  },
  {
   "cell_type": "code",
   "execution_count": 4,
   "id": "a613ae45",
   "metadata": {},
   "outputs": [
    {
     "name": "stdout",
     "output_type": "stream",
     "text": [
      "[[1 2 3]\n",
      " [4 5 6]]\n"
     ]
    }
   ],
   "source": [
    "b=np.array([(1,2,3),(4,5,6)])\n",
    "print(b)"
   ]
  },
  {
   "cell_type": "code",
   "execution_count": 5,
   "id": "be651218",
   "metadata": {},
   "outputs": [
    {
     "name": "stdout",
     "output_type": "stream",
     "text": [
      "[[1 2 3 4]\n",
      " [5 6 7 8]]\n"
     ]
    }
   ],
   "source": [
    "array=np.array([[1,2,3,4],[5,6,7,8]],dtype=np.int64)\n",
    "print(array)"
   ]
  },
  {
   "cell_type": "code",
   "execution_count": 6,
   "id": "79fbcceb",
   "metadata": {},
   "outputs": [
    {
     "name": "stdout",
     "output_type": "stream",
     "text": [
      "28000\n"
     ]
    }
   ],
   "source": [
    "import sys\n",
    "S=range(1000)\n",
    "print(sys.getsizeof(5)*len(S))"
   ]
  },
  {
   "cell_type": "code",
   "execution_count": 7,
   "id": "edbb1c23",
   "metadata": {},
   "outputs": [
    {
     "name": "stdout",
     "output_type": "stream",
     "text": [
      "8000\n"
     ]
    }
   ],
   "source": [
    "D=np.arange(1000)\n",
    "print(D.size*D.itemsize)"
   ]
  },
  {
   "cell_type": "code",
   "execution_count": 1,
   "id": "a5b40b0f",
   "metadata": {},
   "outputs": [
    {
     "name": "stdout",
     "output_type": "stream",
     "text": [
      "157.03225135803223\n"
     ]
    }
   ],
   "source": [
    "import time\n",
    "\n",
    "SIZE = 1000000\n",
    "\n",
    "L1=range(SIZE)\n",
    "L2=range(SIZE)\n",
    "\n",
    "start= time.time()\n",
    "result=[(x,y) for x,y in zip(L1,L2)] \n",
    "print((time.time()-start)*1000) "
   ]
  },
  {
   "cell_type": "code",
   "execution_count": 4,
   "id": "c58ce7d0-c7ce-471d-a143-efa21cf6b594",
   "metadata": {},
   "outputs": [
    {
     "name": "stdout",
     "output_type": "stream",
     "text": [
      "93.66822242736816\n"
     ]
    }
   ],
   "source": [
    "A1=np.arange(SIZE)\n",
    "A2=np.arange(SIZE)\n",
    "\n",
    "start=time.time()\n",
    "result=A1+A2                   \n",
    "print((time.time()-start)*1000)"
   ]
  },
  {
   "cell_type": "code",
   "execution_count": 5,
   "id": "12fe1c63-b56d-438b-82df-19cbd7c09505",
   "metadata": {},
   "outputs": [
    {
     "name": "stdout",
     "output_type": "stream",
     "text": [
      "[[1. 1. 1. 1.]\n",
      " [1. 1. 1. 1.]\n",
      " [1. 1. 1. 1.]]\n"
     ]
    }
   ],
   "source": [
    "unos= np.ones((3,4))\n",
    "print (unos)\n"
   ]
  },
  {
   "cell_type": "markdown",
   "id": "ba59f377-f8f8-4afe-9b41-7ed454d90e03",
   "metadata": {},
   "source": [
    "#### Crea una matriz de ceros - 3 filas 4 columanas\n"
   ]
  },
  {
   "cell_type": "code",
   "execution_count": 6,
   "id": "06b181b4-379f-4736-b957-55e4b1c1877d",
   "metadata": {},
   "outputs": [
    {
     "name": "stdout",
     "output_type": "stream",
     "text": [
      "[[0. 0. 0. 0.]\n",
      " [0. 0. 0. 0.]\n",
      " [0. 0. 0. 0.]]\n"
     ]
    }
   ],
   "source": [
    "ceros= np.zeros((3,4))\n",
    "print (ceros)"
   ]
  },
  {
   "cell_type": "markdown",
   "id": "c7dfdc10-bdca-409e-a4e9-93dc35020498",
   "metadata": {},
   "source": [
    "#### Crea una matriz con valores aleatorios\n"
   ]
  },
  {
   "cell_type": "code",
   "execution_count": 7,
   "id": "6d1d06dd-2c38-4fb2-88dd-5a6486311d97",
   "metadata": {},
   "outputs": [
    {
     "name": "stdout",
     "output_type": "stream",
     "text": [
      "[[0.27575199 0.47879095]\n",
      " [0.76520082 0.13040837]]\n"
     ]
    }
   ],
   "source": [
    "aleatorios=np.random.random((2,2))\n",
    "print(aleatorios)"
   ]
  },
  {
   "cell_type": "markdown",
   "id": "5dab4044-b614-4411-b12e-3123adab621e",
   "metadata": {},
   "source": [
    "#### Crear una matriz vacía\n"
   ]
  },
  {
   "cell_type": "code",
   "execution_count": 9,
   "id": "88634af7-5470-4c45-8c9d-69d6a28c9a23",
   "metadata": {},
   "outputs": [
    {
     "name": "stdout",
     "output_type": "stream",
     "text": [
      "[[4.66447376e-320 0.00000000e+000]\n",
      " [4.21572691e-297 6.72940615e-239]\n",
      " [1.27339630e-312 2.39010012e-253]]\n"
     ]
    }
   ],
   "source": [
    "vacia = np.empty((3,2))\n",
    "print (vacia)"
   ]
  },
  {
   "cell_type": "markdown",
   "id": "142eb54e-d8b9-4913-b420-ab1dcde8afc5",
   "metadata": {},
   "source": [
    "#### Crea una matriz con un solo valor\n"
   ]
  },
  {
   "cell_type": "code",
   "execution_count": 10,
   "id": "b2a4d877-8c65-4bd9-a563-2ec80a9aaae6",
   "metadata": {},
   "outputs": [
    {
     "name": "stdout",
     "output_type": "stream",
     "text": [
      "[[8 8]\n",
      " [8 8]]\n"
     ]
    }
   ],
   "source": [
    "full = np.full((2,2),8)\n",
    "print(full)"
   ]
  },
  {
   "cell_type": "markdown",
   "id": "9920cdf9-ac88-4113-b769-a33fddfdda84",
   "metadata": {},
   "source": [
    "#### Crea una matriz con valores esparcidos uniformemente "
   ]
  },
  {
   "cell_type": "code",
   "execution_count": 12,
   "id": "431a5e75-7cbd-4247-bec1-5906c3210968",
   "metadata": {},
   "outputs": [
    {
     "name": "stdout",
     "output_type": "stream",
     "text": [
      "[ 0  5 10 15 20 25]\n"
     ]
    }
   ],
   "source": [
    "espacio1 = np.arange(0,30,5)\n",
    "print(espacio1)"
   ]
  },
  {
   "cell_type": "code",
   "execution_count": 13,
   "id": "834e43a1-859e-4cc2-8cbc-8a22911f6661",
   "metadata": {},
   "outputs": [
    {
     "name": "stdout",
     "output_type": "stream",
     "text": [
      "[0.  0.5 1.  1.5 2. ]\n"
     ]
    }
   ],
   "source": [
    "espacio2 = np.linspace(0,2,5)\n",
    "print(espacio2)"
   ]
  },
  {
   "cell_type": "markdown",
   "id": "182f2f0e-d275-461e-8312-90180240dafa",
   "metadata": {},
   "source": [
    "#### Crear una matriz identidad"
   ]
  },
  {
   "cell_type": "code",
   "execution_count": 14,
   "id": "7e769706-7743-4147-a810-1c32c795bd92",
   "metadata": {},
   "outputs": [
    {
     "name": "stdout",
     "output_type": "stream",
     "text": [
      "[[1. 0. 0. 0.]\n",
      " [0. 1. 0. 0.]\n",
      " [0. 0. 1. 0.]\n",
      " [0. 0. 0. 1.]]\n",
      "[[1. 0. 0. 0.]\n",
      " [0. 1. 0. 0.]\n",
      " [0. 0. 1. 0.]\n",
      " [0. 0. 0. 1.]]\n"
     ]
    }
   ],
   "source": [
    "identidad1 = np.eye(4,4)\n",
    "print(identidad1)\n",
    "\n",
    "identidad2 = np.identity(4)\n",
    "print(identidad2)"
   ]
  },
  {
   "cell_type": "markdown",
   "id": "cce6a863-c16b-4aad-b7d2-13bd760fef4d",
   "metadata": {},
   "source": [
    "#### Conocer las dimensiones de una matriz\n"
   ]
  },
  {
   "cell_type": "code",
   "execution_count": 16,
   "id": "fa7be26e-3eda-4098-82f1-f61b19ed2df3",
   "metadata": {},
   "outputs": [
    {
     "name": "stdout",
     "output_type": "stream",
     "text": [
      "2\n"
     ]
    }
   ],
   "source": [
    "a = np.array([(1,2,3),(4,5,6)])\n",
    "\n",
    "print (a.ndim)"
   ]
  },
  {
   "cell_type": "markdown",
   "id": "1b452b87-1b6d-491b-9264-24325336804b",
   "metadata": {},
   "source": [
    "#### Conocer el tipo de los datos"
   ]
  },
  {
   "cell_type": "code",
   "execution_count": 17,
   "id": "dd5efef7-fd15-4e22-a7a1-0a94c5f8eaac",
   "metadata": {},
   "outputs": [
    {
     "name": "stdout",
     "output_type": "stream",
     "text": [
      "int64\n"
     ]
    }
   ],
   "source": [
    "print (a.dtype)"
   ]
  },
  {
   "cell_type": "markdown",
   "id": "c6d90cef-0b33-414d-9db7-ab70be4ebad0",
   "metadata": {},
   "source": [
    "#### Conocer el tamaño y forma de la matriz\n"
   ]
  },
  {
   "cell_type": "code",
   "execution_count": 19,
   "id": "5a2d4e72-4c2a-4134-8272-e0bd46435a40",
   "metadata": {},
   "outputs": [
    {
     "name": "stdout",
     "output_type": "stream",
     "text": [
      "6\n",
      "(1, 6)\n"
     ]
    }
   ],
   "source": [
    "a = np.array([(1,2,3,4,5,6)])\n",
    "\n",
    "print (a.size)\n",
    "print (a.shape)"
   ]
  },
  {
   "cell_type": "markdown",
   "id": "41193a41-8802-48a0-8f7c-af87a90b8d15",
   "metadata": {},
   "source": [
    "#### Cambio de forma de una matriz\n"
   ]
  },
  {
   "cell_type": "code",
   "execution_count": 20,
   "id": "64fdedbc-dbb4-4318-9281-d360636e035e",
   "metadata": {},
   "outputs": [
    {
     "name": "stdout",
     "output_type": "stream",
     "text": [
      "[[ 8  9 10]\n",
      " [11 12 13]]\n",
      "[[ 8  9]\n",
      " [10 11]\n",
      " [12 13]]\n"
     ]
    }
   ],
   "source": [
    "a = np.array([(8,9,10),(11,12,13)]) #2 filas x 3 culumnas\n",
    "print (a)\n",
    "a=a.reshape(3,2) # 3 filas x 2 columnas \n",
    "print(a)"
   ]
  },
  {
   "cell_type": "markdown",
   "id": "93845950-699b-426d-9cf8-9d8f7d985e1c",
   "metadata": {},
   "source": [
    "#### Extraer un solo valor de la matriz - el valor ubicado en la fila 0 columna 2\n"
   ]
  },
  {
   "cell_type": "code",
   "execution_count": 21,
   "id": "d19091ba-ddfb-43f8-b7b1-371a0a589861",
   "metadata": {},
   "outputs": [
    {
     "name": "stdout",
     "output_type": "stream",
     "text": [
      "3\n"
     ]
    }
   ],
   "source": [
    "a = np.array([(1,2,3,4),(3,4,5,6)])\n",
    "print (a[0,2])"
   ]
  },
  {
   "cell_type": "markdown",
   "id": "af9c1c20-5ea5-4ac4-a5dc-95aa5e300cd6",
   "metadata": {},
   "source": [
    "#### Extraer los valores de todas las filas ubicados en la columna 3 \n"
   ]
  },
  {
   "cell_type": "code",
   "execution_count": 22,
   "id": "739709d0-d4be-4d2e-ac19-87f96a7ad605",
   "metadata": {},
   "outputs": [
    {
     "name": "stdout",
     "output_type": "stream",
     "text": [
      "[3 5]\n"
     ]
    }
   ],
   "source": [
    "a = np.array([(1,2,3,4),(3,4,5,6)])\n",
    "print (a[0:,2])"
   ]
  },
  {
   "cell_type": "markdown",
   "id": "8898d83f-182d-4e5f-b9fe-e10f2a2e66a0",
   "metadata": {},
   "source": [
    "#### Encontrar el mínimo, máximo y la suma\n"
   ]
  },
  {
   "cell_type": "code",
   "execution_count": 23,
   "id": "7c5ea3dd-977b-423d-aaeb-6e206ef82307",
   "metadata": {},
   "outputs": [
    {
     "name": "stdout",
     "output_type": "stream",
     "text": [
      "2\n",
      "800\n",
      "847\n"
     ]
    }
   ],
   "source": [
    "a = np.array([(2,45,800)])\n",
    "print(a.min())\n",
    "print(a.max())\n",
    "print(a.sum())"
   ]
  },
  {
   "cell_type": "markdown",
   "id": "5525145e-077a-4435-82b8-3464e64f9e7d",
   "metadata": {},
   "source": [
    "#### Calcular la raíz cuadrada y la desviación estándar\n"
   ]
  },
  {
   "cell_type": "code",
   "execution_count": 24,
   "id": "1a817f78-22a8-4d07-9175-df1938326dc3",
   "metadata": {},
   "outputs": [
    {
     "name": "stdout",
     "output_type": "stream",
     "text": [
      "[[1.         2.         9.        ]\n",
      " [5.74456265 6.63324958 7.07106781]]\n",
      "27.5121185419565\n"
     ]
    }
   ],
   "source": [
    "a = np.array([(1,4,81),(33,44,50)])\n",
    "print(np.sqrt(a))\n",
    "print(np.std(a))"
   ]
  },
  {
   "cell_type": "markdown",
   "id": "c6554c58-3422-40e1-8c98-2e590095e005",
   "metadata": {},
   "source": [
    "#### Calcular la suma, resta, multiplicación y división de dos matrices\n"
   ]
  },
  {
   "cell_type": "code",
   "execution_count": null,
   "id": "f9521084-9535-4559-ba15-3671bf67285d",
   "metadata": {},
   "outputs": [],
   "source": [
    "x = np.array([(1,2,3),(3,4,5,)])\n",
    "y = np.array([(1,2,3),(3,4,5)])\n",
    "print(x+y)\n",
    "print()\n",
    "print(x-y)\n",
    "print()\n",
    "print(x*y)\n",
    "print()\n",
    "print(x/y)"
   ]
  },
  {
   "cell_type": "markdown",
   "id": "ff98531f-9281-4b3f-82b2-0a2044a61fb2",
   "metadata": {},
   "source": [
    "### EJERCICIOS"
   ]
  },
  {
   "cell_type": "markdown",
   "id": "207eb11b-a7b0-4143-ba81-c8cfd5122377",
   "metadata": {},
   "source": [
    "#### Cree una matriz de 5*5 con los valores  1,2,3,4 justo debajo de la diagonal\n"
   ]
  },
  {
   "cell_type": "code",
   "execution_count": 25,
   "id": "4eb73f19-64c1-40f3-b5d4-b174d0109c2a",
   "metadata": {},
   "outputs": [
    {
     "name": "stdout",
     "output_type": "stream",
     "text": [
      "[[0 0 0 0 0]\n",
      " [1 0 0 0 0]\n",
      " [0 2 0 0 0]\n",
      " [0 0 3 0 0]\n",
      " [0 0 0 4 0]]\n"
     ]
    }
   ],
   "source": [
    "import numpy as np\n",
    "a = np.diag(1+np.arange(4),k=-1)\n",
    "print(a)"
   ]
  },
  {
   "cell_type": "markdown",
   "id": "15c93b19-3c11-4e30-bd95-bd34d41bc42c",
   "metadata": {},
   "source": [
    "#### Crea un vector aleatorio de tamaño 30 y encuentra el valor medio\n"
   ]
  },
  {
   "cell_type": "code",
   "execution_count": 26,
   "id": "577f5a77-467b-4110-a556-343da7d7a504",
   "metadata": {},
   "outputs": [
    {
     "name": "stdout",
     "output_type": "stream",
     "text": [
      "0.5371220900694115\n"
     ]
    }
   ],
   "source": [
    "b = np.random.random(30)\n",
    "m = b.mean()\n",
    "print(m)"
   ]
  },
  {
   "cell_type": "markdown",
   "id": "cb3af587-a114-4c32-850e-bd219c837413",
   "metadata": {},
   "source": [
    "#### ¿Como ordenar una matriz por enecima colunma?\n"
   ]
  },
  {
   "cell_type": "code",
   "execution_count": 27,
   "id": "047ab342-3d64-447d-9416-7e7de3eb0ea1",
   "metadata": {},
   "outputs": [
    {
     "name": "stdout",
     "output_type": "stream",
     "text": [
      "[[9 2 9]\n",
      " [9 8 5]\n",
      " [3 1 2]]\n",
      "[[3 1 2]\n",
      " [9 2 9]\n",
      " [9 8 5]]\n"
     ]
    }
   ],
   "source": [
    "Z = np.random.randint(0,10,(3,3))\n",
    "print(Z)\n",
    "print(Z[Z[:,1].argsort()])"
   ]
  },
  {
   "cell_type": "markdown",
   "id": "96ba425d-675a-4961-8237-63384928187f",
   "metadata": {},
   "source": [
    "#### Como agregar un borde ( lleno de 0) alrededor de una matriz existente\n"
   ]
  },
  {
   "cell_type": "code",
   "execution_count": 28,
   "id": "d80315e2-4f98-4e14-b1a1-16b763324f55",
   "metadata": {},
   "outputs": [
    {
     "name": "stdout",
     "output_type": "stream",
     "text": [
      "[[0. 0. 0. 0. 0. 0. 0.]\n",
      " [0. 1. 1. 1. 1. 1. 0.]\n",
      " [0. 1. 1. 1. 1. 1. 0.]\n",
      " [0. 1. 1. 1. 1. 1. 0.]\n",
      " [0. 1. 1. 1. 1. 1. 0.]\n",
      " [0. 1. 1. 1. 1. 1. 0.]\n",
      " [0. 0. 0. 0. 0. 0. 0.]]\n"
     ]
    }
   ],
   "source": [
    "Z = np.ones((5,5))\n",
    "Z = np.pad(Z, pad_width=1, mode='constant', constant_values=0)\n",
    "print(Z)"
   ]
  }
 ],
 "metadata": {
  "kernelspec": {
   "display_name": "Python 3 (ipykernel)",
   "language": "python",
   "name": "python3"
  },
  "language_info": {
   "codemirror_mode": {
    "name": "ipython",
    "version": 3
   },
   "file_extension": ".py",
   "mimetype": "text/x-python",
   "name": "python",
   "nbconvert_exporter": "python",
   "pygments_lexer": "ipython3",
   "version": "3.11.2"
  }
 },
 "nbformat": 4,
 "nbformat_minor": 5
}
