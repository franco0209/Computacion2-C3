{
 "cells": [
  {
   "cell_type": "code",
   "execution_count": 1,
   "id": "a5d3abd3",
   "metadata": {},
   "outputs": [
    {
     "name": "stdout",
     "output_type": "stream",
     "text": [
      "[1 2 3]\n"
     ]
    }
   ],
   "source": [
    "import numpy as np \n",
    "a=np.array([1,2,3])\n",
    "print(a)"
   ]
  },
  {
   "cell_type": "code",
   "execution_count": 2,
   "id": "585a52f0",
   "metadata": {},
   "outputs": [
    {
     "name": "stdout",
     "output_type": "stream",
     "text": [
      "[[1 2 3]\n",
      " [4 5 6]]\n"
     ]
    }
   ],
   "source": [
    "# matriz bidimensional \n",
    "b=np.array([(1,2,3),(4,5,6)])\n",
    "print(b)"
   ]
  },
  {
   "cell_type": "code",
   "execution_count": 5,
   "id": "56fb37e6",
   "metadata": {},
   "outputs": [
    {
     "name": "stdout",
     "output_type": "stream",
     "text": [
      "[[1 2 3 4]\n",
      " [5 6 7 8]]\n"
     ]
    }
   ],
   "source": [
    "array=np.array ([[1,2,3,4], [5,6,7,8]], dtype=np.int64)\n",
    "print (array)"
   ]
  },
  {
   "cell_type": "code",
   "execution_count": 6,
   "id": "4d0fcaea",
   "metadata": {},
   "outputs": [
    {
     "name": "stdout",
     "output_type": "stream",
     "text": [
      "28000\n"
     ]
    }
   ],
   "source": [
    "# POR QUE USAR NUMPY\n",
    "# Cantidad de memoria asignada \n",
    "import sys \n",
    "S=range(1000)\n",
    "print(sys.getsizeof(5)*len(S))"
   ]
  },
  {
   "cell_type": "code",
   "execution_count": null,
   "id": "3ddc8c11",
   "metadata": {},
   "outputs": [],
   "source": [
    "D=np"
   ]
  }
 ],
 "metadata": {
  "kernelspec": {
   "display_name": "Python 3 (ipykernel)",
   "language": "python",
   "name": "python3"
  },
  "language_info": {
   "codemirror_mode": {
    "name": "ipython",
    "version": 3
   },
   "file_extension": ".py",
   "mimetype": "text/x-python",
   "name": "python",
   "nbconvert_exporter": "python",
   "pygments_lexer": "ipython3",
   "version": "3.11.2"
  }
 },
 "nbformat": 4,
 "nbformat_minor": 5
}
