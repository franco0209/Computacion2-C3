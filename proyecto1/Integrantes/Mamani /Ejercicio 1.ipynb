{
 "cells": [
  {
   "cell_type": "code",
   "execution_count": 1,
   "id": "a2f275ee",
   "metadata": {},
   "outputs": [
    {
     "ename": "SyntaxError",
     "evalue": "invalid syntax (1850105665.py, line 1)",
     "output_type": "error",
     "traceback": [
      "\u001b[0;36m  Cell \u001b[0;32mIn [1], line 1\u001b[0;36m\u001b[0m\n\u001b[0;31m    import numpy np\u001b[0m\n\u001b[0m                 ^\u001b[0m\n\u001b[0;31mSyntaxError\u001b[0m\u001b[0;31m:\u001b[0m invalid syntax\n"
     ]
    }
   ],
   "source": [
    "import numpy np\n",
    "array1 = np.zeros ((7,8), dtype=int)print (array1)"
   ]
  },
  {
   "cell_type": "code",
   "execution_count": 2,
   "id": "6788ccba",
   "metadata": {},
   "outputs": [
    {
     "ename": "SyntaxError",
     "evalue": "invalid syntax (3528770401.py, line 2)",
     "output_type": "error",
     "traceback": [
      "\u001b[0;36m  Cell \u001b[0;32mIn [2], line 2\u001b[0;36m\u001b[0m\n\u001b[0;31m    array 1 = np.zeros ((7,8), dtype=int)\u001b[0m\n\u001b[0m          ^\u001b[0m\n\u001b[0;31mSyntaxError\u001b[0m\u001b[0;31m:\u001b[0m invalid syntax\n"
     ]
    }
   ],
   "source": [
    "import numpy as np\n",
    "array 1 = np.zeros ((7,8), dtype=int)\n",
    "print (\"Array 7*8 lleno de ceros de tipo entero :\")\n",
    "print (array1)"
   ]
  },
  {
   "cell_type": "code",
   "execution_count": 3,
   "id": "0280dfc3",
   "metadata": {},
   "outputs": [
    {
     "name": "stdout",
     "output_type": "stream",
     "text": [
      "Array 7x8 lleno de ceros de tipo entero:\n",
      "[[0 0 0 0 0 0 0 0]\n",
      " [0 0 0 0 0 0 0 0]\n",
      " [0 0 0 0 0 0 0 0]\n",
      " [0 0 0 0 0 0 0 0]\n",
      " [0 0 0 0 0 0 0 0]\n",
      " [0 0 0 0 0 0 0 0]\n",
      " [0 0 0 0 0 0 0 0]]\n",
      "\n",
      "Array 7x8 lleno de ceros salvo la primera fila que serán todo unos:\n",
      "[[1 1 1 1 1 1 1 1]\n",
      " [0 0 0 0 0 0 0 0]\n",
      " [0 0 0 0 0 0 0 0]\n",
      " [0 0 0 0 0 0 0 0]\n",
      " [0 0 0 0 0 0 0 0]\n",
      " [0 0 0 0 0 0 0 0]\n",
      " [0 0 0 0 0 0 0 0]]\n",
      "\n",
      "Array 7x8 lleno de ceros salvo la última fila que será el rango entre 5 y 12:\n",
      "[[ 0  0  0  0  0  0  0  0]\n",
      " [ 0  0  0  0  0  0  0  0]\n",
      " [ 0  0  0  0  0  0  0  0]\n",
      " [ 0  0  0  0  0  0  0  0]\n",
      " [ 0  0  0  0  0  0  0  0]\n",
      " [ 0  0  0  0  0  0  0  0]\n",
      " [ 5  6  7  8  9 10 11 12]]\n"
     ]
    }
   ],
   "source": [
    "import numpy as np\n",
    "\n",
    "# 1. Array 7x8 lleno de ceros de tipo entero\n",
    "array1 = np.zeros((7, 8), dtype=int)\n",
    "print(\"Array 7x8 lleno de ceros de tipo entero:\")\n",
    "print(array1)\n",
    "\n",
    "# 2. Array 7x8 lleno de ceros salvo la primera fila que serán todo unos\n",
    "array2 = np.zeros((7, 8), dtype=int)\n",
    "array2[0, :] = 1\n",
    "print(\"\\nArray 7x8 lleno de ceros salvo la primera fila que serán todo unos:\")\n",
    "print(array2)\n",
    "\n",
    "# 3. Array 7x8 lleno de ceros salvo la última fila que será el rango entre 5 y 12\n",
    "array3 = np.zeros((7, 8), dtype=int)\n",
    "array3[-1, :] = np.arange(5, 13)\n",
    "print(\"\\nArray 7x8 lleno de ceros salvo la última fila que será el rango entre 5 y 12:\")\n",
    "print(array3)\n"
   ]
  },
  {
   "cell_type": "code",
   "execution_count": null,
   "id": "921cb4fa",
   "metadata": {},
   "outputs": [],
   "source": []
  }
 ],
 "metadata": {
  "kernelspec": {
   "display_name": "Python 3 (ipykernel)",
   "language": "python",
   "name": "python3"
  },
  "language_info": {
   "codemirror_mode": {
    "name": "ipython",
    "version": 3
   },
   "file_extension": ".py",
   "mimetype": "text/x-python",
   "name": "python",
   "nbconvert_exporter": "python",
   "pygments_lexer": "ipython3",
   "version": "3.11.2"
  }
 },
 "nbformat": 4,
 "nbformat_minor": 5
}
