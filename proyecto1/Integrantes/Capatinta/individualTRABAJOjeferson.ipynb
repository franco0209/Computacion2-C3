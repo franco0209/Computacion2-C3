{
 "cells": [
  {
   "cell_type": "code",
   "execution_count": null,
   "id": "465a0144-b25f-44d5-9c80-df34af1a1a46",
   "metadata": {},
   "outputs": [],
   "source": [
    "# UNIVERSIDAD  NACIONAL DE SAN AGUSTIN DE AREQUIPA \n",
    "# ALUMNO: Capatinta Garate Yeferson Jose "
   ]
  },
  {
   "cell_type": "code",
   "execution_count": 3,
   "id": "29649ce8-27d6-4a1e-b277-cbd155eda05f",
   "metadata": {},
   "outputs": [
    {
     "name": "stdout",
     "output_type": "stream",
     "text": [
      "[1 2 3]\n"
     ]
    }
   ],
   "source": [
    "# MATRIZ UNIDIMECIONAL\n",
    "import numpy as np\n",
    "a=np.array([1,2,3])\n",
    "print(a)"
   ]
  },
  {
   "cell_type": "code",
   "execution_count": 2,
   "id": "c4f2c6be-5d22-45c6-bff0-5d828177369e",
   "metadata": {},
   "outputs": [
    {
     "name": "stdout",
     "output_type": "stream",
     "text": [
      "[[1 2 3]\n",
      " [4 5 6]]\n"
     ]
    }
   ],
   "source": [
    "# MATRIZ BIDIMENCIONAL\n",
    "b=np.array([(1,2,3),(4,5,6)])\n",
    "print (b)"
   ]
  },
  {
   "cell_type": "code",
   "execution_count": 4,
   "id": "97c17ff8-3ea7-42a7-89b7-4c8a28b64b27",
   "metadata": {},
   "outputs": [
    {
     "name": "stdout",
     "output_type": "stream",
     "text": [
      "[[1 2 3 4]\n",
      " [5 6 7 8]]\n"
     ]
    }
   ],
   "source": [
    "array=np.array([(1,2,3,4),(5,6,7,8)], dtype=np.int64)\n",
    "print(array)"
   ]
  },
  {
   "cell_type": "code",
   "execution_count": null,
   "id": "dfc58536-fc14-4e7d-96f3-694d4a87cfdc",
   "metadata": {},
   "outputs": [],
   "source": [
    "# PORQUE USAR NUMPY"
   ]
  },
  {
   "cell_type": "code",
   "execution_count": 5,
   "id": "c2d9d908-0821-46dc-96ec-fc668965650b",
   "metadata": {},
   "outputs": [
    {
     "name": "stdout",
     "output_type": "stream",
     "text": [
      "28000\n"
     ]
    }
   ],
   "source": [
    "# cantidad de memoria asignada\n",
    "import sys\n",
    "s=range(1000)\n",
    "print (sys.getsizeof(5)*len(s))"
   ]
  },
  {
   "cell_type": "code",
   "execution_count": 6,
   "id": "7946d016-7bc6-4d9f-a7be-1fa490a4da67",
   "metadata": {},
   "outputs": [
    {
     "name": "stdout",
     "output_type": "stream",
     "text": [
      "4000\n"
     ]
    }
   ],
   "source": [
    "D=np.arange(1000)\n",
    "print(D.size*D.itemsize)"
   ]
  },
  {
   "cell_type": "code",
   "execution_count": 7,
   "id": "b8591fe9-af59-4260-b71c-0be9ab3baffd",
   "metadata": {},
   "outputs": [
    {
     "name": "stdout",
     "output_type": "stream",
     "text": [
      "537.161111831665\n"
     ]
    }
   ],
   "source": [
    "# velocidad\n",
    "import time\n",
    "\n",
    "SIZE = 1000000\n",
    "\n",
    "L1=range(SIZE)\n",
    "L2=range(SIZE)\n",
    "\n",
    "start= time.time()\n",
    "result=[(x,y) for x,y in zip(L1,L2)] \n",
    "print((time.time()-start)*1000) "
   ]
  },
  {
   "cell_type": "code",
   "execution_count": 8,
   "id": "1c57b0d4-d125-41f3-b592-71dcccfc1914",
   "metadata": {},
   "outputs": [
    {
     "name": "stdout",
     "output_type": "stream",
     "text": [
      "186.35964393615723\n"
     ]
    }
   ],
   "source": [
    "A1=np.arange(SIZE)\n",
    "A2=np.arange(SIZE)\n",
    "\n",
    "start=time.time()\n",
    "result=A1+A2                    #solo se suma\n",
    "print((time.time()-start)*1000) #velocidad de numpy"
   ]
  },
  {
   "cell_type": "code",
   "execution_count": null,
   "id": "db83e0aa-24d2-45fb-a945-ab1d2dd3133d",
   "metadata": {},
   "outputs": [],
   "source": [
    "# MATRICES VACIAS "
   ]
  },
  {
   "cell_type": "code",
   "execution_count": 9,
   "id": "c72a0218-430a-4c4c-a5eb-50aeaa41259d",
   "metadata": {},
   "outputs": [
    {
     "name": "stdout",
     "output_type": "stream",
     "text": [
      "[[1. 1. 1. 1.]\n",
      " [1. 1. 1. 1.]\n",
      " [1. 1. 1. 1.]]\n"
     ]
    }
   ],
   "source": [
    "#crea una matriz de unos - 3 filas 4 columanas\n",
    "unos= np.ones((3,4))\n",
    "print (unos)"
   ]
  },
  {
   "cell_type": "code",
   "execution_count": 10,
   "id": "54705f2c-420d-4750-a096-c7ab9217470b",
   "metadata": {},
   "outputs": [
    {
     "name": "stdout",
     "output_type": "stream",
     "text": [
      "[[0. 0. 0. 0.]\n",
      " [0. 0. 0. 0.]\n",
      " [0. 0. 0. 0.]]\n"
     ]
    }
   ],
   "source": [
    "#crea una matriz de ceros - 3 filas 4 columanas\n",
    "ceros= np.zeros((3,4))\n",
    "print (ceros)"
   ]
  },
  {
   "cell_type": "code",
   "execution_count": 11,
   "id": "0360ae40-bb0a-46b3-8f9a-052c0f19b3ef",
   "metadata": {},
   "outputs": [
    {
     "name": "stdout",
     "output_type": "stream",
     "text": [
      "[[0.40863643 0.97563818]\n",
      " [0.93387532 0.81262847]]\n"
     ]
    }
   ],
   "source": [
    "#Crea una matriz con valores aleatorios\n",
    "aleatorios=np.random.random((2,2))\n",
    "print(aleatorios)"
   ]
  },
  {
   "cell_type": "code",
   "execution_count": 12,
   "id": "10c7d280-0be5-4c4b-8402-d591db82aec6",
   "metadata": {},
   "outputs": [
    {
     "name": "stdout",
     "output_type": "stream",
     "text": [
      "[[-9.17579026e-312 -1.09138288e+044]\n",
      " [ 9.17567112e-312  9.17567112e-312]\n",
      " [ 1.03753786e-322  1.72922976e-322]]\n"
     ]
    }
   ],
   "source": [
    "#Crear una matriz vacía\n",
    "vacia = np.empty((3,2))\n",
    "print (vacia)"
   ]
  },
  {
   "cell_type": "code",
   "execution_count": 14,
   "id": "52d3a8cb-e51a-4fc2-86f6-cd210f2d2251",
   "metadata": {},
   "outputs": [
    {
     "name": "stdout",
     "output_type": "stream",
     "text": [
      "[[8 8]\n",
      " [8 8]]\n"
     ]
    }
   ],
   "source": [
    "#Crea una matriz con un solo valor\n",
    "full = np.full((2,2),8)\n",
    "print(full)"
   ]
  },
  {
   "cell_type": "code",
   "execution_count": 16,
   "id": "7850c928-15cc-4ccd-9846-f82b71b783a3",
   "metadata": {},
   "outputs": [
    {
     "name": "stdout",
     "output_type": "stream",
     "text": [
      "[ 0  5 10 15 20 25]\n"
     ]
    }
   ],
   "source": [
    "#Crea una matriz con valores esparcidos uniformemente \n",
    "espacio1 = np.arange(0,30,5)\n",
    "print(espacio1)"
   ]
  },
  {
   "cell_type": "code",
   "execution_count": 17,
   "id": "cd1452cb-0528-4b3c-a33f-13c504d5ab18",
   "metadata": {},
   "outputs": [
    {
     "name": "stdout",
     "output_type": "stream",
     "text": [
      "[0.  0.5 1.  1.5 2. ]\n"
     ]
    }
   ],
   "source": [
    "espacio2 = np.linspace(0,2,5)\n",
    "print(espacio2)"
   ]
  },
  {
   "cell_type": "code",
   "execution_count": 18,
   "id": "c45bd919-e5b0-4ac8-a7af-e24e2ec72feb",
   "metadata": {},
   "outputs": [
    {
     "name": "stdout",
     "output_type": "stream",
     "text": [
      "[[1. 0. 0. 0.]\n",
      " [0. 1. 0. 0.]\n",
      " [0. 0. 1. 0.]\n",
      " [0. 0. 0. 1.]]\n",
      "[[1. 0. 0. 0.]\n",
      " [0. 1. 0. 0.]\n",
      " [0. 0. 1. 0.]\n",
      " [0. 0. 0. 1.]]\n"
     ]
    }
   ],
   "source": [
    "#Crear una matriz identidad\n",
    "identidad1 = np.eye(4,4)\n",
    "print(identidad1)\n",
    "\n",
    "identidad2 = np.identity(4)\n",
    "print(identidad2)"
   ]
  },
  {
   "cell_type": "code",
   "execution_count": null,
   "id": "30fea528-344f-4429-b992-959e27842f75",
   "metadata": {},
   "outputs": [],
   "source": [
    "# INSPECCIONAR LAS MATRICES DE NUMPY"
   ]
  },
  {
   "cell_type": "code",
   "execution_count": 19,
   "id": "c2852c19-9ad8-497d-a281-0220a46c4e01",
   "metadata": {},
   "outputs": [
    {
     "name": "stdout",
     "output_type": "stream",
     "text": [
      "2\n"
     ]
    }
   ],
   "source": [
    "# Conocer las dimensiones de una matriz\n",
    "a = np.array([(1,2,3),(4,5,6)])\n",
    "\n",
    "print (a.ndim)"
   ]
  },
  {
   "cell_type": "code",
   "execution_count": 20,
   "id": "5b8afbc8-51ba-4710-af1a-02943dd35f88",
   "metadata": {},
   "outputs": [
    {
     "name": "stdout",
     "output_type": "stream",
     "text": [
      "int32\n"
     ]
    }
   ],
   "source": [
    "# Conocer el tipo de los datos\n",
    "print (a.dtype)"
   ]
  },
  {
   "cell_type": "code",
   "execution_count": 21,
   "id": "c5364564-d812-412a-adac-7630b3d1759f",
   "metadata": {},
   "outputs": [
    {
     "name": "stdout",
     "output_type": "stream",
     "text": [
      "6\n",
      "(1, 6)\n"
     ]
    }
   ],
   "source": [
    "# Conocer el tamaño y forma de la matriz\n",
    "a = np.array([(1,2,3,4,5,6)])\n",
    "\n",
    "print (a.size)\n",
    "print (a.shape)"
   ]
  },
  {
   "cell_type": "code",
   "execution_count": 23,
   "id": "ce75c38e-f909-4bea-bbf3-ba7c4ce5592f",
   "metadata": {},
   "outputs": [
    {
     "name": "stdout",
     "output_type": "stream",
     "text": [
      "[[ 8  9 10]\n",
      " [11 12 13]]\n",
      "[[ 8  9]\n",
      " [10 11]\n",
      " [12 13]]\n"
     ]
    }
   ],
   "source": [
    "# Cambio de forma de una matriz\n",
    "a = np.array([(8,9,10),(11,12,13)]) #2 filas x 3 culumnas\n",
    "print (a)\n",
    "a=a.reshape(3,2) # 3 filas x 2 columnas \n",
    "print(a)"
   ]
  },
  {
   "cell_type": "code",
   "execution_count": 24,
   "id": "fa7efb64-d404-4c4d-b8d1-e882742a2fef",
   "metadata": {},
   "outputs": [
    {
     "name": "stdout",
     "output_type": "stream",
     "text": [
      "3\n"
     ]
    }
   ],
   "source": [
    "# Extraer un solo valor de la matriz - el valor ubicado en la fila 0 columna 2\n",
    "a = np.array([(1,2,3,4),(3,4,5,6)])\n",
    "print (a[0,2])"
   ]
  },
  {
   "cell_type": "code",
   "execution_count": 25,
   "id": "4975c957-84a0-4d17-b8cd-1c1457c4a441",
   "metadata": {},
   "outputs": [
    {
     "name": "stdout",
     "output_type": "stream",
     "text": [
      "[3 5]\n"
     ]
    }
   ],
   "source": [
    "# Extraer los valores de todas las filas ubicados en la columna 3 \n",
    "a = np.array([(1,2,3,4),(3,4,5,6)])\n",
    "print (a[0:,2])"
   ]
  },
  {
   "cell_type": "code",
   "execution_count": 26,
   "id": "7b75cf6c-0499-4e22-8050-8d33b0be475f",
   "metadata": {},
   "outputs": [],
   "source": [
    "# OPERACIONES MATEMATICAS ENTRE MATRICES DE NUMPY"
   ]
  },
  {
   "cell_type": "code",
   "execution_count": 27,
   "id": "5bf363f8-ea66-4d7a-818d-9430b8479041",
   "metadata": {},
   "outputs": [
    {
     "name": "stdout",
     "output_type": "stream",
     "text": [
      "2\n",
      "800\n",
      "847\n"
     ]
    }
   ],
   "source": [
    "# Encontrar el mínimo, máximo y la suma\n",
    "a = np.array([(2,45,800)])\n",
    "print(a.min())\n",
    "print(a.max())\n",
    "print(a.sum())"
   ]
  },
  {
   "cell_type": "code",
   "execution_count": 28,
   "id": "2a4eb6b5-fe84-4dc7-9e05-f8cebb152816",
   "metadata": {},
   "outputs": [
    {
     "name": "stdout",
     "output_type": "stream",
     "text": [
      "[[1.         2.         9.        ]\n",
      " [5.74456265 6.63324958 7.07106781]]\n",
      "27.5121185419565\n"
     ]
    }
   ],
   "source": [
    "# Calcular la raíz cuadrada y la desviación estándar\n",
    "a = np.array([(1,4,81),(33,44,50)])\n",
    "print(np.sqrt(a))\n",
    "print(np.std(a))"
   ]
  },
  {
   "cell_type": "code",
   "execution_count": 29,
   "id": "f7c77d6a-8c26-4ea2-9947-123907d9bd05",
   "metadata": {},
   "outputs": [
    {
     "name": "stdout",
     "output_type": "stream",
     "text": [
      "[[ 2  4  6]\n",
      " [ 6  8 10]]\n",
      "\n",
      "[[0 0 0]\n",
      " [0 0 0]]\n",
      "\n",
      "[[ 1  4  9]\n",
      " [ 9 16 25]]\n",
      "\n",
      "[[1. 1. 1.]\n",
      " [1. 1. 1.]]\n"
     ]
    }
   ],
   "source": [
    "# Calcular la suma, resta, multiplicación y división de dos matrices\n",
    "x = np.array([(1,2,3),(3,4,5,)])\n",
    "y = np.array([(1,2,3),(3,4,5)])\n",
    "print(x+y)\n",
    "print()\n",
    "print(x-y)\n",
    "print()\n",
    "print(x*y)\n",
    "print()\n",
    "print(x/y)"
   ]
  },
  {
   "cell_type": "code",
   "execution_count": 30,
   "id": "5cd6c612-8853-4d2d-b646-00dee7f613cb",
   "metadata": {},
   "outputs": [],
   "source": [
    "# EJEMPLOS "
   ]
  },
  {
   "cell_type": "code",
   "execution_count": 31,
   "id": "8f6b7031-fc62-41cf-b2c1-a9ebbd665422",
   "metadata": {},
   "outputs": [
    {
     "name": "stdout",
     "output_type": "stream",
     "text": [
      "[[0 0 0 0 0]\n",
      " [1 0 0 0 0]\n",
      " [0 2 0 0 0]\n",
      " [0 0 3 0 0]\n",
      " [0 0 0 4 0]]\n"
     ]
    }
   ],
   "source": [
    "# 1.cree una matriz de 5*5 con los valores  1,2,3,4 justodebajo de la diagonal\n",
    "import numpy as np\n",
    "a = np.diag(1+np.arange(4),k=-1)\n",
    "print(a)"
   ]
  },
  {
   "cell_type": "code",
   "execution_count": 32,
   "id": "a2f24f16-dc50-4f97-b3e0-e4d83eddb5a4",
   "metadata": {},
   "outputs": [
    {
     "name": "stdout",
     "output_type": "stream",
     "text": [
      "0.5653549516408591\n"
     ]
    }
   ],
   "source": [
    "# 2. crea un vector aleatorio de tamaño 30 y encuentra el valor medio\n",
    "b = np.random.random(30)\n",
    "m = b.mean()\n",
    "print(m)"
   ]
  },
  {
   "cell_type": "code",
   "execution_count": 33,
   "id": "e9ab7740-b89d-4429-a6e4-77dac5fcc739",
   "metadata": {},
   "outputs": [
    {
     "name": "stdout",
     "output_type": "stream",
     "text": [
      "[[6 6 4]\n",
      " [3 6 7]\n",
      " [9 9 1]]\n",
      "[[6 6 4]\n",
      " [3 6 7]\n",
      " [9 9 1]]\n"
     ]
    }
   ],
   "source": [
    "# 3. ¿como ordenar una matriz por enecima colunma?\n",
    "Z = np.random.randint(0,10,(3,3))\n",
    "print(Z)\n",
    "print(Z[Z[:,1].argsort()])"
   ]
  },
  {
   "cell_type": "code",
   "execution_count": 34,
   "id": "a94cfae3-4a50-490a-b3a1-87868b781ded",
   "metadata": {},
   "outputs": [
    {
     "name": "stdout",
     "output_type": "stream",
     "text": [
      "[[0. 0. 0. 0. 0. 0. 0.]\n",
      " [0. 1. 1. 1. 1. 1. 0.]\n",
      " [0. 1. 1. 1. 1. 1. 0.]\n",
      " [0. 1. 1. 1. 1. 1. 0.]\n",
      " [0. 1. 1. 1. 1. 1. 0.]\n",
      " [0. 1. 1. 1. 1. 1. 0.]\n",
      " [0. 0. 0. 0. 0. 0. 0.]]\n"
     ]
    }
   ],
   "source": [
    "# 4. como agregar un borde ( lleno de 0) alrededor de una matriz existente\n",
    "Z = np.ones((5,5))\n",
    "Z = np.pad(Z, pad_width=1, mode='constant', constant_values=0)\n",
    "print(Z)"
   ]
  }
 ],
 "metadata": {
  "kernelspec": {
   "display_name": "Python 3 (ipykernel)",
   "language": "python",
   "name": "python3"
  },
  "language_info": {
   "codemirror_mode": {
    "name": "ipython",
    "version": 3
   },
   "file_extension": ".py",
   "mimetype": "text/x-python",
   "name": "python",
   "nbconvert_exporter": "python",
   "pygments_lexer": "ipython3",
   "version": "3.12.3"
  }
 },
 "nbformat": 4,
 "nbformat_minor": 5
}
