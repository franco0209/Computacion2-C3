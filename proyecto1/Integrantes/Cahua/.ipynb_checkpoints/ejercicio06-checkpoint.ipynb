{
 "cells": [
  {
   "cell_type": "markdown",
   "id": "52caf99a",
   "metadata": {},
   "source": [
    "#### Ejercicio 06\n"
   ]
  },
  {
   "cell_type": "markdown",
   "id": "f2679fb0",
   "metadata": {},
   "source": [
    "<img src=\"https://i.ibb.co/PG56QTF/ej6.png\"  alt=\"Texto alternativo\" style=\"width: 300px; height: 300 px;\"/>\n"
   ]
  },
  {
   "cell_type": "code",
   "execution_count": 8,
   "id": "baa00d83",
   "metadata": {},
   "outputs": [],
   "source": [
    "import numpy as np\n",
    "\n",
    "def reemplazar(matrizOriginal,numero,numeroReemplazar):\n",
    "    for i in range(matrizOriginal.shape[0]):\n",
    "        for j in range(matrizOriginal.shape[1]):\n",
    "            if matrizOriginal[i][j]==numero:\n",
    "                try:\n",
    "                    for k in range(i-1,i+2):\n",
    "                        for l in range(j-1,j+2):\n",
    "                            matrizOriginal[k][l]=0\n",
    "                    matrizOriginal[i][j]=numeroReemplazar\n",
    "                except e:\n",
    "                    continue\n",
    "    return matrizOriginal"
   ]
  },
  {
   "cell_type": "code",
   "execution_count": 10,
   "id": "c083a5e3",
   "metadata": {},
   "outputs": [
    {
     "data": {
      "text/plain": [
       "array([[ 55.,  93.,  96.,  62.,  89., 106.],\n",
       "       [146.,  50., 113.,  42.,  68., 140.],\n",
       "       [110., 134.,  23., 117.,  71.,  28.],\n",
       "       [ 41., 119.,  32.,  86., 109.,  72.],\n",
       "       [ 24.,  86., 127.,  52.,  50.,  90.],\n",
       "       [136., 105., 132., 100.,  82.,  66.]])"
      ]
     },
     "execution_count": 10,
     "metadata": {},
     "output_type": "execute_result"
    }
   ],
   "source": [
    "m= np.zeros((6,6))\n",
    "for i in range(m.shape[0]):\n",
    "    for j in range(m.shape[1]):\n",
    "        m[i][j]=np.random.randint(20, 150)\n",
    "m[1][1]=50\n",
    "m[4][4]=50\n",
    "m"
   ]
  },
  {
   "cell_type": "code",
   "execution_count": 11,
   "id": "4bdd05a6",
   "metadata": {},
   "outputs": [
    {
     "data": {
      "text/plain": [
       "array([[  0.,   0.,   0.,  62.,  89., 106.],\n",
       "       [  0., 255.,   0.,  42.,  68., 140.],\n",
       "       [  0.,   0.,   0., 117.,  71.,  28.],\n",
       "       [ 41., 119.,  32.,   0.,   0.,   0.],\n",
       "       [ 24.,  86., 127.,   0., 255.,   0.],\n",
       "       [136., 105., 132.,   0.,   0.,   0.]])"
      ]
     },
     "execution_count": 11,
     "metadata": {},
     "output_type": "execute_result"
    }
   ],
   "source": [
    "reemplazar(m,50,255)"
   ]
  },
  {
   "cell_type": "code",
   "execution_count": null,
   "id": "f134e5d9",
   "metadata": {},
   "outputs": [],
   "source": []
  }
 ],
 "metadata": {
  "kernelspec": {
   "display_name": "Python 3 (ipykernel)",
   "language": "python",
   "name": "python3"
  },
  "language_info": {
   "codemirror_mode": {
    "name": "ipython",
    "version": 3
   },
   "file_extension": ".py",
   "mimetype": "text/x-python",
   "name": "python",
   "nbconvert_exporter": "python",
   "pygments_lexer": "ipython3",
   "version": "3.11.2"
  }
 },
 "nbformat": 4,
 "nbformat_minor": 5
}
