{
 "cells": [
  {
   "cell_type": "code",
   "execution_count": null,
   "id": "2bf15d80-f1ca-41f7-b998-8f11fabad3b5",
   "metadata": {},
   "outputs": [],
   "source": [
    "# EJERCCIO 4\n",
    "# de la siguente matriz"
   ]
  },
  {
   "cell_type": "markdown",
   "id": "580666ae-9270-400d-a6d3-eb22ceeed3c1",
   "metadata": {},
   "source": [
    "<img src=\"https://user-images.githubusercontent.com/19308295/115969506-dbbc4b00-a502-11eb-9c76-c9da265c5366.png\"\n",
    "    style=\"width:400px\"></img>"
   ]
  },
  {
   "cell_type": "code",
   "execution_count": 1,
   "id": "b185ff51-8c89-4ef7-ab74-560bc0ff9559",
   "metadata": {},
   "outputs": [
    {
     "name": "stdout",
     "output_type": "stream",
     "text": [
      "[[9 9 9 9 9]\n",
      " [9 0 0 0 9]\n",
      " [9 0 1 0 9]\n",
      " [9 0 0 0 9]\n",
      " [9 9 9 9 9]]\n"
     ]
    }
   ],
   "source": [
    "# luego invertir lo valores de 9 y 1 de la matriz anterior\n",
    "import numpy as np\n",
    "\n",
    "matriz2=np.array([[1,1,1,1,1],[1,0,0,0,1],[1,0,9,0,1],[1,0,0,0,1],[1,1,1,1,1]])\n",
    "\n",
    " \n",
    "for i in range(0, 5):\n",
    "    for j in range(0, 5):\n",
    "        valor = matriz2[i][j]\n",
    "        if valor == 9:\n",
    "            matriz2[i][j] = 1\n",
    "        if valor == 1:\n",
    "            matriz2[i][j] = 9\n",
    " \n",
    "print(matriz2)"
   ]
  },
  {
   "cell_type": "code",
   "execution_count": null,
   "id": "2de03bfd-cd46-41b3-bd73-c5823f53cd8d",
   "metadata": {},
   "outputs": [],
   "source": []
  },
  {
   "cell_type": "code",
   "execution_count": null,
   "id": "02aa54b9-f32b-431b-97d6-4909dd97c708",
   "metadata": {},
   "outputs": [],
   "source": []
  }
 ],
 "metadata": {
  "kernelspec": {
   "display_name": "Python 3 (ipykernel)",
   "language": "python",
   "name": "python3"
  },
  "language_info": {
   "codemirror_mode": {
    "name": "ipython",
    "version": 3
   },
   "file_extension": ".py",
   "mimetype": "text/x-python",
   "name": "python",
   "nbconvert_exporter": "python",
   "pygments_lexer": "ipython3",
   "version": "3.12.3"
  }
 },
 "nbformat": 4,
 "nbformat_minor": 5
}
