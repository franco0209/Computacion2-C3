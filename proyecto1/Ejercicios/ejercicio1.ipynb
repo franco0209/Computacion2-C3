{
 "cells": [
  {
   "cell_type": "markdown",
   "id": "834832e3",
   "metadata": {},
   "source": [
    "<center> <h1>Universidad Nacional de San Agustín de Arequipa</h1> </center> \n",
    "<center> <h1>Escuela Profesional de Ingeniería de Telecomunicaciones</h1> </center> \n",
    "\n",
    "<center> <h1> </h1> </center> \n",
    "\n",
    "<center><img src=\"https://user-images.githubusercontent.com/19308295/115939517-f1c6fe80-a463-11eb-989c-812ab4942586.png\" width=\"380\" height=\"4200\"></center>\n",
    "<center> <h2>Ingeniero Renzo Bolivar - Docente DAIE</h2> </center> \n",
    "<center> <h1>Curso : Computación 2</h1> </center> \n",
    "\n",
    "## <font color=#33A5FF>****EJERCICIOS****<tfont>"
   ]
  },
  {
   "cell_type": "code",
   "execution_count": 2,
   "id": "a2f275ee",
   "metadata": {},
   "outputs": [
    {
     "name": "stdout",
     "output_type": "stream",
     "text": [
      "[[0 0 0 0 0 0 0 0]\n",
      " [0 0 0 0 0 0 0 0]\n",
      " [0 0 0 0 0 0 0 0]\n",
      " [0 0 0 0 0 0 0 0]\n",
      " [0 0 0 0 0 0 0 0]\n",
      " [0 0 0 0 0 0 0 0]\n",
      " [0 0 0 0 0 0 0 0]]\n"
     ]
    }
   ],
   "source": [
    "import numpy as np\n",
    "#Crear un array 7x8 lleno de ceros de tipo entero.\n",
    "\n",
    "array1 = np.zeros ((7,8), dtype=int)\n",
    "print (array1)"
   ]
  },
  {
   "cell_type": "code",
   "execution_count": 3,
   "id": "6788ccba",
   "metadata": {},
   "outputs": [
    {
     "name": "stdout",
     "output_type": "stream",
     "text": [
      "Array 7*8 lleno de ceros que serán unos :\n",
      "[[1 1 1 1 1 1 1 1]\n",
      " [0 0 0 0 0 0 0 0]\n",
      " [0 0 0 0 0 0 0 0]\n",
      " [0 0 0 0 0 0 0 0]\n",
      " [0 0 0 0 0 0 0 0]\n",
      " [0 0 0 0 0 0 0 0]\n",
      " [0 0 0 0 0 0 0 0]]\n"
     ]
    }
   ],
   "source": [
    "#Crear un array 7x8 lleno de ceros salvo la primera fila que serán todo unos.\n",
    "\n",
    "array2 = np.zeros ((7,8), dtype=int)\n",
    "print(\"Array 7*8 lleno de ceros que serán unos :\")\n",
    "for i in range(8):\n",
    "    array2[0][i]=1  \n",
    "print(array2)"
   ]
  },
  {
   "cell_type": "code",
   "execution_count": 11,
   "id": "0280dfc3",
   "metadata": {},
   "outputs": [
    {
     "name": "stdout",
     "output_type": "stream",
     "text": [
      "[[0 0 0 0 0 0 0 0]\n",
      " [0 0 0 0 0 0 0 0]\n",
      " [0 0 0 0 0 0 0 0]\n",
      " [0 0 0 0 0 0 0 0]\n",
      " [0 0 0 0 0 0 0 0]\n",
      " [0 0 0 0 0 0 0 0]\n",
      " [5 6 6 5 7 7 8 7]]\n"
     ]
    }
   ],
   "source": [
    "# Crear un array 7x8 lleno de ceros salvo la última fila que será el rango entre 5 y 8.\n",
    "\n",
    "array3 = np.zeros((7, 8), dtype=int)\n",
    "for i in range(8):\n",
    "    random_integer = np.random.randint(5, 9)\n",
    "    array3[6][i]=random_integer\n",
    "print(array3)"
   ]
  }
 ],
 "metadata": {
  "kernelspec": {
   "display_name": "Python 3 (ipykernel)",
   "language": "python",
   "name": "python3"
  },
  "language_info": {
   "codemirror_mode": {
    "name": "ipython",
    "version": 3
   },
   "file_extension": ".py",
   "mimetype": "text/x-python",
   "name": "python",
   "nbconvert_exporter": "python",
   "pygments_lexer": "ipython3",
   "version": "3.12.3"
  }
 },
 "nbformat": 4,
 "nbformat_minor": 5
}
