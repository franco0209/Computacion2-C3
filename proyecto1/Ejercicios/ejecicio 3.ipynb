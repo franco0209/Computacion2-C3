{
 "cells": [
  {
   "cell_type": "markdown",
   "metadata": {},
   "source": [
    "<center> <h1>Universidad Nacional de San Agustín de Arequipa</h1> </center> \n",
    "<center> <h1>Escuela Profesional de Ingeniería de Telecomunicaciones</h1> </center> \n",
    "\n",
    "<center> <h1> </h1> </center> \n",
    "\n",
    "<center><img src=\"https://user-images.githubusercontent.com/19308295/115939517-f1c6fe80-a463-11eb-989c-812ab4942586.png\" width=\"380\" height=\"4200\"></center>"
   ]
  },
  {
   "cell_type": "markdown",
   "metadata": {},
   "source": [
    "<center> <h2>Ingeniero Renzo Bolivar - Docente DAIE</h2> </center> "
   ]
  },
  {
   "cell_type": "markdown",
   "metadata": {},
   "source": [
    "<center> <h1>Curso : Computación 2</h1> </center> "
   ]
  },
  {
   "cell_type": "markdown",
   "metadata": {},
   "source": [
    "![linea 1](https://user-images.githubusercontent.com/19308295/115926252-2b8a0c00-a448-11eb-9d9c-b43beaf0ff68.png)"
   ]
  },
  {
   "cell_type": "markdown",
   "metadata": {},
   "source": [
    "## <font color=#33A5FF>****EJERCICIOS****<tfont>"
   ]
  },
  {
   "cell_type": "markdown",
   "metadata": {},
   "source": [
    "<center> <h2>Ejercicio 03</h2> </center> "
   ]
  },
  {
   "cell_type": "markdown",
   "metadata": {},
   "source": [
    "* Crea una matriz aleatoria 7x7 y halla los valores mínimo y máximo.\n",
    "* Normaliza la matriz anterior entre 0 y 1."
   ]
  },
  {
   "cell_type": "code",
   "execution_count": 29,
   "metadata": {},
   "outputs": [
    {
     "name": "stdout",
     "output_type": "stream",
     "text": [
      "[[23 39 52 12 59 37  9]\n",
      " [18 68 33 28 24 20  4]\n",
      " [18 41 11 28 18 64 25]\n",
      " [58 15 64 42 50 54 29]\n",
      " [59 40  9 12 46 24 31]\n",
      " [30 50 25 63 60 19  4]\n",
      " [29 66 17 41 32 18 17]]\n",
      "El valor maximo es 4\n",
      "El valor minimo es 68\n",
      "La sumatoria es 1635\n",
      "RECUERDEN ESTO VARIA POR QUE ES ALEATORIO\n"
     ]
    }
   ],
   "source": [
    "#primera forma\n",
    "jk =np.random.randint(1,69,(7,7))\n",
    "\n",
    "print(jk)\n",
    "\n",
    "print(\"El valor maximo es\",jk.min())\n",
    "\n",
    "print(\"El valor minimo es\",jk.max())\n",
    "\n",
    "print(\"La sumatoria es\",jk.sum())\n",
    "\n",
    "\n",
    "print(\"RECUERDEN ESTO VARIA POR QUE ES ALEATORIO\")"
   ]
  },
  {
   "cell_type": "code",
   "execution_count": 30,
   "metadata": {},
   "outputs": [
    {
     "name": "stdout",
     "output_type": "stream",
     "text": [
      "[[0.66889445 0.20609812 0.3260299  0.18111685 0.12735078 0.77164101\n",
      "  0.66301846]\n",
      " [0.29204685 0.08189635 0.25647247 0.41483518 0.72470429 0.06943087\n",
      "  0.48582028]\n",
      " [0.38643093 0.03848486 0.00616512 0.8607093  0.85575278 0.83339463\n",
      "  0.67064781]\n",
      " [0.71118585 0.08636015 0.8803446  0.0749743  0.31024772 0.66691879\n",
      "  0.68562422]\n",
      " [0.44692502 0.96298914 0.5368981  0.1680106  0.35116027 0.42489463\n",
      "  0.65866481]\n",
      " [0.99850978 0.08963412 0.32604063 0.33829401 0.34570106 0.38531853\n",
      "  0.84046454]\n",
      " [0.92234657 0.21745742 0.87405791 0.11154821 0.87268998 0.96644718\n",
      "  0.15042682]]\n",
      "El valor maximo es 0.006165115497474782\n",
      "El valor minimo es 0.9985097817406966\n",
      "La sumatoria es 23.32507624983618\n",
      "RECUERDEN ESTO VARIA POR QUE ES ALEATORIO\n"
     ]
    }
   ],
   "source": [
    "#segunda forma\n",
    "al =np.random.random((7,7))\n",
    "\n",
    "print(al)\n",
    "\n",
    "print(\"El valor maximo es\",al.min())\n",
    "\n",
    "print(\"El valor minimo es\",al.max())\n",
    "\n",
    "print(\"La sumatoria es\",al.sum())\n",
    "\n",
    "\n",
    "print(\"RECUERDEN ESTO VARIA POR QUE ES ALEATORIO\")\n"
   ]
  },
  {
   "cell_type": "markdown",
   "metadata": {},
   "source": [
    "![linea 1](https://user-images.githubusercontent.com/19308295/115926252-2b8a0c00-a448-11eb-9d9c-b43beaf0ff68.png)"
   ]
  }
 ],
 "metadata": {
  "kernelspec": {
   "display_name": "Python 3 (ipykernel)",
   "language": "python",
   "name": "python3"
  },
  "language_info": {
   "codemirror_mode": {
    "name": "ipython",
    "version": 3
   },
   "file_extension": ".py",
   "mimetype": "text/x-python",
   "name": "python",
   "nbconvert_exporter": "python",
   "pygments_lexer": "ipython3",
   "version": "3.8.16"
  }
 },
 "nbformat": 4,
 "nbformat_minor": 4
}
