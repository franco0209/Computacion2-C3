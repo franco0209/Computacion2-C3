{
  "cells": [
    {
      "cell_type": "markdown",
      "metadata": {
        "id": "lqWJvYQtMxPo"
      },
      "source": [
        "<center> <h1>Universidad Nacional de San Agustín de Arequipa</h1> </center>\n",
        "<center> <h1>Escuela Profesional de Ingeniería de Telecomunicaciones</h1> </center>\n",
        "\n",
        "<center> <h1> </h1> </center>\n",
        "\n",
        "<center><img src=\"https://user-images.githubusercontent.com/19308295/115939517-f1c6fe80-a463-11eb-989c-812ab4942586.png\" width=\"380\" height=\"4200\"></center>"
      ]
    },
    {
      "cell_type": "markdown",
      "metadata": {
        "id": "Qq1ZJZyWMYPW"
      },
      "source": [
        "<center> <h1>Ingeniero Renzo Bolivar - Docente DAIE</h1> </center>"
      ]
    },
    {
      "cell_type": "markdown",
      "metadata": {
        "id": "jeMVDI0aMoL2"
      },
      "source": [
        "<center> <h1>Computación 2</h1> </center>"
      ]
    },
    {
      "cell_type": "markdown",
      "metadata": {
        "id": "rj1y9IMpMoW-"
      },
      "source": [
        "<center> <h1>Yeferson José Capatinta Gárate</h1> </center>"
      ]
    },
    {
      "cell_type": "markdown",
      "metadata": {
        "id": "vyDlSxG8MxPr"
      },
      "source": [
        "![linea 1](https://user-images.githubusercontent.com/19308295/115926252-2b8a0c00-a448-11eb-9d9c-b43beaf0ff68.png)"
      ]
    },
    {
      "cell_type": "markdown",
      "metadata": {
        "id": "RCg_N99oMxPr"
      },
      "source": [
        "<center> <h1>PANDAS</h1> </center>"
      ]
    },
    {
      "cell_type": "markdown",
      "metadata": {
        "id": "02nVdJdqMxPr"
      },
      "source": [
        "![linea 1](https://user-images.githubusercontent.com/19308295/115926252-2b8a0c00-a448-11eb-9d9c-b43beaf0ff68.png)"
      ]
    },
    {
      "cell_type": "markdown",
      "metadata": {
        "id": "vWYDcXr1MxPr"
      },
      "source": [
        "# Descripción:"
      ]
    },
    {
      "cell_type": "markdown",
      "metadata": {
        "id": "RgGo3256MxPr"
      },
      "source": [
        "<div class=\"alert alert-info\">\n",
        "\n",
        "En este notebook se explicarán la librería **Pandas** escrita como extensión de **NumPy** para la manipulación y análisis de datos en el lenguaje de programación Python.\n",
        "    \n",
        "</div>\n",
        "\n"
      ]
    },
    {
      "cell_type": "markdown",
      "metadata": {
        "id": "1OF2QAO5MxPs"
      },
      "source": [
        "# Objetivos:\n",
        "\n",
        " 1. Familiarizarce con creación de la estructura de tabla de datos **DataFrame.**\n",
        " 2. Manejo inicial de un **DataFrame.**\n",
        " 3. Importando archivos ***csv*** y manipulación inicial en **Pandas.**"
      ]
    },
    {
      "cell_type": "markdown",
      "metadata": {
        "id": "JBlaw3h5MxPs"
      },
      "source": [
        "\n",
        "[1. Limpieza de Datos](#1.-Limpieza-de-Datos)<br>\n",
        "[2. Frecuencia Simple de Datos](#2.-Frecuencia-Simple-de-Datos)<br>\n",
        "[3. Archivo csv \"NBA\" y Funciones de busqueda](#3.-Archivo-csv-\"NBA\"-y-Funciones-de-busqueda)<br>\n",
        "[4. Análisis de Datos y Visualización](#4.-Análisis-de-Datos-y-Visualización)<br>\n",
        "\n",
        "[EJERCICIOS](#EJERCICIOS)<br>\n",
        "[BIBLIOGRAFÍA](#BIBLIOGRAFÍA)<br>"
      ]
    },
    {
      "cell_type": "markdown",
      "metadata": {
        "id": "7sNccCHhMxPs"
      },
      "source": [
        "![linea 1](https://user-images.githubusercontent.com/19308295/115926252-2b8a0c00-a448-11eb-9d9c-b43beaf0ff68.png)"
      ]
    },
    {
      "cell_type": "markdown",
      "metadata": {
        "id": "9JMusQ9iMxPs"
      },
      "source": [
        "![640px-Pandas_logo svg](https://user-images.githubusercontent.com/19308295/119273971-1b925300-bbd3-11eb-9705-fa3a404af0e1.png)"
      ]
    },
    {
      "cell_type": "markdown",
      "metadata": {
        "id": "OGbynZR9MxPs"
      },
      "source": [
        "![linea 2](https://user-images.githubusercontent.com/19308295/115926262-2fb62980-a448-11eb-8189-c2f10e499944.png)"
      ]
    },
    {
      "cell_type": "markdown",
      "metadata": {
        "id": "LhQYZZC1MxQF"
      },
      "source": [
        "## <font color=#33A5FF>****EJERCICIOS****<tfont>"
      ]
    },
    {
      "cell_type": "markdown",
      "metadata": {
        "id": "ygyMnbmVMxQI"
      },
      "source": [
        "### Ejercicio 4"
      ]
    },
    {
      "cell_type": "markdown",
      "metadata": {
        "id": "30iNmvPCMxQI"
      },
      "source": [
        "<div class=\"well\">Visualizar el <strong>nombre del/(los) estudiante(s) </strong> que deben viajar mas de <strong>01 hora</strong> dato que se puede ubicar en la columna <strong>traveltime</strong>, desde el archivo <code>student-mat.csv</code> (Carpeta <code>data_ejercicios </code> ) debera visualizar por pantalla <strong>todos los datos de dicho(s) alumno(s)</strong> y adicionalmente guardar la información en el archivo <code>student-travel.csv</code>.\n",
        "\n",
        "\n",
        "</div>"
      ]
    },
    {
      "cell_type": "code",
      "execution_count": null,
      "metadata": {
        "id": "PBxgQm42MU-4"
      },
      "outputs": [],
      "source": [
        "import numpy as np\n",
        "import pandas as pd\n",
        "import plotly.express as px\n",
        "import warnings\n",
        "warnings.simplefilter(action='ignore', category=FutureWarning)"
      ]
    },
    {
      "cell_type": "code",
      "execution_count": null,
      "metadata": {
        "id": "24ytjbk0MU-4"
      },
      "outputs": [],
      "source": [
        "df = pd.read_csv('data_ejercicios/student-mat.csv')"
      ]
    },
    {
      "cell_type": "code",
      "execution_count": null,
      "metadata": {
        "id": "4PjOoglMMU-4"
      },
      "outputs": [],
      "source": [
        "tabla = df.loc[(df['traveltime'] > 1), ['traveltime']]"
      ]
    },
    {
      "cell_type": "code",
      "execution_count": null,
      "metadata": {
        "id": "hLD5P97EMU-4",
        "outputId": "a7707b87-9ffb-4240-c126-c7ce1cd8eb8f"
      },
      "outputs": [
        {
          "data": {
            "text/html": [
              "<div>\n",
              "<style scoped>\n",
              "    .dataframe tbody tr th:only-of-type {\n",
              "        vertical-align: middle;\n",
              "    }\n",
              "\n",
              "    .dataframe tbody tr th {\n",
              "        vertical-align: top;\n",
              "    }\n",
              "\n",
              "    .dataframe thead th {\n",
              "        text-align: right;\n",
              "    }\n",
              "</style>\n",
              "<table border=\"1\" class=\"dataframe\">\n",
              "  <thead>\n",
              "    <tr style=\"text-align: right;\">\n",
              "      <th></th>\n",
              "      <th>traveltime</th>\n",
              "    </tr>\n",
              "  </thead>\n",
              "  <tbody>\n",
              "    <tr>\n",
              "      <th>0</th>\n",
              "      <td>2</td>\n",
              "    </tr>\n",
              "    <tr>\n",
              "      <th>7</th>\n",
              "      <td>2</td>\n",
              "    </tr>\n",
              "    <tr>\n",
              "      <th>11</th>\n",
              "      <td>3</td>\n",
              "    </tr>\n",
              "    <tr>\n",
              "      <th>13</th>\n",
              "      <td>2</td>\n",
              "    </tr>\n",
              "    <tr>\n",
              "      <th>17</th>\n",
              "      <td>3</td>\n",
              "    </tr>\n",
              "    <tr>\n",
              "      <th>...</th>\n",
              "      <td>...</td>\n",
              "    </tr>\n",
              "    <tr>\n",
              "      <th>385</th>\n",
              "      <td>2</td>\n",
              "    </tr>\n",
              "    <tr>\n",
              "      <th>386</th>\n",
              "      <td>3</td>\n",
              "    </tr>\n",
              "    <tr>\n",
              "      <th>389</th>\n",
              "      <td>2</td>\n",
              "    </tr>\n",
              "    <tr>\n",
              "      <th>391</th>\n",
              "      <td>2</td>\n",
              "    </tr>\n",
              "    <tr>\n",
              "      <th>393</th>\n",
              "      <td>3</td>\n",
              "    </tr>\n",
              "  </tbody>\n",
              "</table>\n",
              "<p>138 rows × 1 columns</p>\n",
              "</div>"
            ],
            "text/plain": [
              "     traveltime\n",
              "0             2\n",
              "7             2\n",
              "11            3\n",
              "13            2\n",
              "17            3\n",
              "..          ...\n",
              "385           2\n",
              "386           3\n",
              "389           2\n",
              "391           2\n",
              "393           3\n",
              "\n",
              "[138 rows x 1 columns]"
            ]
          },
          "execution_count": 18,
          "metadata": {},
          "output_type": "execute_result"
        }
      ],
      "source": [
        "tabla"
      ]
    },
    {
      "cell_type": "markdown",
      "metadata": {
        "id": "80glEW4pMxQK"
      },
      "source": [
        "![linea 2](https://user-images.githubusercontent.com/19308295/115926262-2fb62980-a448-11eb-8189-c2f10e499944.png)"
      ]
    },
    {
      "cell_type": "markdown",
      "metadata": {
        "id": "UI7kcYq0MxQK"
      },
      "source": [
        "## <font color=#33A5FF>****BIBLIOGRAFÍA****<tfont>"
      ]
    },
    {
      "cell_type": "markdown",
      "metadata": {
        "id": "GU1qFl8OMxQM"
      },
      "source": [
        "[1] Guía de pandas oficial https://pandas.pydata.org/docs/user_guide/index.html\n",
        "\n",
        "[2] Python Pandas Tutorial: A Complete Introduction for Beginners https://bit.ly/2AQMQld\n",
        "\n",
        "[3] Guía para pandas https://pybonacci.org/2014/05/30/pandas-i/\n",
        "\n",
        "[4] Dataset variados https://www.kaggle.com/datasets"
      ]
    },
    {
      "cell_type": "markdown",
      "metadata": {
        "id": "f4cX0KHpMxQN"
      },
      "source": [
        "![linea 1](https://user-images.githubusercontent.com/19308295/115926252-2b8a0c00-a448-11eb-9d9c-b43beaf0ff68.png)"
      ]
    }
  ],
  "metadata": {
    "kernelspec": {
      "display_name": "Python 3",
      "language": "python",
      "name": "python3"
    },
    "language_info": {
      "codemirror_mode": {
        "name": "ipython",
        "version": 3
      },
      "file_extension": ".py",
      "mimetype": "text/x-python",
      "name": "python",
      "nbconvert_exporter": "python",
      "pygments_lexer": "ipython3",
      "version": "3.8.8"
    },
    "colab": {
      "provenance": []
    }
  },
  "nbformat": 4,
  "nbformat_minor": 0
}